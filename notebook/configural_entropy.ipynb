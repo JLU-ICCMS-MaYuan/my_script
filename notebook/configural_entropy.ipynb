{
 "cells": [
  {
   "cell_type": "code",
   "execution_count": null,
   "metadata": {},
   "outputs": [],
   "source": [
    "import math\n",
    "\n",
    "def multinary_alloy(total_atom_number):\n",
    "\n",
    "    xA = float(input(\"xA=\"))\n",
    "    xB = 1 - xA\n",
    "    print(\"xA={:<12.8f}, xB={:<12.8f}\".format(xA, xB))\n",
    "    kB = 8.6173324e-5 #eV/K\n",
    "\n",
    "    Sconf_PerAtom = - kB * (xA * math.log(xA) + xB * math.log(xB))\n",
    "    print(\"So entropy is {:<12.8f} eV/K\".format(Sconf_PerAtom))\n",
    "    print(\"{:<10} {:<12} {:<12} {:<12}\".format(\"T\", \"dH\", \"TS\", \"dG\"), file=dG_file)\n",
    "    for T in range(0, 3100, 50):\n",
    "        ts_item = T*Sconf_PerAtom \n",
    "        print(\"{:<10} {:<12.8f} {:<12.8f} {:<12.8f}\".format(T, dH, ts_item, dG), file=dG_file)\n",
    "\n"
   ]
  }
 ],
 "metadata": {
  "language_info": {
   "name": "python"
  }
 },
 "nbformat": 4,
 "nbformat_minor": 2
}
