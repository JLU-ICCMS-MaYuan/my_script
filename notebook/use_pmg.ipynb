{
 "cells": [
  {
   "cell_type": "markdown",
   "metadata": {},
   "source": [
    "# Try to get all hydrogens around metal atoms about a conventional cell"
   ]
  },
  {
   "cell_type": "code",
   "execution_count": 97,
   "metadata": {},
   "outputs": [
    {
     "name": "stdout",
     "output_type": "stream",
     "text": [
      "defaultdict(<class 'int'>, {'Ca': 24.0, 'Y': 24.0})\n"
     ]
    }
   ],
   "source": [
    "from pymatgen.core.structure import Structure\n",
    "from pymatgen.symmetry.analyzer import SpacegroupAnalyzer\n",
    "from collections import defaultdict\n",
    "# pmg_struct = Structure.from_file(\"/home/mayuan/mycode/my_script/test/clathrate/CaH6.vasp\")\n",
    "# pmg_struct = Structure.from_file(\"/home/mayuan/mycode/my_script/test/clathrate/LaH10.vasp\")\n",
    "# pmg_struct = Structure.from_file(\"/home/mayuan/mycode/my_script/test/clathrate/LaBH8.vasp\")\n",
    "# pmg_struct = Structure.from_file(\"/home/mayuan/mycode/my_script/test/clathrate/Li2MgH16.vasp\")\n",
    "# pmg_struct = Structure.from_file(\"/home/mayuan/mycode/my_script/test/clathrate/ScH9.vasp\")\n",
    "pmg_struct = Structure.from_file(\"/home/mayuan/mycode/my_script/test/clathrate/CaYH12.vasp\")\n",
    "# for site in pmg_struct.sites:\n",
    "#     print(site)\n",
    "center_indices, points_indices, images, distances = pmg_struct.get_neighbor_list(\n",
    "    r=2.2, sites=pmg_struct.sites, numerical_tol=1e-8\n",
    ")\n",
    "big_cage = defaultdict(int)\n",
    "for center, points, imgs, dist in zip(center_indices, points_indices, images, distances):\n",
    "    if str(pmg_struct.sites[center].specie) != \"H\" and 1.7 <= dist <= 2.2 :\n",
    "        big_cage[str(pmg_struct.sites[center].specie)] += 1\n",
    "\n",
    "small_cage = defaultdict(int)\n",
    "for center, points, imgs, dist in zip(center_indices, points_indices, images, distances):\n",
    "    if str(pmg_struct.sites[center].specie) != \"H\" and 1.3 <= dist <= 1.8 :\n",
    "        small_cage[str(pmg_struct.sites[center].specie)] += 1\n",
    "\n",
    "el_amt = pmg_struct.composition.get_el_amt_dict()\n",
    "\n",
    "amounts = {}\n",
    "specie_without_H = list(el_amt.keys())\n",
    "specie_without_H.remove(\"H\")\n",
    "for key in specie_without_H:\n",
    "    from_big_cage = big_cage.get(key, 0)\n",
    "    from_small_cage = small_cage.get(key, 0)\n",
    "    if from_big_cage > from_small_cage:\n",
    "        amounts[key] = from_big_cage\n",
    "    else:\n",
    "        amounts[key] = from_small_cage\n",
    "    \n",
    "Hcage = defaultdict(int)\n",
    "for key, value in amounts.items():\n",
    "    if key in list(el_amt.keys()):\n",
    "        around = value / el_amt[key]\n",
    "        Hcage[key] = around\n",
    "\n",
    "print(Hcage)"
   ]
  },
  {
   "cell_type": "code",
   "execution_count": 87,
   "metadata": {},
   "outputs": [
    {
     "name": "stdout",
     "output_type": "stream",
     "text": [
      "defaultdict(<class 'float'>, {'Li': 16.0, 'Mg': 8.0, 'H': 128.0})\n"
     ]
    },
    {
     "data": {
      "text/plain": [
       "['Li', 'Mg']"
      ]
     },
     "execution_count": 87,
     "metadata": {},
     "output_type": "execute_result"
    }
   ],
   "source": [
    "el_amt = pmg_struct.composition.get_el_amt_dict()\n",
    "print(el_amt)\n",
    "specie_without_H = list(el_amt.keys())\n",
    "specie_without_H.remove(\"H\")\n",
    "specie_without_H"
   ]
  },
  {
   "cell_type": "markdown",
   "metadata": {},
   "source": [
    "# Count the amount of a specie in a cell"
   ]
  },
  {
   "cell_type": "code",
   "execution_count": 88,
   "metadata": {},
   "outputs": [
    {
     "data": {
      "text/plain": [
       "(Comp: Li2 Mg1 H16, 8)"
      ]
     },
     "execution_count": 88,
     "metadata": {},
     "output_type": "execute_result"
    }
   ],
   "source": [
    "from pymatgen.core.structure import Structure\n",
    "pmg_struct = Structure.from_file(\"/home/mayuan/mycode/my_script/test/clathrate/Li2MgH16.vasp\")\n",
    "pmg_struct.composition.to_data_dict\n",
    "# {\n",
    "#   'reduced_cell_composition': Comp: Li2 Mg1 H16,\n",
    "#   'unit_cell_composition': defaultdict(float,\n",
    "#              {'Li': 16.0, 'Mg': 8.0, 'H': 128.0}),\n",
    "#   'reduced_cell_formula': 'Li2MgH16',\n",
    "#   'elements': ['Li', 'Mg', 'H'],\n",
    "#   'nelements': 3\n",
    "# }\n",
    "pmg_struct.composition.num_atoms            # get amounts of all atoms\n",
    "pmg_struct.composition.alphabetical_formula # 'H128 Li16 Mg8'\n",
    "pmg_struct.composition.anonymized_formula   # 'AB2C16'\n",
    "pmg_struct.composition.iupac_formula        # 'Li16 Mg8 H128'\n",
    "pmg_struct.composition.chemical_system      # 'H-Li-Mg'\n",
    "pmg_struct.composition.elements             # [Element Li, Element Mg, Element H]\n",
    "pmg_struct.composition.special_formulas     #{\n",
    "                                            #     'LiO': 'Li2O2',\n",
    "                                            #     'NaO': 'Na2O2',\n",
    "                                            #     'KO': 'K2O2',\n",
    "                                            #     'HO': 'H2O2',\n",
    "                                            #     'CsO': 'Cs2O2',\n",
    "                                            #     'RbO': 'Rb2O2',\n",
    "                                            #     'O': 'O2',\n",
    "                                            #     'N': 'N2',\n",
    "                                            #     'F': 'F2',\n",
    "                                            #     'Cl': 'Cl2',\n",
    "                                            #     'H': 'H2'\n",
    "                                            # }\n",
    "pmg_struct.composition.get_el_amt_dict()                    # defaultdict(float, {'Li': 16.0, 'Mg': 8.0, 'H': 128.0})\n",
    "pmg_struct.composition.get_integer_formula_and_factor()     # ('Li2MgH16', 8.0)\n",
    "pmg_struct.composition.get_reduced_composition_and_factor() # (Comp: Li2 Mg1 H16, 8)\n"
   ]
  },
  {
   "cell_type": "code",
   "execution_count": null,
   "metadata": {},
   "outputs": [],
   "source": []
  }
 ],
 "metadata": {
  "kernelspec": {
   "display_name": "Python 3.9.13 ('cage')",
   "language": "python",
   "name": "python3"
  },
  "language_info": {
   "codemirror_mode": {
    "name": "ipython",
    "version": 3
   },
   "file_extension": ".py",
   "mimetype": "text/x-python",
   "name": "python",
   "nbconvert_exporter": "python",
   "pygments_lexer": "ipython3",
   "version": "3.9.13"
  },
  "orig_nbformat": 4,
  "vscode": {
   "interpreter": {
    "hash": "7ba8fcba698922fc36f591f3e78f7f8e097da488f481926d513235e57923a5a0"
   }
  }
 },
 "nbformat": 4,
 "nbformat_minor": 2
}
