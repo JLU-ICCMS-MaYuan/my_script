{
 "cells": [
  {
   "cell_type": "markdown",
   "metadata": {},
   "source": [
    "## Try to get all hydrogens around metal atoms about a conventional cell"
   ]
  },
  {
   "cell_type": "code",
   "execution_count": 1,
   "metadata": {},
   "outputs": [],
   "source": [
    "from pymatgen.core.structure import Structure\n",
    "from pymatgen.symmetry.analyzer import SpacegroupAnalyzer\n",
    "from collections import defaultdict"
   ]
  },
  {
   "cell_type": "markdown",
   "metadata": {},
   "source": [
    "## Count the amount of a specie in a cell"
   ]
  },
  {
   "cell_type": "code",
   "execution_count": 2,
   "metadata": {},
   "outputs": [
    {
     "data": {
      "text/plain": [
       "(Comp: Ca1 H6, 2)"
      ]
     },
     "execution_count": 2,
     "metadata": {},
     "output_type": "execute_result"
    }
   ],
   "source": [
    "pmg_struct = Structure.from_file(\"./CaH6.cif\")\n",
    "pmg_struct.composition.to_data_dict\n",
    "# {\n",
    "#   'reduced_cell_composition': Comp: Li2 Mg1 H16,\n",
    "#   'unit_cell_composition': defaultdict(float,\n",
    "#              {'Li': 16.0, 'Mg': 8.0, 'H': 128.0}),\n",
    "#   'reduced_cell_formula': 'Li2MgH16',\n",
    "#   'elements': ['Li', 'Mg', 'H'],\n",
    "#   'nelements': 3\n",
    "# }\n",
    "pmg_struct.composition.num_atoms            # get amounts of all atoms\n",
    "pmg_struct.composition.alphabetical_formula # 'H128 Li16 Mg8'\n",
    "pmg_struct.composition.anonymized_formula   # 'AB2C16'\n",
    "pmg_struct.composition.iupac_formula        # 'Li16 Mg8 H128'\n",
    "pmg_struct.composition.chemical_system      # 'H-Li-Mg'\n",
    "pmg_struct.composition.elements             # [Element Li, Element Mg, Element H]\n",
    "pmg_struct.composition.special_formulas     #{\n",
    "                                            #     'LiO': 'Li2O2',\n",
    "                                            #     'NaO': 'Na2O2',\n",
    "                                            #     'KO': 'K2O2',\n",
    "                                            #     'HO': 'H2O2',\n",
    "                                            #     'CsO': 'Cs2O2',\n",
    "                                            #     'RbO': 'Rb2O2',\n",
    "                                            #     'O': 'O2',\n",
    "                                            #     'N': 'N2',\n",
    "                                            #     'F': 'F2',\n",
    "                                            #     'Cl': 'Cl2',\n",
    "                                            #     'H': 'H2'\n",
    "                                            # }\n",
    "pmg_struct.composition.get_el_amt_dict()                    # defaultdict(float, {'Li': 16.0, 'Mg': 8.0, 'H': 128.0})\n",
    "pmg_struct.composition.get_integer_formula_and_factor()     # ('Li2MgH16', 8.0)\n",
    "pmg_struct.composition.get_reduced_composition_and_factor() # (Comp: Li2 Mg1 H16, 8)\n"
   ]
  },
  {
   "cell_type": "markdown",
   "metadata": {},
   "source": [
    "## **一个小工具** 输入一个结构，输出其约化化学式，空间群对称性，文件名"
   ]
  },
  {
   "cell_type": "code",
   "execution_count": 3,
   "metadata": {},
   "outputs": [
    {
     "name": "stdout",
     "output_type": "stream",
     "text": [
      "229-Im-3m-CaH6\n"
     ]
    },
    {
     "data": {
      "text/plain": [
       "Structure Summary\n",
       "Lattice\n",
       "    abc : 4.163148660818516 4.163148660818516 4.163148660818515\n",
       " angles : 109.47122063449069 109.47122063449069 109.47122063449069\n",
       " volume : 55.54485879776749\n",
       "      A : -2.403595 2.403595 2.403595\n",
       "      B : 2.403595 -2.403595 2.403595\n",
       "      C : 2.403595 2.403595 -2.4035949999999997\n",
       "    pbc : True True True\n",
       "PeriodicSite: Ca (0.0000, 0.0000, 0.0000) [0.0000, 0.0000, 0.0000]\n",
       "PeriodicSite: H (1.2018, -0.0000, 2.4036) [0.5000, 0.7500, 0.2500]\n",
       "PeriodicSite: H (1.2018, 2.4036, -0.0000) [0.5000, 0.2500, 0.7500]\n",
       "PeriodicSite: H (2.4036, 1.2018, -0.0000) [0.2500, 0.5000, 0.7500]\n",
       "PeriodicSite: H (-0.0000, 1.2018, 2.4036) [0.7500, 0.5000, 0.2500]\n",
       "PeriodicSite: H (0.0000, 2.4036, 1.2018) [0.7500, 0.2500, 0.5000]\n",
       "PeriodicSite: H (2.4036, 0.0000, 1.2018) [0.2500, 0.7500, 0.5000]"
      ]
     },
     "execution_count": 3,
     "metadata": {},
     "output_type": "execute_result"
    }
   ],
   "source": [
    "import sys\n",
    "from pathlib import Path\n",
    "\n",
    "from pymatgen.core.structure import Structure\n",
    "from pymatgen.symmetry.analyzer import SpacegroupAnalyzer\n",
    "\n",
    "\n",
    "struct = Structure.from_file(\"../test/POSCAR\")\n",
    "name = struct.composition.get_integer_formula_and_factor()[0]\n",
    "spg = SpacegroupAnalyzer(struct)\n",
    "num = spg.get_space_group_number()\n",
    "spg_symbol = spg.get_space_group_symbol()\n",
    "print(f\"{num}-{spg_symbol}-{name}\")\n",
    "struct"
   ]
  },
  {
   "cell_type": "code",
   "execution_count": 4,
   "metadata": {},
   "outputs": [
    {
     "name": "stdout",
     "output_type": "stream",
     "text": [
      "---------- 1 ----------\n",
      "[[1. 0. 0.]\n",
      " [0. 1. 0.]\n",
      " [0. 0. 1.]]\n",
      "trc= 3.0  det= 1.0  theta= 0.0\n"
     ]
    },
    {
     "ename": "AttributeError",
     "evalue": "label",
     "output_type": "error",
     "traceback": [
      "\u001b[0;31m---------------------------------------------------------------------------\u001b[0m",
      "\u001b[0;31mAttributeError\u001b[0m                            Traceback (most recent call last)",
      "Cell \u001b[0;32mIn[4], line 38\u001b[0m\n\u001b[1;32m     35\u001b[0m             res \u001b[38;5;241m=\u001b[39m op\u001b[38;5;241m.\u001b[39mare_symmetrically_related(site1\u001b[38;5;241m.\u001b[39mcoords, site2\u001b[38;5;241m.\u001b[39mcoords)\n\u001b[1;32m     36\u001b[0m             \u001b[38;5;28;01mif\u001b[39;00m res:\n\u001b[1;32m     37\u001b[0m                 \u001b[38;5;66;03m# print((site1==site2) and (idx1==idx2), site1.label+str(idx1), site2.label+str(idx2))\u001b[39;00m\n\u001b[0;32m---> 38\u001b[0m                 \u001b[38;5;28mprint\u001b[39m(\u001b[43msite1\u001b[49m\u001b[38;5;241;43m.\u001b[39;49m\u001b[43mlabel\u001b[49m\u001b[38;5;241m+\u001b[39m\u001b[38;5;28mstr\u001b[39m(idx1), site2\u001b[38;5;241m.\u001b[39mlabel\u001b[38;5;241m+\u001b[39m\u001b[38;5;28mstr\u001b[39m(idx2))\n\u001b[1;32m     40\u001b[0m \u001b[38;5;66;03m# print(\"r_0={} r_180={} r_90={} r_120={}\".format(r_0, r_180, r_90, r_120))\u001b[39;00m\n",
      "File \u001b[0;32m~/mysoftware/miniconda3/envs/my_scripts/lib/python3.9/site-packages/pymatgen/core/sites.py:75\u001b[0m, in \u001b[0;36mSite.__getattr__\u001b[0;34m(self, attr)\u001b[0m\n\u001b[1;32m     73\u001b[0m \u001b[38;5;28;01mif\u001b[39;00m attr \u001b[38;5;129;01min\u001b[39;00m props:\n\u001b[1;32m     74\u001b[0m     \u001b[38;5;28;01mreturn\u001b[39;00m props[attr]\n\u001b[0;32m---> 75\u001b[0m \u001b[38;5;28;01mraise\u001b[39;00m \u001b[38;5;167;01mAttributeError\u001b[39;00m(attr)\n",
      "\u001b[0;31mAttributeError\u001b[0m: label"
     ]
    }
   ],
   "source": [
    "import numpy as np\n",
    "\n",
    "\n",
    "r_0, r_180, r_90, r_120 = 0, 0, 0, 0\n",
    "pgops = spg.get_point_group_operations()\n",
    "\n",
    "for idx, op in enumerate(pgops):\n",
    "    # print(op.as_xyz_str())\n",
    "    \n",
    "    rot = op.rotation_matrix\n",
    "    trc = np.trace(rot)\n",
    "    det = np.linalg.det(rot) \n",
    "    if det > 0: # det(rot)=1: rotation; \n",
    "        trc = np.trace(rot)\n",
    "        theta = np.degrees(np.arccos((trc-1)/2))\n",
    "    else: # det(rot)=-1: rotoinversion\n",
    "        trc = -np.trace(rot)\n",
    "        theta = np.degrees(np.arccos((trc-1)/2))\n",
    "    print(\"---------- {} ----------\".format(idx+1))\n",
    "    print(rot)\n",
    "    print(\"trc={:>4.1f}  det={:>4.1f}  theta={:>4.1f}\".format(trc, det, theta))\n",
    "\n",
    "    if np.allclose(theta, 0.0):\n",
    "        r_0 += 1\n",
    "    elif np.allclose(theta, 180.0):\n",
    "        r_180 += 1\n",
    "    elif np.allclose(theta, 90.0):\n",
    "        r_90 += 1\n",
    "    elif np.allclose(theta, 120.0):\n",
    "        r_120 += 1\n",
    "\n",
    "    for idx1, site1 in enumerate(struct):\n",
    "        # print(\"----------check {} ----------\".format(site1.label+str(idx1)))\n",
    "        for idx2, site2 in enumerate(struct):\n",
    "            res = op.are_symmetrically_related(site1.coords, site2.coords)\n",
    "            if res:\n",
    "                # print((site1==site2) and (idx1==idx2), site1.label+str(idx1), site2.label+str(idx2))\n",
    "                print(site1.label+str(idx1), site2.label+str(idx2))\n",
    "\n",
    "# print(\"r_0={} r_180={} r_90={} r_120={}\".format(r_0, r_180, r_90, r_120))\n"
   ]
  },
  {
   "cell_type": "markdown",
   "metadata": {},
   "source": [
    "### 计算共轭类"
   ]
  },
  {
   "cell_type": "code",
   "execution_count": 6,
   "metadata": {},
   "outputs": [
    {
     "name": "stdout",
     "output_type": "stream",
     "text": [
      "identity -------------------------------\n",
      "True\n",
      "inversion -------------------------------\n",
      "True\n",
      "rotation_90 -------------------------------\n",
      "True\n",
      "rotoinversion_90 -------------------------------\n",
      "True\n",
      "rotation_180 -------------------------------\n",
      "True\n",
      "rotoinversion_180 -------------------------------\n",
      "True\n",
      "rotation_120 -------------------------------\n",
      "True\n",
      "rotoinversion_120 -------------------------------\n",
      "True\n"
     ]
    }
   ],
   "source": [
    "from typing import List\n",
    "from collections import defaultdict\n",
    "from pymatgen.symmetry.analyzer import SymmOp\n",
    "from numpy import array\n",
    "\n",
    "\n",
    "def classify(operations:List[SymmOp]):\n",
    "    \n",
    "    classified_ops = defaultdict(list)\n",
    "\n",
    "    # 首先对对称操作按照旋转的角度和行列式值分类\n",
    "    for idx, op in enumerate(operations):\n",
    "        # print(op.as_xyz_str())\n",
    "        rot = op.rotation_matrix\n",
    "        # print(rot)\n",
    "        trc = np.trace(rot)\n",
    "        det = np.linalg.det(rot) \n",
    "        if det > 0: # det(rot)=1: rotation; \n",
    "            trc = np.trace(rot)\n",
    "            theta = np.degrees(np.arccos((trc-1)/2))\n",
    "            if np.allclose(theta, 0.0):\n",
    "                classified_ops[f'identity'].append(op)\n",
    "            else:\n",
    "                classified_ops[f'rotation_{int(theta)}'].append(op)\n",
    "        else: # det(rot)=-1: rotoinversion\n",
    "            trc = -np.trace(rot)\n",
    "            theta = np.degrees(np.arccos((trc-1)/2))\n",
    "            if np.allclose(theta, 0.0):\n",
    "                classified_ops[f'inversion'].append(op)\n",
    "            else:\n",
    "                classified_ops[f'rotoinversion_{int(theta)}'].append(op)\n",
    "            \n",
    "    # print(dict(classified_ops))\n",
    "    # 进一步按照共轭类分类，因为有些二重轴不是一类。\n",
    "    for typename, elements in classified_ops.items(): # 在这里，typename 的类型是 str，elements 的类型是 List[SymmOp]\n",
    "        print(typename, \"-------------------------------\")\n",
    "        # if typename == \"inversed_rot_90\":\n",
    "            # break\n",
    "        x: SymmOp = np.random.choice(elements)\n",
    "        xm: array = x.rotation_matrix\n",
    "        xm_i:array= np.linalg.inv(xm)\n",
    "        am_s: array = [e.rotation_matrix for e in elements]\n",
    "        bm_s: array = [np.dot(np.dot(xm_i, am), xm) for am in am_s]\n",
    "        if typename == \"rotation_180 \":\n",
    "            print(am_s)\n",
    "            print(bm_s)\n",
    "        flag = True\n",
    "        for bm in bm_s:\n",
    "            for am in am_s:\n",
    "                # print(np.allclose(am, bm))\n",
    "                if np.allclose(am, bm): # 只要有一个am和bm一样, 就不再往下找了\n",
    "                    flag = True\n",
    "                    break \n",
    "            else: # 全部的am_s都走遍, 也没找到一个am=bm\n",
    "                # print(\"dsfdsfsdf\")\n",
    "                flag = False\n",
    "        print(flag)\n",
    "\n",
    "\n",
    "    # return dict(classified_ops)\n",
    "\n",
    "pgops = spg.get_point_group_operations()\n",
    "classify(pgops)"
   ]
  },
  {
   "cell_type": "code",
   "execution_count": 17,
   "metadata": {},
   "outputs": [
    {
     "name": "stdout",
     "output_type": "stream",
     "text": [
      "1\n",
      "1\n",
      "6\n",
      "6\n",
      "3\n",
      "3\n",
      "6\n",
      "6\n",
      "8\n",
      "8\n"
     ]
    }
   ],
   "source": [
    "def is_in_matrix(m:array,ms:List[array]):\n",
    "    # 判断矩阵m是否在矩阵组成的列表ms中\n",
    "    flag = True\n",
    "    for _ in ms:\n",
    "        if np.allclose(m, _):\n",
    "            flag = True\n",
    "            break\n",
    "    else:\n",
    "        flag = False\n",
    "    return flag\n",
    "\n",
    "def kill_duplicated_element(ms:array):\n",
    "    # 在一组 3*3的矩阵中，找到重复的并删除\n",
    "    new_ms = []\n",
    "    for m in ms:\n",
    "        if not new_ms:\n",
    "            new_ms.append(m)\n",
    "        else:\n",
    "            if not is_in_matrix(m=m, ms=new_ms):\n",
    "                new_ms.append(m)\n",
    "    return new_ms\n",
    "\n",
    "def is_equal_for_cless(cl1:List[array], cl2:List[array]):\n",
    "    # 判断两个类是否相同\n",
    "    flag = True\n",
    "    for m1 in cl1:\n",
    "        if is_in_matrix(m1, cl2):\n",
    "            flag = True\n",
    "            break\n",
    "    else:\n",
    "        flag = False\n",
    "    return flag\n",
    "\n",
    "def is_in_clesses(cl1:List[array], clesses:List[List[array]]):\n",
    "    flag = True\n",
    "    for cl2 in clesses:\n",
    "        if is_equal_for_cless(cl1, cl2):\n",
    "            flag = True\n",
    "            break\n",
    "    else:\n",
    "        flag = False\n",
    "    return flag\n",
    "\n",
    "def kill_duplicated_clesses(clesses:array):\n",
    "    new_clesses = []\n",
    "    for cl in clesses: # cl此时是一个类，里面有很多个3*3的矩阵\n",
    "        if not new_clesses:\n",
    "            new_clesses.append(cl)\n",
    "        else:\n",
    "            if not is_in_clesses(cl1=cl, clesses=new_clesses):\n",
    "                new_clesses.append(cl)\n",
    "    return new_clesses\n",
    "\n",
    "clesses = []\n",
    "for idx, op in enumerate(pgops):\n",
    "    # print(op.as_xyz_str())\n",
    "    bm = [np.dot(np.dot(np.linalg.inv(x.rotation_matrix), op.rotation_matrix), x.rotation_matrix) for x in pgops]\n",
    "    cless = kill_duplicated_element(bm)\n",
    "    # print(cless)\n",
    "    clesses.append(cless)\n",
    "clesses = kill_duplicated_clesses(clesses)\n",
    "for c in clesses:\n",
    "    print(len(c))"
   ]
  },
  {
   "cell_type": "code",
   "execution_count": null,
   "metadata": {},
   "outputs": [],
   "source": [
    "xm = np.array([[0.,  1.,  0.],\n",
    "               [ 0.,  1., -1.],\n",
    "               [-1.,  1.,  0.]])\n",
    "xm_1=np.array([[ 1., -0., -1.],\n",
    "               [ 1.,  0.,  0.],\n",
    "               [ 1., -1.,  0.]])\n",
    "am=np.array([[ 1., -1.,  0.],\n",
    "             [ 1.,  0., -1.],\n",
    "             [ 1.,  0.,  0.],])\n",
    "# np.dot(xm_1, am)\n",
    "np.dot(np.dot(xm_1, am), xm)"
   ]
  },
  {
   "cell_type": "code",
   "execution_count": null,
   "metadata": {},
   "outputs": [
    {
     "ename": "TypeError",
     "evalue": "list indices must be integers or slices, not str",
     "output_type": "error",
     "traceback": [
      "\u001b[1;31m---------------------------------------------------------------------------\u001b[0m",
      "\u001b[1;31mTypeError\u001b[0m                                 Traceback (most recent call last)",
      "Cell \u001b[1;32mIn[39], line 7\u001b[0m\n\u001b[0;32m      5\u001b[0m \u001b[38;5;66;03m# structjson = struct.to_json(\"../test/CaH6.json\")\u001b[39;00m\n\u001b[0;32m      6\u001b[0m dumpfn(struct, \u001b[38;5;124m\"\u001b[39m\u001b[38;5;124m../test/CaH6.json\u001b[39m\u001b[38;5;124m\"\u001b[39m)\n\u001b[1;32m----> 7\u001b[0m px \u001b[38;5;241m=\u001b[39m \u001b[43mpyxtal\u001b[49m\u001b[43m(\u001b[49m\u001b[43m)\u001b[49m\u001b[38;5;241;43m.\u001b[39;49m\u001b[43mload_dict\u001b[49m\u001b[43m(\u001b[49m\u001b[43m{\u001b[49m\n\u001b[0;32m      8\u001b[0m \u001b[43m    \u001b[49m\u001b[38;5;124;43m\"\u001b[39;49m\u001b[38;5;124;43mgroup\u001b[39;49m\u001b[38;5;124;43m\"\u001b[39;49m\u001b[43m:\u001b[49m\u001b[38;5;241;43m229\u001b[39;49m\u001b[43m,\u001b[49m\n\u001b[0;32m      9\u001b[0m \u001b[43m    \u001b[49m\u001b[38;5;124;43m\"\u001b[39;49m\u001b[38;5;124;43mdim\u001b[39;49m\u001b[38;5;124;43m\"\u001b[39;49m\u001b[43m:\u001b[49m\u001b[38;5;241;43m3\u001b[39;49m\u001b[43m,\u001b[49m\n\u001b[0;32m     10\u001b[0m \u001b[43m    \u001b[49m\u001b[38;5;124;43m\"\u001b[39;49m\u001b[38;5;124;43mlattice\u001b[39;49m\u001b[38;5;124;43m\"\u001b[39;49m\u001b[43m:\u001b[49m\u001b[43m[\u001b[49m\u001b[43m[\u001b[49m\u001b[38;5;241;43m-\u001b[39;49m\u001b[38;5;241;43m1.698432\u001b[39;49m\u001b[43m,\u001b[49m\u001b[43m \u001b[49m\u001b[38;5;241;43m1.698432\u001b[39;49m\u001b[43m,\u001b[49m\u001b[43m \u001b[49m\u001b[38;5;241;43m1.698432\u001b[39;49m\u001b[43m]\u001b[49m\u001b[43m,\u001b[49m\u001b[43m[\u001b[49m\u001b[38;5;241;43m1.698432\u001b[39;49m\u001b[43m,\u001b[49m\u001b[43m \u001b[49m\u001b[38;5;241;43m-\u001b[39;49m\u001b[38;5;241;43m1.698432\u001b[39;49m\u001b[43m,\u001b[49m\u001b[43m \u001b[49m\u001b[38;5;241;43m1.698432\u001b[39;49m\u001b[43m]\u001b[49m\u001b[43m,\u001b[49m\u001b[43m[\u001b[49m\u001b[38;5;241;43m1.698432\u001b[39;49m\u001b[43m,\u001b[49m\u001b[43m \u001b[49m\u001b[38;5;241;43m1.698432\u001b[39;49m\u001b[43m,\u001b[49m\u001b[43m \u001b[49m\u001b[38;5;241;43m-\u001b[39;49m\u001b[38;5;241;43m1.698432\u001b[39;49m\u001b[43m]\u001b[49m\u001b[43m]\u001b[49m\u001b[43m,\u001b[49m\n\u001b[0;32m     11\u001b[0m \u001b[43m    \u001b[49m\u001b[38;5;124;43m\"\u001b[39;49m\u001b[38;5;124;43mfactor\u001b[39;49m\u001b[38;5;124;43m\"\u001b[39;49m\u001b[43m:\u001b[49m\u001b[38;5;241;43m1.0\u001b[39;49m\u001b[43m,\u001b[49m\n\u001b[0;32m     12\u001b[0m \u001b[43m    \u001b[49m\u001b[38;5;124;43m\"\u001b[39;49m\u001b[38;5;124;43mnumIons\u001b[39;49m\u001b[38;5;124;43m\"\u001b[39;49m\u001b[43m:\u001b[49m\u001b[43m[\u001b[49m\u001b[38;5;241;43m2\u001b[39;49m\u001b[43m,\u001b[49m\u001b[43m \u001b[49m\u001b[38;5;241;43m12\u001b[39;49m\u001b[43m]\u001b[49m\u001b[43m,\u001b[49m\n\u001b[0;32m     13\u001b[0m \u001b[43m    \u001b[49m\u001b[38;5;124;43m\"\u001b[39;49m\u001b[38;5;124;43msites\u001b[39;49m\u001b[38;5;124;43m\"\u001b[39;49m\u001b[43m:\u001b[49m\u001b[43m[\u001b[49m\u001b[43m[\u001b[49m\u001b[38;5;124;43m'\u001b[39;49m\u001b[38;5;124;43m2a\u001b[39;49m\u001b[38;5;124;43m'\u001b[39;49m\u001b[43m]\u001b[49m\u001b[43m,\u001b[49m\u001b[43m \u001b[49m\u001b[43m[\u001b[49m\u001b[38;5;124;43m'\u001b[39;49m\u001b[38;5;124;43m12e\u001b[39;49m\u001b[38;5;124;43m'\u001b[39;49m\u001b[43m]\u001b[49m\u001b[43m]\u001b[49m\u001b[43m,\u001b[49m\n\u001b[0;32m     14\u001b[0m \u001b[43m    \u001b[49m\u001b[38;5;124;43m\"\u001b[39;49m\u001b[38;5;124;43mmolecular\u001b[39;49m\u001b[38;5;124;43m\"\u001b[39;49m\u001b[43m:\u001b[49m\u001b[43m[\u001b[49m\u001b[43m]\u001b[49m\u001b[43m,\u001b[49m\n\u001b[0;32m     15\u001b[0m \u001b[43m    \u001b[49m\u001b[38;5;124;43m\"\u001b[39;49m\u001b[38;5;124;43msource\u001b[39;49m\u001b[38;5;124;43m\"\u001b[39;49m\u001b[43m:\u001b[49m\u001b[43m[\u001b[49m\u001b[43m]\u001b[49m\u001b[43m,\u001b[49m\n\u001b[0;32m     16\u001b[0m \u001b[43m    \u001b[49m\u001b[38;5;124;43m\"\u001b[39;49m\u001b[38;5;124;43mPBC\u001b[39;49m\u001b[38;5;124;43m\"\u001b[39;49m\u001b[43m:\u001b[49m\u001b[43m[\u001b[49m\u001b[38;5;241;43m1\u001b[39;49m\u001b[43m,\u001b[49m\u001b[38;5;241;43m1\u001b[39;49m\u001b[43m,\u001b[49m\u001b[38;5;241;43m1\u001b[39;49m\u001b[43m]\u001b[49m\u001b[43m,\u001b[49m\n\u001b[0;32m     17\u001b[0m \u001b[43m    \u001b[49m\u001b[38;5;124;43m\"\u001b[39;49m\u001b[38;5;124;43mnumMols\u001b[39;49m\u001b[38;5;124;43m\"\u001b[39;49m\u001b[43m:\u001b[49m\u001b[43m[\u001b[49m\u001b[43m]\u001b[49m\u001b[43m,\u001b[49m\n\u001b[0;32m     18\u001b[0m \u001b[43m    \u001b[49m\u001b[38;5;124;43m\"\u001b[39;49m\u001b[38;5;124;43mvalid\u001b[39;49m\u001b[38;5;124;43m\"\u001b[39;49m\u001b[43m:\u001b[49m\u001b[38;5;28;43;01mTrue\u001b[39;49;00m\u001b[43m,\u001b[49m\n\u001b[0;32m     19\u001b[0m \u001b[43m    \u001b[49m\u001b[38;5;124;43m\"\u001b[39;49m\u001b[38;5;124;43mformula\u001b[39;49m\u001b[38;5;124;43m\"\u001b[39;49m\u001b[43m:\u001b[49m\u001b[38;5;124;43m\"\u001b[39;49m\u001b[38;5;124;43mCaH6\u001b[39;49m\u001b[38;5;124;43m\"\u001b[39;49m\n\u001b[0;32m     20\u001b[0m \u001b[43m}\u001b[49m\u001b[43m)\u001b[49m\n",
      "File \u001b[1;32me:\\conda\\envs\\cage\\lib\\site-packages\\pyxtal\\__init__.py:1463\u001b[0m, in \u001b[0;36mload_dict\u001b[1;34m(self, dict0)\u001b[0m\n",
      "File \u001b[1;32me:\\conda\\envs\\cage\\lib\\site-packages\\pyxtal\\wyckoff_site.py:92\u001b[0m, in \u001b[0;36mload_dict\u001b[1;34m(cls, dicts)\u001b[0m\n",
      "\u001b[1;31mTypeError\u001b[0m: list indices must be integers or slices, not str"
     ]
    }
   ],
   "source": [
    "from pyxtal.symmetry import OperationAnalyzer\n",
    "from pyxtal import pyxtal\n",
    "from monty.serialization import dumpfn\n",
    "\n",
    "# structjson = struct.to_json(\"../test/CaH6.json\")\n",
    "dumpfn(struct, \"../test/CaH6.json\")\n",
    "px = pyxtal().load_dict({\n",
    "    \"group\":229,\n",
    "    \"dim\":3,\n",
    "    \"lattice\":[[-1.698432, 1.698432, 1.698432],[1.698432, -1.698432, 1.698432],[1.698432, 1.698432, -1.698432]],\n",
    "    \"factor\":1.0,\n",
    "    \"numIons\":[2, 12],\n",
    "    \"sites\":[['2a'], ['12e']],\n",
    "    \"molecular\":[],\n",
    "    \"source\":[],\n",
    "    \"PBC\":[1,1,1],\n",
    "    \"numMols\":[],\n",
    "    \"valid\":True,\n",
    "    \"formula\":\"CaH6\"\n",
    "})\n",
    "# pgops = spg.get_point_group_operations()\n",
    "\n",
    "# for idx, op in enumerate(pgops):\n",
    "#     print(idx, OperationAnalyzer(op))"
   ]
  },
  {
   "cell_type": "markdown",
   "metadata": {},
   "source": [
    "## Voronoi模块的使用"
   ]
  },
  {
   "cell_type": "code",
   "execution_count": null,
   "metadata": {},
   "outputs": [],
   "source": [
    "from pymatgen.core.structure import Structure\n",
    "from pymatgen.analysis.chemenv.coordination_environments.structure_environments \\\n",
    "    import ChemicalEnvironments, StructureEnvironments, DetailedVoronoiContainer\n",
    "from pymatgen.analysis.chemenv.coordination_environments.chemenv_strategies \\\n",
    "    import SimplestChemenvStrategy\n",
    "\n",
    "structure = Structure.from_file(\"./CaH6.cif\")\n",
    "vc = DetailedVoronoiContainer(structure)\n",
    "# se = StructureEnvironments(voronoi_container)\n",
    "# sc = SimplestChemenvStrategy()\n",
    "# sc.get_site_neighbors(structure)"
   ]
  },
  {
   "cell_type": "code",
   "execution_count": null,
   "metadata": {},
   "outputs": [],
   "source": [
    "from pymatgen.analysis.graphs import StructureGraph\n",
    "from pymatgen.analysis.local_env import NearNeighbors\n",
    "\n",
    "s = Structure.from_file(\"./La2Y6H46_ContributedBy_Mayuan.vasp\")\n",
    "# graph = StructureGraph.with_local_env_strategy(structure, strategy=nn)"
   ]
  },
  {
   "cell_type": "code",
   "execution_count": null,
   "metadata": {},
   "outputs": [],
   "source": [
    "from pymatgen.analysis.local_env import VoronoiNN\n",
    "\n",
    "vnn = VoronoiNN()\n",
    "all_vr = vnn.get_all_voronoi_polyhedra(structure)\n",
    "all_vr"
   ]
  },
  {
   "cell_type": "code",
   "execution_count": null,
   "metadata": {},
   "outputs": [],
   "source": [
    "from pymatgen.analysis.local_env import VoronoiNN\n",
    "\n",
    "vnn = VoronoiNN()\n",
    "all_vr = vnn.get_all_voronoi_polyhedra(structure)\n",
    "all_vr"
   ]
  },
  {
   "attachments": {},
   "cell_type": "markdown",
   "metadata": {},
   "source": [
    "# 获得一个晶体晶胞的原子数"
   ]
  },
  {
   "cell_type": "code",
   "execution_count": null,
   "metadata": {},
   "outputs": [],
   "source": [
    "from pymatgen.core.structure import Structure\n",
    "pmg_struct = Structure.from_file(\"./CaH6.cif\")\n",
    "pmg_struct.density\n",
    "pmg_struct.num_sites"
   ]
  },
  {
   "cell_type": "markdown",
   "metadata": {},
   "source": [
    "# 替换元素"
   ]
  },
  {
   "cell_type": "code",
   "execution_count": null,
   "metadata": {},
   "outputs": [],
   "source": [
    "from pymatgen.core.structure import Structure\n",
    "from pymatgen.io.vasp import Poscar\n",
    "# filenames1 = [\"LaCeH8-200GPa-P4mmm\", \"LaCeH8-200GPa-Pmmn\", \"LaCeH18-200GPa-Amm2\", \n",
    "#              \"LaCeH20-200GPa-I41amd\", \"LaCeH20-200GPa-P-6m2\", \"LaCeH20-200GPa-P63mmc\",\n",
    "#             #  \"LaCeH20-200GPa-R-3m\",]\n",
    "filenames2 = [\"Y1Ce1H7-100GPa-Pmma\", \"YCeH5-100GPa-C2m\", \"YCeH8-100GPa-P4mmm\", \"YCeH18-200GPa-P-6m2\", \"YCeH20-400-P4mmm\"]\n",
    "\n",
    "for file in filenames2:\n",
    "    s = Structure.from_file(file+\".cif\")\n",
    "    s.replace_species({'Y':'Ce', 'Ce':'Sr'})\n",
    "    formula=s.composition.reduced_formula.replace(' ', '')\n",
    "    filename=\"f1-\"+formula+'-'+'-'.join(file.split('-')[1:])\n",
    "    print(filename)\n",
    "    Poscar(s).write_file(filename=filename+\".vasp\")"
   ]
  },
  {
   "cell_type": "code",
   "execution_count": null,
   "metadata": {},
   "outputs": [],
   "source": []
  }
 ],
 "metadata": {
  "kernelspec": {
   "display_name": "Python 3",
   "language": "python",
   "name": "python3"
  },
  "language_info": {
   "codemirror_mode": {
    "name": "ipython",
    "version": 3
   },
   "file_extension": ".py",
   "mimetype": "text/x-python",
   "name": "python",
   "nbconvert_exporter": "python",
   "pygments_lexer": "ipython3",
   "version": "3.9.16"
  },
  "orig_nbformat": 4,
  "vscode": {
   "interpreter": {
    "hash": "8e46658a71018bd0e6422d7ffcd68f7fef623591c68bff3124f75e322c3c2c9c"
   }
  }
 },
 "nbformat": 4,
 "nbformat_minor": 2
}
