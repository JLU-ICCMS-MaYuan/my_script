{
 "cells": [
  {
   "cell_type": "markdown",
   "metadata": {},
   "source": [
    "# Try to get all hydrogens around metal atoms about a conventional cell"
   ]
  },
  {
   "cell_type": "code",
   "execution_count": 2,
   "metadata": {},
   "outputs": [],
   "source": [
    "from pymatgen.core.structure import Structure\n",
    "from pymatgen.symmetry.analyzer import SpacegroupAnalyzer\n",
    "from collections import defaultdict"
   ]
  },
  {
   "cell_type": "markdown",
   "metadata": {},
   "source": [
    "# Count the amount of a specie in a cell"
   ]
  },
  {
   "cell_type": "code",
   "execution_count": 11,
   "metadata": {},
   "outputs": [
    {
     "data": {
      "text/plain": [
       "(Comp: Ca1 H6, 2)"
      ]
     },
     "execution_count": 11,
     "metadata": {},
     "output_type": "execute_result"
    }
   ],
   "source": [
    "pmg_struct = Structure.from_file(\"./CaH6.cif\")\n",
    "pmg_struct.composition.to_data_dict\n",
    "# {\n",
    "#   'reduced_cell_composition': Comp: Li2 Mg1 H16,\n",
    "#   'unit_cell_composition': defaultdict(float,\n",
    "#              {'Li': 16.0, 'Mg': 8.0, 'H': 128.0}),\n",
    "#   'reduced_cell_formula': 'Li2MgH16',\n",
    "#   'elements': ['Li', 'Mg', 'H'],\n",
    "#   'nelements': 3\n",
    "# }\n",
    "pmg_struct.composition.num_atoms            # get amounts of all atoms\n",
    "pmg_struct.composition.alphabetical_formula # 'H128 Li16 Mg8'\n",
    "pmg_struct.composition.anonymized_formula   # 'AB2C16'\n",
    "pmg_struct.composition.iupac_formula        # 'Li16 Mg8 H128'\n",
    "pmg_struct.composition.chemical_system      # 'H-Li-Mg'\n",
    "pmg_struct.composition.elements             # [Element Li, Element Mg, Element H]\n",
    "pmg_struct.composition.special_formulas     #{\n",
    "                                            #     'LiO': 'Li2O2',\n",
    "                                            #     'NaO': 'Na2O2',\n",
    "                                            #     'KO': 'K2O2',\n",
    "                                            #     'HO': 'H2O2',\n",
    "                                            #     'CsO': 'Cs2O2',\n",
    "                                            #     'RbO': 'Rb2O2',\n",
    "                                            #     'O': 'O2',\n",
    "                                            #     'N': 'N2',\n",
    "                                            #     'F': 'F2',\n",
    "                                            #     'Cl': 'Cl2',\n",
    "                                            #     'H': 'H2'\n",
    "                                            # }\n",
    "pmg_struct.composition.get_el_amt_dict()                    # defaultdict(float, {'Li': 16.0, 'Mg': 8.0, 'H': 128.0})\n",
    "pmg_struct.composition.get_integer_formula_and_factor()     # ('Li2MgH16', 8.0)\n",
    "pmg_struct.composition.get_reduced_composition_and_factor() # (Comp: Li2 Mg1 H16, 8)\n"
   ]
  },
  {
   "cell_type": "markdown",
   "metadata": {},
   "source": [
    "# **一个小工具** 输入一个结构，输出其约化化学式，空间群对称性，文件名"
   ]
  },
  {
   "cell_type": "code",
   "execution_count": null,
   "metadata": {},
   "outputs": [],
   "source": [
    "import sys\n",
    "from pathlib import Path\n",
    "\n",
    "from pymatgen.core.structure import Structure\n",
    "from pymatgen.symmetry.analyzer import SpacegroupAnalyzer\n",
    "\n",
    "path = Path(sys.argv[1])\n",
    "file_name = path.name\n",
    "struct = Structure.from_file(path)\n",
    "name = struct.composition.get_integer_formula_and_factor()[0]\n",
    "num = SpacegroupAnalyzer(struct).get_space_group_number()\n",
    "spg_symbol = SpacegroupAnalyzer(struct).get_space_group_symbol()\n",
    "print(f\"{num}-{spg_symbol}-{name}\")\n",
    "print(f\"{file_name}\")"
   ]
  },
  {
   "cell_type": "code",
   "execution_count": 39,
   "metadata": {},
   "outputs": [
    {
     "data": {
      "text/plain": [
       "Structure Summary\n",
       "Lattice\n",
       "    abc : 4.80719 4.80719 4.80719\n",
       " angles : 90.0 90.0 90.0\n",
       " volume : 111.08971759553498\n",
       "      A : 4.80719 0.0 2.9435549231965825e-16\n",
       "      B : 7.730551120299031e-16 4.80719 2.9435549231965825e-16\n",
       "      C : 0.0 0.0 4.80719\n",
       "PeriodicSite: Ca (0.0000, 0.0000, 0.0000) [0.0000, 0.0000, 0.0000]\n",
       "PeriodicSite: Ca (2.4036, 2.4036, 2.4036) [0.5000, 0.5000, 0.5000]\n",
       "PeriodicSite: H (1.2018, 0.0000, 2.4036) [0.2500, 0.0000, 0.5000]\n",
       "PeriodicSite: H (3.6054, 0.0000, 2.4036) [0.7500, 0.0000, 0.5000]\n",
       "PeriodicSite: H (2.4036, 1.2018, 0.0000) [0.5000, 0.2500, 0.0000]\n",
       "PeriodicSite: H (2.4036, 3.6054, 0.0000) [0.5000, 0.7500, 0.0000]\n",
       "PeriodicSite: H (0.0000, 2.4036, 1.2018) [0.0000, 0.5000, 0.2500]\n",
       "PeriodicSite: H (0.0000, 2.4036, 3.6054) [0.0000, 0.5000, 0.7500]\n",
       "PeriodicSite: H (0.0000, 1.2018, 2.4036) [0.0000, 0.2500, 0.5000]\n",
       "PeriodicSite: H (0.0000, 3.6054, 2.4036) [0.0000, 0.7500, 0.5000]\n",
       "PeriodicSite: H (1.2018, 2.4036, 0.0000) [0.2500, 0.5000, 0.0000]\n",
       "PeriodicSite: H (3.6054, 2.4036, 0.0000) [0.7500, 0.5000, 0.0000]\n",
       "PeriodicSite: H (2.4036, 0.0000, 3.6054) [0.5000, 0.0000, 0.7500]\n",
       "PeriodicSite: H (2.4036, 0.0000, 1.2018) [0.5000, 0.0000, 0.2500]"
      ]
     },
     "execution_count": 39,
     "metadata": {},
     "output_type": "execute_result"
    }
   ],
   "source": [
    "from pymatgen.core.structure import Structure\n",
    "from pymatgen.analysis.chemenv.coordination_environments.structure_environments \\\n",
    "    import ChemicalEnvironments, StructureEnvironments, DetailedVoronoiContainer\n",
    "from pymatgen.analysis.chemenv.coordination_environments.chemenv_strategies \\\n",
    "    import SimplestChemenvStrategy\n",
    "\n",
    "structure = Structure.from_file(\"./CaH6.cif\")\n",
    "structure\n",
    "# se = StructureEnvironments(voronoi_container)\n",
    "# sc = SimplestChemenvStrategy()\n",
    "# sc.get_site_neighbors(structure)"
   ]
  },
  {
   "cell_type": "code",
   "execution_count": null,
   "metadata": {},
   "outputs": [],
   "source": [
    "vc = DetailedVoronoiContainer(structure)\n",
    "se = StructureEnvironments(vc)\n",
    "# sc = SimplestChemenvStrategy()"
   ]
  },
  {
   "cell_type": "code",
   "execution_count": 49,
   "metadata": {},
   "outputs": [
    {
     "ename": "AttributeError",
     "evalue": "'Structure' object has no attribute 'all'",
     "output_type": "error",
     "traceback": [
      "\u001b[0;31m---------------------------------------------------------------------------\u001b[0m",
      "\u001b[0;31mAttributeError\u001b[0m                            Traceback (most recent call last)",
      "Cell \u001b[0;32mIn [49], line 7\u001b[0m\n\u001b[1;32m      5\u001b[0m s\u001b[39m.\u001b[39mstructures_allowed \u001b[39m=\u001b[39m \u001b[39mTrue\u001b[39;00m\n\u001b[1;32m      6\u001b[0m nn  \u001b[39m=\u001b[39m NearNeighbors()\n\u001b[0;32m----> 7\u001b[0m \u001b[39mprint\u001b[39m(s\u001b[39m.\u001b[39;49mall)\n\u001b[1;32m      8\u001b[0m \u001b[39m# graph = StructureGraph.with_local_env_strategy(structure, strategy=nn)\u001b[39;00m\n\u001b[1;32m      9\u001b[0m nn\u001b[39m.\u001b[39mget_bonded_structure(s)\n",
      "\u001b[0;31mAttributeError\u001b[0m: 'Structure' object has no attribute 'all'"
     ]
    }
   ],
   "source": [
    "from pymatgen.analysis.graphs import StructureGraph\n",
    "from pymatgen.analysis.local_env import NearNeighbors\n",
    "\n",
    "s = Structure.from_file(\"./CaH6.cif\")\n",
    "s.structures_allowed = True\n",
    "nn  = NearNeighbors()\n",
    "print(s.all)\n",
    "# graph = StructureGraph.with_local_env_strategy(structure, strategy=nn)\n",
    "nn.get_bonded_structure(s)"
   ]
  },
  {
   "cell_type": "code",
   "execution_count": 59,
   "metadata": {},
   "outputs": [
    {
     "data": {
      "text/plain": [
       "24"
      ]
     },
     "execution_count": 59,
     "metadata": {},
     "output_type": "execute_result"
    }
   ],
   "source": [
    "from pymatgen.analysis.local_env import VoronoiNN\n",
    "\n",
    "vnn = VoronoiNN()\n",
    "nninfo = vnn.get_all_nn_info(structure)\n",
    "# vnn.get_all_voronoi_polyhedra(structure)\n",
    "len(vnn.get_voronoi_polyhedra(structure, 0))"
   ]
  }
 ],
 "metadata": {
  "kernelspec": {
   "display_name": "Python 3.9.12 ('cage')",
   "language": "python",
   "name": "python3"
  },
  "language_info": {
   "codemirror_mode": {
    "name": "ipython",
    "version": 3
   },
   "file_extension": ".py",
   "mimetype": "text/x-python",
   "name": "python",
   "nbconvert_exporter": "python",
   "pygments_lexer": "ipython3",
   "version": "3.9.12"
  },
  "orig_nbformat": 4,
  "vscode": {
   "interpreter": {
    "hash": "7be20002225008e0f15013c8d0c2132ea9c25a6a6eac33f7f3eb51d43b2fffb6"
   }
  }
 },
 "nbformat": 4,
 "nbformat_minor": 2
}
