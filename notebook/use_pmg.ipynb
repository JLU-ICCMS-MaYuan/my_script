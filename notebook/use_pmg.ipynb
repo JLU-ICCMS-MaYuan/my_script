{
 "cells": [
  {
   "cell_type": "markdown",
   "metadata": {},
   "source": [
    "# Try to get all hydrogens around metal atoms about a conventional cell"
   ]
  },
  {
   "cell_type": "code",
   "execution_count": 97,
   "metadata": {},
   "outputs": [
    {
     "name": "stdout",
     "output_type": "stream",
     "text": [
      "defaultdict(<class 'int'>, {'Ca': 24.0, 'Y': 24.0})\n"
     ]
    }
   ],
   "source": [
    "from pymatgen.core.structure import Structure\n",
    "from pymatgen.symmetry.analyzer import SpacegroupAnalyzer\n",
    "from collections import defaultdict\n",
    "# pmg_struct = Structure.from_file(\"/home/mayuan/mycode/my_script/test/clathrate/CaH6.vasp\")\n",
    "# pmg_struct = Structure.from_file(\"/home/mayuan/mycode/my_script/test/clathrate/LaH10.vasp\")\n",
    "# pmg_struct = Structure.from_file(\"/home/mayuan/mycode/my_script/test/clathrate/LaBH8.vasp\")\n",
    "# pmg_struct = Structure.from_file(\"/home/mayuan/mycode/my_script/test/clathrate/Li2MgH16.vasp\")\n",
    "# pmg_struct = Structure.from_file(\"/home/mayuan/mycode/my_script/test/clathrate/ScH9.vasp\")\n",
    "pmg_struct = Structure.from_file(\"/home/mayuan/mycode/my_script/test/clathrate/CaYH12.vasp\")\n",
    "# for site in pmg_struct.sites:\n",
    "#     print(site)\n",
    "center_indices, points_indices, images, distances = pmg_struct.get_neighbor_list(\n",
    "    r=2.2, sites=pmg_struct.sites, numerical_tol=1e-8\n",
    ")\n",
    "big_cage = defaultdict(int)\n",
    "for center, points, imgs, dist in zip(center_indices, points_indices, images, distances):\n",
    "    if str(pmg_struct.sites[center].specie) != \"H\" and 1.7 <= dist <= 2.2 :\n",
    "        big_cage[str(pmg_struct.sites[center].specie)] += 1\n",
    "\n",
    "small_cage = defaultdict(int)\n",
    "for center, points, imgs, dist in zip(center_indices, points_indices, images, distances):\n",
    "    if str(pmg_struct.sites[center].specie) != \"H\" and 1.3 <= dist <= 1.8 :\n",
    "        small_cage[str(pmg_struct.sites[center].specie)] += 1\n",
    "\n",
    "el_amt = pmg_struct.composition.get_el_amt_dict()\n",
    "\n",
    "amounts = {}\n",
    "specie_without_H = list(el_amt.keys())\n",
    "specie_without_H.remove(\"H\")\n",
    "for key in specie_without_H:\n",
    "    from_big_cage = big_cage.get(key, 0)\n",
    "    from_small_cage = small_cage.get(key, 0)\n",
    "    if from_big_cage > from_small_cage:\n",
    "        amounts[key] = from_big_cage\n",
    "    else:\n",
    "        amounts[key] = from_small_cage\n",
    "    \n",
    "Hcage = defaultdict(int)\n",
    "for key, value in amounts.items():\n",
    "    if key in list(el_amt.keys()):\n",
    "        around = value / el_amt[key]\n",
    "        Hcage[key] = around\n",
    "\n",
    "print(Hcage)"
   ]
  },
  {
   "cell_type": "code",
   "execution_count": 87,
   "metadata": {},
   "outputs": [
    {
     "name": "stdout",
     "output_type": "stream",
     "text": [
      "defaultdict(<class 'float'>, {'Li': 16.0, 'Mg': 8.0, 'H': 128.0})\n"
     ]
    },
    {
     "data": {
      "text/plain": [
       "['Li', 'Mg']"
      ]
     },
     "execution_count": 87,
     "metadata": {},
     "output_type": "execute_result"
    }
   ],
   "source": [
    "el_amt = pmg_struct.composition.get_el_amt_dict()\n",
    "print(el_amt)\n",
    "specie_without_H = list(el_amt.keys())\n",
    "specie_without_H.remove(\"H\")\n",
    "specie_without_H"
   ]
  },
  {
   "cell_type": "markdown",
   "metadata": {},
   "source": [
    "# Count the amount of a specie in a cell"
   ]
  },
  {
   "cell_type": "code",
   "execution_count": 88,
   "metadata": {},
   "outputs": [
    {
     "data": {
      "text/plain": [
       "(Comp: Li2 Mg1 H16, 8)"
      ]
     },
     "execution_count": 88,
     "metadata": {},
     "output_type": "execute_result"
    }
   ],
   "source": [
    "from pymatgen.core.structure import Structure\n",
    "pmg_struct = Structure.from_file(\"/home/mayuan/mycode/my_script/test/clathrate/Li2MgH16.vasp\")\n",
    "pmg_struct.composition.to_data_dict\n",
    "# {\n",
    "#   'reduced_cell_composition': Comp: Li2 Mg1 H16,\n",
    "#   'unit_cell_composition': defaultdict(float,\n",
    "#              {'Li': 16.0, 'Mg': 8.0, 'H': 128.0}),\n",
    "#   'reduced_cell_formula': 'Li2MgH16',\n",
    "#   'elements': ['Li', 'Mg', 'H'],\n",
    "#   'nelements': 3\n",
    "# }\n",
    "pmg_struct.composition.num_atoms            # get amounts of all atoms\n",
    "pmg_struct.composition.alphabetical_formula # 'H128 Li16 Mg8'\n",
    "pmg_struct.composition.anonymized_formula   # 'AB2C16'\n",
    "pmg_struct.composition.iupac_formula        # 'Li16 Mg8 H128'\n",
    "pmg_struct.composition.chemical_system      # 'H-Li-Mg'\n",
    "pmg_struct.composition.elements             # [Element Li, Element Mg, Element H]\n",
    "pmg_struct.composition.special_formulas     #{\n",
    "                                            #     'LiO': 'Li2O2',\n",
    "                                            #     'NaO': 'Na2O2',\n",
    "                                            #     'KO': 'K2O2',\n",
    "                                            #     'HO': 'H2O2',\n",
    "                                            #     'CsO': 'Cs2O2',\n",
    "                                            #     'RbO': 'Rb2O2',\n",
    "                                            #     'O': 'O2',\n",
    "                                            #     'N': 'N2',\n",
    "                                            #     'F': 'F2',\n",
    "                                            #     'Cl': 'Cl2',\n",
    "                                            #     'H': 'H2'\n",
    "                                            # }\n",
    "pmg_struct.composition.get_el_amt_dict()                    # defaultdict(float, {'Li': 16.0, 'Mg': 8.0, 'H': 128.0})\n",
    "pmg_struct.composition.get_integer_formula_and_factor()     # ('Li2MgH16', 8.0)\n",
    "pmg_struct.composition.get_reduced_composition_and_factor() # (Comp: Li2 Mg1 H16, 8)\n"
   ]
  },
  {
   "cell_type": "markdown",
   "metadata": {},
   "source": [
    "# **一个小工具** 输入一个结构，输出其约化化学式，空间群对称性，文件名"
   ]
  },
  {
   "cell_type": "code",
   "execution_count": 1,
   "metadata": {},
   "outputs": [
    {
     "ename": "FileNotFoundError",
     "evalue": "[Errno 2] No such file or directory: '-f'",
     "output_type": "error",
     "traceback": [
      "\u001b[0;31m---------------------------------------------------------------------------\u001b[0m",
      "\u001b[0;31mFileNotFoundError\u001b[0m                         Traceback (most recent call last)",
      "\u001b[1;32m/work/home/may/code/my_script/notebook/use_pmg.ipynb Cell 7\u001b[0m in \u001b[0;36m<cell line: 10>\u001b[0;34m()\u001b[0m\n\u001b[1;32m      <a href='vscode-notebook-cell://ssh-remote%2Blhy02/work/home/may/code/my_script/notebook/use_pmg.ipynb#W5sdnNjb2RlLXJlbW90ZQ%3D%3D?line=5'>6</a>\u001b[0m \u001b[39mfrom\u001b[39;00m \u001b[39mpymatgen\u001b[39;00m\u001b[39m.\u001b[39;00m\u001b[39msymmetry\u001b[39;00m\u001b[39m.\u001b[39;00m\u001b[39manalyzer\u001b[39;00m \u001b[39mimport\u001b[39;00m SpacegroupAnalyzer\n\u001b[1;32m      <a href='vscode-notebook-cell://ssh-remote%2Blhy02/work/home/may/code/my_script/notebook/use_pmg.ipynb#W5sdnNjb2RlLXJlbW90ZQ%3D%3D?line=7'>8</a>\u001b[0m path \u001b[39m=\u001b[39m Path(sys\u001b[39m.\u001b[39margv[\u001b[39m1\u001b[39m])\n\u001b[0;32m---> <a href='vscode-notebook-cell://ssh-remote%2Blhy02/work/home/may/code/my_script/notebook/use_pmg.ipynb#W5sdnNjb2RlLXJlbW90ZQ%3D%3D?line=9'>10</a>\u001b[0m struct \u001b[39m=\u001b[39m Structure\u001b[39m.\u001b[39;49mfrom_file(path)\n\u001b[1;32m     <a href='vscode-notebook-cell://ssh-remote%2Blhy02/work/home/may/code/my_script/notebook/use_pmg.ipynb#W5sdnNjb2RlLXJlbW90ZQ%3D%3D?line=10'>11</a>\u001b[0m \u001b[39mprint\u001b[39m(struct\u001b[39m.\u001b[39mcomposition\u001b[39m.\u001b[39mget_integer_formula_and_factor()[\u001b[39m0\u001b[39m])\n\u001b[1;32m     <a href='vscode-notebook-cell://ssh-remote%2Blhy02/work/home/may/code/my_script/notebook/use_pmg.ipynb#W5sdnNjb2RlLXJlbW90ZQ%3D%3D?line=11'>12</a>\u001b[0m \u001b[39mprint\u001b[39m(SpacegroupAnalyzer(struct)\u001b[39m.\u001b[39m_space_group_data)\n",
      "File \u001b[0;32m~/miniconda3/envs/cage/lib/python3.9/site-packages/pymatgen/core/structure.py:2625\u001b[0m, in \u001b[0;36mIStructure.from_file\u001b[0;34m(cls, filename, primitive, sort, merge_tol)\u001b[0m\n\u001b[1;32m   2622\u001b[0m \u001b[39mfrom\u001b[39;00m \u001b[39mpymatgen\u001b[39;00m\u001b[39m.\u001b[39;00m\u001b[39mio\u001b[39;00m\u001b[39m.\u001b[39;00m\u001b[39mvasp\u001b[39;00m \u001b[39mimport\u001b[39;00m Chgcar, Vasprun\n\u001b[1;32m   2624\u001b[0m fname \u001b[39m=\u001b[39m os\u001b[39m.\u001b[39mpath\u001b[39m.\u001b[39mbasename(filename)\n\u001b[0;32m-> 2625\u001b[0m \u001b[39mwith\u001b[39;00m zopen(filename, \u001b[39m\"\u001b[39;49m\u001b[39mrt\u001b[39;49m\u001b[39m\"\u001b[39;49m) \u001b[39mas\u001b[39;00m f:\n\u001b[1;32m   2626\u001b[0m     contents \u001b[39m=\u001b[39m f\u001b[39m.\u001b[39mread()\n\u001b[1;32m   2627\u001b[0m \u001b[39mif\u001b[39;00m fnmatch(fname\u001b[39m.\u001b[39mlower(), \u001b[39m\"\u001b[39m\u001b[39m*.cif*\u001b[39m\u001b[39m\"\u001b[39m) \u001b[39mor\u001b[39;00m fnmatch(fname\u001b[39m.\u001b[39mlower(), \u001b[39m\"\u001b[39m\u001b[39m*.mcif*\u001b[39m\u001b[39m\"\u001b[39m):\n",
      "File \u001b[0;32m~/miniconda3/envs/cage/lib/python3.9/site-packages/monty/io.py:45\u001b[0m, in \u001b[0;36mzopen\u001b[0;34m(filename, *args, **kwargs)\u001b[0m\n\u001b[1;32m     43\u001b[0m \u001b[39mif\u001b[39;00m ext \u001b[39min\u001b[39;00m (\u001b[39m\"\u001b[39m\u001b[39m.XZ\u001b[39m\u001b[39m\"\u001b[39m, \u001b[39m\"\u001b[39m\u001b[39m.LZMA\u001b[39m\u001b[39m\"\u001b[39m):\n\u001b[1;32m     44\u001b[0m     \u001b[39mreturn\u001b[39;00m lzma\u001b[39m.\u001b[39mopen(filename, \u001b[39m*\u001b[39margs, \u001b[39m*\u001b[39m\u001b[39m*\u001b[39mkwargs)\n\u001b[0;32m---> 45\u001b[0m \u001b[39mreturn\u001b[39;00m \u001b[39mopen\u001b[39;49m(filename, \u001b[39m*\u001b[39;49margs, \u001b[39m*\u001b[39;49m\u001b[39m*\u001b[39;49mkwargs)\n",
      "\u001b[0;31mFileNotFoundError\u001b[0m: [Errno 2] No such file or directory: '-f'"
     ]
    }
   ],
   "source": [
    "import sys\n",
    "from pathlib import Path\n",
    "\n",
    "from pymatgen.core.structure import Structure\n",
    "from pymatgen.symmetry.analyzer import SpacegroupAnalyzer\n",
    "\n",
    "path = Path(sys.argv[1])\n",
    "file_name = path.name\n",
    "struct = Structure.from_file(path)\n",
    "name = struct.composition.get_integer_formula_and_factor()[0]\n",
    "num = SpacegroupAnalyzer(struct).get_space_group_number()\n",
    "spg_symbol = SpacegroupAnalyzer(struct).get_space_group_symbol()\n",
    "print(f\"{num}-{spg_symbol}-{name}\")\n",
    "print(f\"{file_name}\")"
   ]
  }
 ],
 "metadata": {
  "kernelspec": {
   "display_name": "Python 3.9.12 ('cage')",
   "language": "python",
   "name": "python3"
  },
  "language_info": {
   "codemirror_mode": {
    "name": "ipython",
    "version": 3
   },
   "file_extension": ".py",
   "mimetype": "text/x-python",
   "name": "python",
   "nbconvert_exporter": "python",
   "pygments_lexer": "ipython3",
   "version": "3.9.12"
  },
  "orig_nbformat": 4,
  "vscode": {
   "interpreter": {
    "hash": "7be20002225008e0f15013c8d0c2132ea9c25a6a6eac33f7f3eb51d43b2fffb6"
   }
  }
 },
 "nbformat": 4,
 "nbformat_minor": 2
}
