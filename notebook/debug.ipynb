{
 "cells": [
  {
   "cell_type": "code",
   "execution_count": 1,
   "metadata": {},
   "outputs": [
    {
     "name": "stdout",
     "output_type": "stream",
     "text": [
      "System Information:\n",
      "ibrav: 4\n",
      "nat: 47\n",
      "ntyp: 3\n",
      "celldm: [9.468104, None, 0.996863]\n",
      "ecutwfc: 60\n",
      "smearing: mp\n",
      "occupations: smearing\n",
      "degauss: 0.02\n",
      "la2f: True\n",
      "\n",
      "Calculation Information:\n",
      "calculation: scf\n",
      "prefix: zra-d-191-Ca2Li5H40\n",
      "pseudo_dir: /work/home/jbw/qe-phono-template/pot/all_pbe_UPF_v1.5\n",
      "outdir: ./\n",
      "tprnfor: True\n",
      "tstress: True\n",
      "etot_conv_thr: 1e-07\n",
      "forc_conv_thr: 1e-06\n"
     ]
    }
   ],
   "source": [
    "import json\n",
    "\n",
    "# 示例的JSON格式数据\n",
    "json_str = '''\n",
    "{\n",
    "  \"system\": {\n",
    "    \"ibrav\": 4,\n",
    "    \"nat\": 47,\n",
    "    \"ntyp\": 3,\n",
    "    \"celldm\": [9.468104, null, 0.996863],\n",
    "    \"ecutwfc\": 60,\n",
    "    \"smearing\": \"mp\",\n",
    "    \"occupations\": \"smearing\",\n",
    "    \"degauss\": 0.02,\n",
    "    \"la2f\": true\n",
    "  },\n",
    "  \"calculation\": \"scf\",\n",
    "  \"prefix\": \"zra-d-191-Ca2Li5H40\",\n",
    "  \"pseudo_dir\": \"/work/home/jbw/qe-phono-template/pot/all_pbe_UPF_v1.5\",\n",
    "  \"outdir\": \"./\",\n",
    "  \"tprnfor\": true,\n",
    "  \"tstress\": true,\n",
    "  \"etot_conv_thr\": 1.0e-7,\n",
    "  \"forc_conv_thr\": 1.0e-6\n",
    "}\n",
    "'''\n",
    "\n",
    "# 解析JSON数据\n",
    "data = json.loads(json_str)\n",
    "\n",
    "# 访问解析后的JSON数据\n",
    "print(\"System Information:\")\n",
    "print(\"ibrav:\", data[\"system\"][\"ibrav\"])\n",
    "print(\"nat:\", data[\"system\"][\"nat\"])\n",
    "print(\"ntyp:\", data[\"system\"][\"ntyp\"])\n",
    "print(\"celldm:\", data[\"system\"][\"celldm\"])\n",
    "print(\"ecutwfc:\", data[\"system\"][\"ecutwfc\"])\n",
    "print(\"smearing:\", data[\"system\"][\"smearing\"])\n",
    "print(\"occupations:\", data[\"system\"][\"occupations\"])\n",
    "print(\"degauss:\", data[\"system\"][\"degauss\"])\n",
    "print(\"la2f:\", data[\"system\"][\"la2f\"])\n",
    "\n",
    "print(\"\\nCalculation Information:\")\n",
    "print(\"calculation:\", data[\"calculation\"])\n",
    "print(\"prefix:\", data[\"prefix\"])\n",
    "print(\"pseudo_dir:\", data[\"pseudo_dir\"])\n",
    "print(\"outdir:\", data[\"outdir\"])\n",
    "print(\"tprnfor:\", data[\"tprnfor\"])\n",
    "print(\"tstress:\", data[\"tstress\"])\n",
    "print(\"etot_conv_thr:\", data[\"etot_conv_thr\"])\n",
    "print(\"forc_conv_thr:\", data[\"forc_conv_thr\"])\n"
   ]
  }
 ],
 "metadata": {
  "kernelspec": {
   "display_name": "cage",
   "language": "python",
   "name": "python3"
  },
  "language_info": {
   "codemirror_mode": {
    "name": "ipython",
    "version": 3
   },
   "file_extension": ".py",
   "mimetype": "text/x-python",
   "name": "python",
   "nbconvert_exporter": "python",
   "pygments_lexer": "ipython3",
   "version": "3.9.15"
  },
  "orig_nbformat": 4
 },
 "nbformat": 4,
 "nbformat_minor": 2
}
