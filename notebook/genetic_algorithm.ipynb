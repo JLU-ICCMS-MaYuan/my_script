{
 "cells": [
  {
   "cell_type": "code",
   "execution_count": 1908,
   "metadata": {},
   "outputs": [],
   "source": [
    "import sys\n",
    "import numpy as np"
   ]
  },
  {
   "cell_type": "markdown",
   "metadata": {},
   "source": [
    "### 1. 确定决策变量和约束条件\n",
    "决策变量 -> 表现型 X \\\n",
    "约束条件 -> 解空间 "
   ]
  },
  {
   "cell_type": "markdown",
   "metadata": {},
   "source": [
    "### 2. 建立优化模型"
   ]
  },
  {
   "cell_type": "code",
   "execution_count": 1909,
   "metadata": {},
   "outputs": [],
   "source": [
    "def f(x1, x2):\n",
    "    part1 = np.power(x1, 2) - x2\n",
    "    part2 = 1 - x1\n",
    "    return 100 * np.power(part1, 2) + np.power(part2, 2)"
   ]
  },
  {
   "cell_type": "markdown",
   "metadata": {},
   "source": [
    "### 3. 确定编码方法"
   ]
  },
  {
   "cell_type": "code",
   "execution_count": 1910,
   "metadata": {},
   "outputs": [],
   "source": [
    "def to_bin(value, num):\n",
    "    bin_chars = ''\n",
    "    temp = value\n",
    "    for i in range(num):\n",
    "        bin_char = bin(temp % 2)[-1]\n",
    "        temp = temp // 2\n",
    "        bin_chars = bin_char + bin_chars\n",
    "    return bin_chars.upper()\n",
    "\n",
    "def encode():\n",
    "    y1 = np.random.randint(0, 1024)\n",
    "    y2 = np.random.randint(0, 1024)\n",
    "    X1 = to_bin(y1, 10)\n",
    "    X2 = to_bin(y2, 10)\n",
    "    X = X1 + X2\n",
    "    # return X1, X2\n",
    "    return X"
   ]
  },
  {
   "cell_type": "markdown",
   "metadata": {},
   "source": [
    "### 4. 确定解码方法"
   ]
  },
  {
   "cell_type": "code",
   "execution_count": 1911,
   "metadata": {},
   "outputs": [],
   "source": [
    "# def decode(X1, X2):\n",
    "def decode(X):\n",
    "    X1 = X[:10]\n",
    "    X2 = X[10:]\n",
    "    y1 = int(X1, 2)\n",
    "    y2 = int(X2, 2)\n",
    "    x1 = 4.096 * y1 / 1023 - 2.048\n",
    "    x2 = 4.096 * y2 / 1023 - 2.048\n",
    "    return x1, x2\n"
   ]
  },
  {
   "cell_type": "code",
   "execution_count": 1912,
   "metadata": {},
   "outputs": [
    {
     "name": "stdout",
     "output_type": "stream",
     "text": [
      "10 10\n"
     ]
    },
    {
     "data": {
      "text/plain": [
       "(0.08208015640273691, 1.2992688172043008)"
      ]
     },
     "execution_count": 1912,
     "metadata": {},
     "output_type": "execute_result"
    }
   ],
   "source": [
    "# TEST encode decode\n",
    "X = encode()\n",
    "print(len(X[:10]), len(X[10:]))\n",
    "decode(X)"
   ]
  },
  {
   "cell_type": "markdown",
   "metadata": {},
   "source": [
    "### 5. 确定个体评价方法 -> 计算适应度"
   ]
  },
  {
   "cell_type": "code",
   "execution_count": 1913,
   "metadata": {},
   "outputs": [],
   "source": [
    "# def F(X):\n",
    "def F(*args):\n",
    "    # x1, x2 = decode(X)\n",
    "    x1 = args[0]\n",
    "    x2 = args[1]\n",
    "    return f(x1, x2)\n",
    "\n",
    "# F(0.2, 0.5)"
   ]
  },
  {
   "cell_type": "markdown",
   "metadata": {},
   "source": [
    "### 6. 设计遗传算子"
   ]
  },
  {
   "cell_type": "markdown",
   "metadata": {},
   "source": [
    "选择运算 -> 比例选择算子\\\n",
    "交叉运算 -> 单点交叉算子\\\n",
    "变异运算 -> 基本位变异算子\\"
   ]
  },
  {
   "cell_type": "markdown",
   "metadata": {},
   "source": [
    "### 7. 确定遗传算法的运行参数"
   ]
  },
  {
   "cell_type": "code",
   "execution_count": 1914,
   "metadata": {},
   "outputs": [],
   "source": [
    "# 群体大小 \n",
    "M = 80\n",
    "# 中止迭代\n",
    "Maxstep = 200\n",
    "# 交叉概率\n",
    "Pc = 0.6\n",
    "# 变异概率\n",
    "Pm = 0.001"
   ]
  },
  {
   "cell_type": "markdown",
   "metadata": {},
   "source": [
    "### 8. 遗传算法主体部分"
   ]
  },
  {
   "cell_type": "code",
   "execution_count": 1915,
   "metadata": {},
   "outputs": [],
   "source": [
    "def select_operator(fitness):\n",
    "    \"\"\"\n",
    "    1. 计算出群体中所有个体的适应度的总和\n",
    "    2. 计算每个个体的相对适应度的大小, 即每个个体被遗传到下一代的概率, 每个概率值组成一个区域, 全部区域的概率值之和为1\n",
    "    3. 最后再产生一个0-1随机数, 依据该随机数出现在哪个区域确定各个个体被选中的次数\n",
    "    \"\"\"\n",
    "    total_fit = np.sum(fitness[:,1], axis=0) \n",
    "    sele_prob = np.expand_dims(fitness[:,1]/total_fit, axis=1)\n",
    "    cumu_prob = np.cumsum(sele_prob, axis=0)\n",
    "    selected_indexcs = []\n",
    "    for i in range(fitness.shape[0]):\n",
    "        tmp = np.random.random()\n",
    "        select_index = np.where(tmp < cumu_prob)[0][0]\n",
    "        selected_indexcs.append(select_index)\n",
    "    return selected_indexcs\n",
    "\n",
    "# select_operator(np.array([[0, 24324], [1,34534], [2,45756], [3,54564]]))"
   ]
  },
  {
   "cell_type": "code",
   "execution_count": 1916,
   "metadata": {},
   "outputs": [],
   "source": [
    "def crossover_operation(selected_group, gene_length=10):\n",
    "    \"\"\"\n",
    "    1. 先对选择出来的群体进行随机配对\n",
    "    2. 随机设置交叉点位置\n",
    "    3. 相互交换配对的染色体之间的部分基因\n",
    "    \"\"\"\n",
    "    crossover_group = []\n",
    "    pairs_num = selected_group.shape[0]//2\n",
    "    for i in range(pairs_num):\n",
    "        Pairofgenes = selected_group[np.random.choice(selected_group.shape[0], 2, replace=False), :]\n",
    "        crossover_position = np.random.randint(0, gene_length)\n",
    "        gene_1 = Pairofgenes[0][1][:crossover_position+1] + Pairofgenes[1][1][crossover_position+1:]\n",
    "        gene_2 = Pairofgenes[1][1][:crossover_position+1] + Pairofgenes[0][1][crossover_position+1:]\n",
    "        crossover_group.append(gene_1)\n",
    "        crossover_group.append(gene_2)\n",
    "    return crossover_group\n",
    "\n",
    "# crossover_operation(np.array([[0, \"0000000000\"], [1,\"1111111111\"], [2,\"1010101010\"], [3,\"0101010101\"]], dtype=object))"
   ]
  },
  {
   "cell_type": "code",
   "execution_count": 1917,
   "metadata": {},
   "outputs": [],
   "source": [
    "def mutate_operation(crossover_operation, gene_length=10):\n",
    "    \"\"\" \n",
    "    1. 确定各个个体的基因变异位置\n",
    "    2. 依据某一概率将变异点的原有基因值取反\n",
    "    \"\"\"\n",
    "    mutate_group = []\n",
    "    for gene in crossover_operation:\n",
    "        mutate_position = np.random.randint(0, gene_length)\n",
    "        if np.random.random() < Pm:\n",
    "            mutated_gene = gene[:mutate_position] + str(int(not(int(gene[mutate_position])))) + gene[mutate_position+1:]\n",
    "            mutate_group.append(mutated_gene)\n",
    "        else:\n",
    "            mutate_group.append(gene)\n",
    "    return mutate_group\n",
    "\n",
    "# mutate_operation([\"0000000000\"])"
   ]
  },
  {
   "cell_type": "code",
   "execution_count": 1918,
   "metadata": {},
   "outputs": [],
   "source": [
    "def create_newgroup(mutate_group):\n",
    "    newgroup = np.asarray([[index, indiv] for index, indiv in enumerate(mutate_group)], dtype=object)\n",
    "    return newgroup"
   ]
  },
  {
   "cell_type": "code",
   "execution_count": 1919,
   "metadata": {},
   "outputs": [],
   "source": [
    "def main_genetic():\n",
    "    # 初始化初代群体的基因\n",
    "    group0 = np.asarray([[index, encode()] for index in range(M)], dtype=object)\n",
    "    group  = group0\n",
    "    # 设置迭代步数\n",
    "    step = 0\n",
    "    step_fit = []\n",
    "    # 开始迭代\n",
    "    while (step <= Maxstep):\n",
    "        # 解码\n",
    "        group_decode = np.asarray([[index, decode(X)] for index, X in group], dtype=object)\n",
    "        \n",
    "        # 计算, 评估适应度\n",
    "        fitness = np.asarray([[index, F(*xi)] for index, xi in group_decode], dtype=object)\n",
    "        max_fit = np.max(fitness[:, 1])\n",
    "\n",
    "        # 选择运算: 依据与适应度成正比的概率将适应度较高的个体遗传到下一代群体中\n",
    "        selected_indexes = select_operator(fitness)\n",
    "        selected_group = np.asarray([[index, group[index, 1]] for index in selected_indexes], dtype=object)\n",
    "        \n",
    "        # 交叉运算\n",
    "        crossover_group = crossover_operation(selected_group, 10)\n",
    "\n",
    "        # 变异运算\n",
    "        mutate_group = mutate_operation(crossover_group, 10)\n",
    "        \n",
    "        # 迭代出下一代群体\n",
    "        group = create_newgroup(mutate_group)\n",
    "        step += 1\n",
    "\n",
    "        step_fit.append([step, max_fit])\n",
    "\n",
    "    step_fit = np.asarray(step_fit)\n",
    "    return step_fit\n",
    "\n",
    "step_fit = main_genetic()"
   ]
  },
  {
   "cell_type": "code",
   "execution_count": 1920,
   "metadata": {},
   "outputs": [
    {
     "data": {
      "image/png": "[encoded data removed]",
      "text/plain": [
       "<Figure size 432x288 with 1 Axes>"
      ]
     },
     "metadata": {
      "needs_background": "light"
     },
     "output_type": "display_data"
    }
   ],
   "source": [
    "import matplotlib.pyplot as plt\n",
    "import numpy as np\n",
    "\n",
    "x = step_fit[:, 0]\n",
    "y = step_fit[:, 1]\n",
    "\n",
    "fig, ax = plt.subplots()\n",
    "ax.plot(x, y)\n",
    "ax.plot([0,200], [3905.9296, 3905.9296])\n",
    "\n",
    "ax.grid(True, linestyle='-.')\n",
    "ax.tick_params(labelcolor='r', labelsize='medium', width=3)\n",
    "ax.set_xlim(-1, 200)\n",
    "\n",
    "plt.show()"
   ]
  },
  {
   "cell_type": "markdown",
   "metadata": {},
   "source": [
    "#### 轮盘赌demo"
   ]
  },
  {
   "cell_type": "code",
   "execution_count": 1921,
   "metadata": {},
   "outputs": [
    {
     "name": "stdout",
     "output_type": "stream",
     "text": [
      "[[0.         4.         0.0952381  0.0952381 ]\n",
      " [1.         3.         0.07142857 0.16666667]\n",
      " [2.         2.         0.04761905 0.21428571]\n",
      " [3.         4.         0.0952381  0.30952381]\n",
      " [4.         2.         0.04761905 0.35714286]\n",
      " [5.         7.         0.16666667 0.52380952]\n",
      " [6.         3.         0.07142857 0.5952381 ]\n",
      " [7.         6.         0.14285714 0.73809524]\n",
      " [8.         8.         0.19047619 0.92857143]\n",
      " [9.         3.         0.07142857 1.        ]]\n"
     ]
    },
    {
     "data": {
      "text/plain": [
       "[6, 7, 8, 3, 1, 8, 7, 6, 6, 8]"
      ]
     },
     "execution_count": 1921,
     "metadata": {},
     "output_type": "execute_result"
    }
   ],
   "source": [
    "# 随机生成5个适应度值\n",
    "X = np.random.randint(1, 10, 10)\n",
    "index   = np.arange(len(X))\n",
    "index_X = np.concatenate((index[:, np.newaxis], X[:, np.newaxis]), axis=1)\n",
    "\n",
    "# 计算这五个适应度值的和\n",
    "tot_X   = np.sum(X)\n",
    "\n",
    "# 计算选择概率\n",
    "sele_prob = np.expand_dims(X / tot_X, axis=1)\n",
    "\n",
    "# 计算累计概率\n",
    "cumu_prob = np.cumsum(sele_prob, axis=0)\n",
    "\n",
    "index_X_prob = np.concatenate((index_X, sele_prob, cumu_prob), axis=1)\n",
    "print(index_X_prob)\n",
    "\n",
    "# 计算每个适应度值被选中的次数\n",
    "selected_tot = []\n",
    "for i in range(len(X)):\n",
    "    tmp = np.random.random()\n",
    "    selected_herit = np.where(tmp < index_X_prob[:, 3])[0][0]\n",
    "    selected_tot.append(selected_herit)\n",
    "selected_tot"
   ]
  }
 ],
 "metadata": {
  "kernelspec": {
   "display_name": "Python 3.9.15 ('cage')",
   "language": "python",
   "name": "python3"
  },
  "language_info": {
   "codemirror_mode": {
    "name": "ipython",
    "version": 3
   },
   "file_extension": ".py",
   "mimetype": "text/x-python",
   "name": "python",
   "nbconvert_exporter": "python",
   "pygments_lexer": "ipython3",
   "version": "3.9.15"
  },
  "orig_nbformat": 4,
  "vscode": {
   "interpreter": {
    "hash": "7be20002225008e0f15013c8d0c2132ea9c25a6a6eac33f7f3eb51d43b2fffb6"
   }
  }
 },
 "nbformat": 4,
 "nbformat_minor": 2
}
