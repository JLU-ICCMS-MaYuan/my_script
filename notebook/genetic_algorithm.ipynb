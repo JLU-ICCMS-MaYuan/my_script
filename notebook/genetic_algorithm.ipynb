{
 "cells": [
  {
   "cell_type": "code",
   "execution_count": null,
   "metadata": {},
   "outputs": [
    {
     "ename": "",
     "evalue": "",
     "output_type": "error",
     "traceback": [
      "\u001b[1;31mFailed to start the Kernel. \n",
      "\u001b[1;31mTraceback (most recent call last):\n",
      "\u001b[1;31m  File \"/public/home/mayuan/.local/lib/python3.6/site-packages/notebook/services/sessions/sessionmanager.py\", line 9, in <module>\n",
      "\u001b[1;31m    import sqlite3\n",
      "\u001b[1;31m  File \"/usr/local/python3/lib/python3.6/sqlite3/__init__.py\", line 23, in <module>\n",
      "\u001b[1;31m    from sqlite3.dbapi2 import *\n",
      "\u001b[1;31m  File \"/usr/local/python3/lib/python3.6/sqlite3/dbapi2.py\", line 27, in <module>\n",
      "\u001b[1;31m    from _sqlite3 import *\n",
      "\u001b[1;31mModuleNotFoundError: No module named '_sqlite3'\n",
      "\u001b[1;31m\n",
      "\u001b[1;31mDuring handling of the above exception, another exception occurred:\n",
      "\u001b[1;31m\n",
      "\u001b[1;31mTraceback (most recent call last):\n",
      "\u001b[1;31m  File \"/public/home/mayuan/.vscode-server/extensions/ms-toolsai.jupyter-2022.9.1303220346/pythonFiles/vscode_datascience_helpers/jupyter_daemon.py\", line 158, in _start_notebook\n",
      "\u001b[1;31m    from notebook import notebookapp as app\n",
      "\u001b[1;31m  File \"/public/home/mayuan/.local/lib/python3.6/site-packages/notebook/notebookapp.py\", line 83, in <module>\n",
      "\u001b[1;31m    from .services.sessions.sessionmanager import SessionManager\n",
      "\u001b[1;31m  File \"/public/home/mayuan/.local/lib/python3.6/site-packages/notebook/services/sessions/sessionmanager.py\", line 12, in <module>\n",
      "\u001b[1;31m    from pysqlite2 import dbapi2 as sqlite3\n",
      "\u001b[1;31mModuleNotFoundError: No module named 'pysqlite2'\n",
      "\u001b[1;31m\n",
      "\u001b[1;31mDuring handling of the above exception, another exception occurred:\n",
      "\u001b[1;31m\n",
      "\u001b[1;31mTraceback (most recent call last):\n",
      "\u001b[1;31m  File \"/public/home/mayuan/.vscode-server/extensions/ms-toolsai.jupyter-2022.9.1303220346/pythonFiles/vscode_datascience_helpers/daemon/daemon_python.py\", line 54, in _decorator\n",
      "\u001b[1;31m    return func(self, *args, **kwargs)\n",
      "\u001b[1;31m  File \"/public/home/mayuan/.vscode-server/extensions/ms-toolsai.jupyter-2022.9.1303220346/pythonFiles/vscode_datascience_helpers/jupyter_daemon.py\", line 111, in m_exec_module_observable\n",
      "\u001b[1;31m    self._start_notebook(args, cwd, env)\n",
      "\u001b[1;31m  File \"/public/home/mayuan/.vscode-server/extensions/ms-toolsai.jupyter-2022.9.1303220346/pythonFiles/vscode_datascience_helpers/jupyter_daemon.py\", line 160, in _start_notebook\n",
      "\u001b[1;31m    from notebook import app as app\n",
      "\u001b[1;31mImportError: cannot import name 'app'\n",
      "\u001b[1;31m\n",
      "\u001b[1;31mFailed to run jupyter as observable with args notebook --no-browser --notebook-dir=\"/public/home/mayuan/code/my_script/notebook\" --config=/tmp/7631f937-ad81-4577-9a84-497e7c9fb508/jupyter_notebook_config.py --NotebookApp.iopub_data_rate_limit=10000000000.0. \n",
      "\u001b[1;31mView Jupyter <a href='command:jupyter.viewOutput'>log</a> for further details."
     ]
    }
   ],
   "source": [
    "import sys\n",
    "import numpy as np"
   ]
  },
  {
   "cell_type": "markdown",
   "metadata": {},
   "source": [
    "### 1. 确定决策变量和约束条件\n",
    "决策变量 -> 表现型 X \\\n",
    "约束条件 -> 解空间 "
   ]
  },
  {
   "cell_type": "markdown",
   "metadata": {},
   "source": [
    "### 2. 建立优化模型"
   ]
  },
  {
   "cell_type": "code",
   "execution_count": 227,
   "metadata": {},
   "outputs": [],
   "source": [
    "def f(x1, x2):\n",
    "    part1 = np.power(x1, 2) - x2\n",
    "    part2 = 1 - x1\n",
    "    return 100 * np.power(part1, 2) + np.power(part2, 2)"
   ]
  },
  {
   "cell_type": "markdown",
   "metadata": {},
   "source": [
    "### 3. 确定编码方法"
   ]
  },
  {
   "cell_type": "code",
   "execution_count": 228,
   "metadata": {},
   "outputs": [],
   "source": [
    "def to_bin(value, num):\n",
    "    bin_chars = ''\n",
    "    temp = value\n",
    "    for i in range(num):\n",
    "        bin_char = bin(temp % 2)[-1]\n",
    "        temp = temp // 2\n",
    "        bin_chars = bin_char + bin_chars\n",
    "    return bin_chars.upper()\n",
    "\n",
    "def encode():\n",
    "    y1 = np.random.randint(0, 1024)\n",
    "    y2 = np.random.randint(0, 1024)\n",
    "    X1 = to_bin(y1, 10)\n",
    "    X2 = to_bin(y2, 10)\n",
    "    X = X1 + X2\n",
    "    # return X1, X2\n",
    "    return X"
   ]
  },
  {
   "cell_type": "markdown",
   "metadata": {},
   "source": [
    "### 4. 确定解码方法"
   ]
  },
  {
   "cell_type": "code",
   "execution_count": 229,
   "metadata": {},
   "outputs": [],
   "source": [
    "# def decode(X1, X2):\n",
    "def decode(X):\n",
    "    X1 = X[:10]\n",
    "    X2 = X[10:]\n",
    "    y1 = int(X1, 2)\n",
    "    y2 = int(X2, 2)\n",
    "    x1 = 4.096 * y1 / 1023 - 2.048\n",
    "    x2 = 4.096 * y2 / 1023 - 2.048\n",
    "    return x1, x2\n"
   ]
  },
  {
   "cell_type": "code",
   "execution_count": 230,
   "metadata": {},
   "outputs": [
    {
     "name": "stdout",
     "output_type": "stream",
     "text": [
      "10 10\n"
     ]
    },
    {
     "data": {
      "text/plain": [
       "(-0.8988778103616812, 1.6756363636363636)"
      ]
     },
     "execution_count": 230,
     "metadata": {},
     "output_type": "execute_result"
    }
   ],
   "source": [
    "# TEST encode decode\n",
    "X = encode()\n",
    "print(len(X[:10]), len(X[10:]))\n",
    "decode(X)"
   ]
  },
  {
   "cell_type": "markdown",
   "metadata": {},
   "source": [
    "### 5. 确定个体评价方法 -> 计算适应度"
   ]
  },
  {
   "cell_type": "code",
   "execution_count": 231,
   "metadata": {},
   "outputs": [],
   "source": [
    "# def F(X):\n",
    "def F(*args):\n",
    "    # x1, x2 = decode(X)\n",
    "    x1 = args[0]\n",
    "    x2 = args[1]\n",
    "    return f(x1, x2)\n",
    "\n",
    "# F(0.2, 0.5)"
   ]
  },
  {
   "cell_type": "markdown",
   "metadata": {},
   "source": [
    "### 6. 设计遗传算子"
   ]
  },
  {
   "cell_type": "markdown",
   "metadata": {},
   "source": [
    "选择运算 -> 比例选择算子\\\n",
    "交叉运算 -> 单点交叉算子\\\n",
    "变异运算 -> 基本位变异算子\\"
   ]
  },
  {
   "cell_type": "markdown",
   "metadata": {},
   "source": [
    "### 7. 确定遗传算法的运行参数"
   ]
  },
  {
   "cell_type": "code",
   "execution_count": 232,
   "metadata": {},
   "outputs": [],
   "source": [
    "# 群体大小 \n",
    "M = 80\n",
    "# 中止迭代\n",
    "Maxstep = 200\n",
    "# 交叉概率\n",
    "Pc = 0.6\n",
    "# 变异概率\n",
    "Pm = 0.001"
   ]
  },
  {
   "cell_type": "markdown",
   "metadata": {},
   "source": [
    "### 8. 遗传算法主体部分"
   ]
  },
  {
   "cell_type": "code",
   "execution_count": 233,
   "metadata": {},
   "outputs": [],
   "source": [
    "def select_operator(fitness):\n",
    "    \"\"\"\n",
    "    1. 计算出群体中所有个体的适应度的总和\n",
    "    2. 计算每个个体的相对适应度的大小, 即每个个体被遗传到下一代的概率, 每个概率值组成一个区域, 全部区域的概率值之和为1\n",
    "    3. 最后再产生一个0-1随机数, 依据该随机数出现在哪个区域确定各个个体被选中的次数\n",
    "    \"\"\"\n",
    "    total_fit = np.sum(fitness[:,1], axis=0) \n",
    "    sele_prob = np.expand_dims(fitness[:,1]/total_fit, axis=1)\n",
    "    cumu_prob = np.cumsum(sele_prob, axis=0)\n",
    "    selected_indexcs = []\n",
    "    for i in range(fitness.shape[0]):\n",
    "        tmp = np.random.random()\n",
    "        select_index = np.where(tmp < cumu_prob)[0][0]\n",
    "        selected_indexcs.append(select_index)\n",
    "    return selected_indexcs\n",
    "\n",
    "# select_operator(np.array([[0, 24324], [1,34534], [2,45756], [3,54564]]))"
   ]
  },
  {
   "cell_type": "code",
   "execution_count": 234,
   "metadata": {},
   "outputs": [
    {
     "data": {
      "text/plain": [
       "['1010111111', '1111101010', '0100101010', '1011010101']"
      ]
     },
     "execution_count": 234,
     "metadata": {},
     "output_type": "execute_result"
    }
   ],
   "source": [
    "def crossover_operation(selected_group, gene_length=10):\n",
    "    \"\"\"\n",
    "    1. 先对选择出来的群体进行随机配对\n",
    "    2. 随机设置交叉点位置\n",
    "    3. 相互交换配对的染色体之间的部分基因\n",
    "    \"\"\"\n",
    "    crossover_group = []\n",
    "    pairs_num = selected_group.shape[0]//2\n",
    "    for i in range(pairs_num):\n",
    "        Pairofgenes = selected_group[np.random.choice(selected_group.shape[0], 2, replace=False), :]\n",
    "        crossover_position = np.random.randint(0, gene_length)\n",
    "        gene_1 = Pairofgenes[0][1][:crossover_position+1] + Pairofgenes[1][1][crossover_position+1:]\n",
    "        gene_2 = Pairofgenes[1][1][:crossover_position+1] + Pairofgenes[0][1][crossover_position+1:]\n",
    "        crossover_group.append(gene_1)\n",
    "        crossover_group.append(gene_2)\n",
    "    return crossover_group\n",
    "\n",
    "crossover_operation(np.array([[0, \"0000000000\"], [1,\"1111111111\"], [2,\"1010101010\"], [3,\"0101010101\"]], dtype=object))"
   ]
  },
  {
   "cell_type": "code",
   "execution_count": 235,
   "metadata": {},
   "outputs": [],
   "source": [
    "def mutate_operation(crossover_operation, gene_length=10):\n",
    "    \"\"\" \n",
    "    1. 确定各个个体的基因变异位置\n",
    "    2. 依据某一概率将变异点的原有基因值取反\n",
    "    \"\"\"\n",
    "    mutate_group = []\n",
    "    for gene in crossover_operation:\n",
    "        mutate_position = np.random.randint(0, gene_length)\n",
    "        if np.random.random() < Pm:\n",
    "            mutated_gene = gene[:mutate_position] + str(int(not(int(gene[mutate_position])))) + gene[mutate_position+1:]\n",
    "            mutate_group.append(mutated_gene)\n",
    "        else:\n",
    "            mutate_group.append(gene)\n",
    "    return mutate_group\n",
    "\n",
    "# mutate_operation([\"0000000000\"])\n",
    "\n"
   ]
  },
  {
   "cell_type": "code",
   "execution_count": 237,
   "metadata": {},
   "outputs": [
    {
     "name": "stdout",
     "output_type": "stream",
     "text": [
      "['11110101111101000010', '11111011001110110100', '00010011100000010001', '11101110001000111111', '00100000100110000000', '11111100111001100000', '01011001001000001010', '10100000101001100000', '11111100110110000000', '11000100001000110110', '00110011100000010001', '11100100110100111011', '11110011100000010001', '11110111011010011100', '11110011001000001010', '11011001100000010001', '00101000001101111110', '11110101100011010001', '11111110110000110111', '10011111000011010000', '11111000000000110000', '00111000001001101011', '11111100110110000000', '11111100110110000000', '11110011110100111011', '00100100100000010001', '11110100110100111011', '00100101111101000010', '11001101011000110001', '11110011000101010110', '11110010110011010000', '11111111100000010001', '11011000110110000000', '11111101001000001010', '00101101100000010001', '11110010110100100001', '11011001001000111111', '00001110001000001010', '11110011001110110100', '11111011100000010001', '00101101100000010001', '11110011100011010001', '11110111011010011100', '11010011000101010110', '00011010010110100010', '10111001100101111101', '11110101100000010001', '11110011111101000010', '00010000001101111110', '11110100001000101101', '11111001110110100010', '10111110110011010000', '00100100110100100001', '00101100110100111011', '00001111110110100010', '10111000001010110011', '11101101000000010001', '11110011111000110001', '00100100001000110110', '11001100110100100001', '10010111000010101101', '11110101111101000010', '00101100100000010001', '11110011110100100001', '11010011001000110001', '11101101010010111001', '00111000001101111110', '11110000000000110000', '11110111001110110100', '11111011011010011100', '11111110110011010000', '11011100011000110001', '11110010001111010010', '00001101100000010001', '11111100011000110001', '11011110110011010000', '11110101100011010001', '00101011100000010001', '11111101110100110010', '00011100110110000000']\n"
     ]
    },
    {
     "ename": "SystemExit",
     "evalue": "0",
     "output_type": "error",
     "traceback": [
      "An exception has occurred, use %tb to see the full traceback.\n",
      "\u001b[0;31mSystemExit\u001b[0m\u001b[0;31m:\u001b[0m 0\n"
     ]
    }
   ],
   "source": [
    "def main_genetic():\n",
    "    # 初始化初代群体的基因\n",
    "    group0 = np.asarray([[index, encode()] for index in range(M)], dtype=object)\n",
    "    group  = group0\n",
    "    # 设置迭代步数\n",
    "    step = 0\n",
    "\n",
    "    # 开始迭代\n",
    "    while (step <= Maxstep):\n",
    "        # 解码\n",
    "        group_decode = np.asarray([[index, decode(X)] for index, X in group], dtype=object)\n",
    "        \n",
    "        # 计算, 评估适应度\n",
    "        fitness = np.asarray([[index, F(*xi)] for index, xi in group_decode], dtype=object)\n",
    "\n",
    "        # 选择运算: 依据与适应度成正比的概率将适应度较高的个体遗传到下一代群体中\n",
    "        selected_indexes = select_operator(fitness)\n",
    "        selected_group = np.asarray([[index, group[index, 1]] for index in selected_indexes], dtype=object)\n",
    "        \n",
    "        # 交叉运算\n",
    "        crossover_group = crossover_operation(selected_group, 10)\n",
    "\n",
    "        # 变异运算\n",
    "        mutate_group = mutate_operation(crossover_group, 10)\n",
    "        print(mutate_group)\n",
    "        \n",
    "        # 迭代出下一代群体\n",
    "        pass\n",
    "        step += 1\n",
    "        if step == 1:\n",
    "            sys.exit(0)\n",
    "\n",
    "main_genetic()"
   ]
  },
  {
   "cell_type": "markdown",
   "metadata": {},
   "source": [
    "#### 轮盘赌demo"
   ]
  },
  {
   "cell_type": "code",
   "execution_count": null,
   "metadata": {},
   "outputs": [
    {
     "name": "stdout",
     "output_type": "stream",
     "text": [
      "[[0.         8.         0.13793103 0.13793103]\n",
      " [1.         4.         0.06896552 0.20689655]\n",
      " [2.         2.         0.03448276 0.24137931]\n",
      " [3.         9.         0.15517241 0.39655172]\n",
      " [4.         7.         0.12068966 0.51724138]\n",
      " [5.         3.         0.05172414 0.56896552]\n",
      " [6.         6.         0.10344828 0.67241379]\n",
      " [7.         7.         0.12068966 0.79310345]\n",
      " [8.         3.         0.05172414 0.84482759]\n",
      " [9.         9.         0.15517241 1.        ]]\n",
      "[False False False False False False False  True  True  True]\n",
      "[False False False  True  True  True  True  True  True  True]\n",
      "[False False False False False False False False False  True]\n",
      "[ True  True  True  True  True  True  True  True  True  True]\n",
      "[False False False False False False False False False  True]\n",
      "[False False False False False  True  True  True  True  True]\n",
      "[False False False False False False False  True  True  True]\n",
      "[False False False False False False  True  True  True  True]\n",
      "[ True  True  True  True  True  True  True  True  True  True]\n",
      "[False False False False False  True  True  True  True  True]\n"
     ]
    },
    {
     "data": {
      "text/plain": [
       "[7, 3, 9, 0, 9, 5, 7, 6, 0, 5]"
      ]
     },
     "execution_count": 60,
     "metadata": {},
     "output_type": "execute_result"
    }
   ],
   "source": [
    "# 随机生成5个适应度值\n",
    "X = np.random.randint(1, 10, 10)\n",
    "index   = np.arange(len(X))\n",
    "index_X = np.concatenate((index[:, np.newaxis], X[:, np.newaxis]), axis=1)\n",
    "\n",
    "# 计算这五个适应度值的和\n",
    "tot_X   = np.sum(X)\n",
    "\n",
    "# 计算选择概率\n",
    "sele_prob = np.expand_dims(X / tot_X, axis=1)\n",
    "\n",
    "# 计算累计概率\n",
    "cumu_prob = np.cumsum(sele_prob, axis=0)\n",
    "\n",
    "index_X_prob = np.concatenate((index_X, sele_prob, cumu_prob), axis=1)\n",
    "print(index_X_prob)\n",
    "\n",
    "# 计算每个适应度值被选中的次数\n",
    "selected_tot = []\n",
    "for i in range(len(X)):\n",
    "    tmp = np.random.random()\n",
    "    selected_herit = np.where(tmp < index_X_prob[:, 3])[0][0]\n",
    "    selected_tot.append(selected_herit)\n",
    "selected_tot"
   ]
  },
  {
   "cell_type": "code",
   "execution_count": null,
   "metadata": {},
   "outputs": [
    {
     "data": {
      "text/plain": [
       "array([[ 1. ,  0.1],\n",
       "       [ 3. ,  0.3],\n",
       "       [ 6. ,  0.6],\n",
       "       [10. ,  1. ]])"
      ]
     },
     "execution_count": 99,
     "metadata": {},
     "output_type": "execute_result"
    }
   ],
   "source": [
    "import numpy as np\n",
    "m = np.array([\n",
    "[1, 0.1],\n",
    "[2, 0.2],\n",
    "[3, 0.3],\n",
    "[4, 0.4],\n",
    "])\n",
    "np.cumsum(m,axis=0)"
   ]
  },
  {
   "cell_type": "code",
   "execution_count": null,
   "metadata": {},
   "outputs": [
    {
     "data": {
      "text/plain": [
       "True"
      ]
     },
     "execution_count": 88,
     "metadata": {},
     "output_type": "execute_result"
    }
   ],
   "source": [
    "x=\"0\"\n",
    "not(int(x))"
   ]
  }
 ],
 "metadata": {
  "kernelspec": {
   "display_name": "Python 3.9.12 ('cage')",
   "language": "python",
   "name": "python3"
  },
  "language_info": {
   "codemirror_mode": {
    "name": "ipython",
    "version": 3
   },
   "file_extension": ".py",
   "mimetype": "text/x-python",
   "name": "python",
   "nbconvert_exporter": "python",
   "pygments_lexer": "ipython3",
   "version": "3.9.12"
  },
  "orig_nbformat": 4,
  "vscode": {
   "interpreter": {
    "hash": "7be20002225008e0f15013c8d0c2132ea9c25a6a6eac33f7f3eb51d43b2fffb6"
   }
  }
 },
 "nbformat": 4,
 "nbformat_minor": 2
}
