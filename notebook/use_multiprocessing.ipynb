{
 "cells": [
  {
   "cell_type": "code",
   "execution_count": 1,
   "metadata": {},
   "outputs": [],
   "source": [
    "import math\n",
    "import time\n",
    "from concurrent.futures import ThreadPoolExecutor, ProcessPoolExecutor"
   ]
  },
  {
   "cell_type": "code",
   "execution_count": 2,
   "metadata": {},
   "outputs": [],
   "source": [
    "PRIMES = [12321234543252345234]*100\n",
    "\n",
    "def is_prime(n):\n",
    "    if n<2:\n",
    "        return False\n",
    "    if n==2:\n",
    "        return True\n",
    "    if n%2==0:\n",
    "        return False\n",
    "    sqrt_n = int(math.floor(math.sqrt(n)))\n",
    "    for i in range(3, sqrt_n+1, 2):\n",
    "        if n%i == 0:\n",
    "            return False\n",
    "    return True"
   ]
  },
  {
   "cell_type": "code",
   "execution_count": 3,
   "metadata": {},
   "outputs": [],
   "source": [
    "def single_thread():\n",
    "    for number in PRIMES:\n",
    "        is_prime(number)\n",
    "\n",
    "def multi_thread():\n",
    "    with ThreadPoolExecutor() as pool:\n",
    "        pool.map(is_prime, PRIMES)\n",
    "\n",
    "def multi_process():\n",
    "    with ProcessPoolExecutor() as pool:\n",
    "        pool.map(is_prime, PRIMES)"
   ]
  },
  {
   "cell_type": "code",
   "execution_count": 4,
   "metadata": {},
   "outputs": [
    {
     "name": "stdout",
     "output_type": "stream",
     "text": [
      "single_thread 0.00016164779663085938 seconds\n",
      "multi_thread 0.009158611297607422 seconds\n",
      "multi_process 0.1215219497680664 seconds\n"
     ]
    }
   ],
   "source": [
    "start = time.time()\n",
    "single_thread()\n",
    "end = time.time()\n",
    "print(\"single_thread\", end-start, \"seconds\")\n",
    "\n",
    "start = time.time()\n",
    "multi_thread()\n",
    "end = time.time()\n",
    "print(\"multi_thread\", end-start, \"seconds\")\n",
    "\n",
    "start = time.time()\n",
    "multi_process()\n",
    "end = time.time()\n",
    "print(\"multi_process\", end-start, \"seconds\")"
   ]
  },
  {
   "cell_type": "code",
   "execution_count": null,
   "metadata": {},
   "outputs": [],
   "source": []
  }
 ],
 "metadata": {
  "kernelspec": {
   "display_name": "cage",
   "language": "python",
   "name": "python3"
  },
  "language_info": {
   "codemirror_mode": {
    "name": "ipython",
    "version": 3
   },
   "file_extension": ".py",
   "mimetype": "text/x-python",
   "name": "python",
   "nbconvert_exporter": "python",
   "pygments_lexer": "ipython3",
   "version": "3.9.15"
  },
  "orig_nbformat": 4
 },
 "nbformat": 4,
 "nbformat_minor": 2
}
