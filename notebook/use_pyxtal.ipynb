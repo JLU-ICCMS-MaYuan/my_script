{
 "cells": [
  {
   "cell_type": "code",
   "execution_count": 1,
   "metadata": {},
   "outputs": [
    {
     "name": "stdout",
     "output_type": "stream",
     "text": [
      "\n",
      "------Crystal from random------\n",
      "Dimension: 3\n",
      "Composition: H12Ca2\n",
      "Group: I m -3 m (229)\n",
      "  4.4232,   4.4232,   4.4232,  90.0000,  90.0000,  90.0000, cubic\n",
      "Wyckoff sites:\n",
      "\tCa @ [ 0.0000  0.0000  0.0000], WP [2a] Site [4/m-32/m]\n",
      "\t H @ [ 0.2500  0.0000  0.5000], WP [12d] Site [-4mm.2]\n"
     ]
    }
   ],
   "source": [
    "from pyxtal import pyxtal\n",
    "from pyxtal.symmetry import Group\n",
    "\n",
    "struct = pyxtal()\n",
    "g = Group(229)\n",
    "# print(g.get_wyckoff_position(1))\n",
    "struct.from_random(3,\n",
    "                   229,\n",
    "                   (\"Ca\", \"H\"),\n",
    "                   (2, 12),\n",
    "                   sites=(['2a'], ['12d']),\n",
    "                   factor=1)\n",
    "print(struct)\n",
    "struct.to_file(\"S.cif\")\n",
    "density = struct.get_density()\n",
    "# print(density)\n",
    "H_flag = struct.check_H_coordination(r=2.0)\n",
    "\n",
    "pmg_struct = struct.to_pymatgen()"
   ]
  }
 ],
 "metadata": {
  "kernelspec": {
   "display_name": "Python 3.9.13 ('cage')",
   "language": "python",
   "name": "python3"
  },
  "language_info": {
   "codemirror_mode": {
    "name": "ipython",
    "version": 3
   },
   "file_extension": ".py",
   "mimetype": "text/x-python",
   "name": "python",
   "nbconvert_exporter": "python",
   "pygments_lexer": "ipython3",
   "version": "3.9.13"
  },
  "orig_nbformat": 4,
  "vscode": {
   "interpreter": {
    "hash": "7ba8fcba698922fc36f591f3e78f7f8e097da488f481926d513235e57923a5a0"
   }
  }
 },
 "nbformat": 4,
 "nbformat_minor": 2
}
