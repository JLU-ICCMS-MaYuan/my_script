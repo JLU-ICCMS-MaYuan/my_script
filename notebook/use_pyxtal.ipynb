{
 "cells": [
  {
   "cell_type": "markdown",
   "metadata": {},
   "source": [
    "# 随机产生一个结构"
   ]
  },
  {
   "cell_type": "code",
   "execution_count": 8,
   "metadata": {},
   "outputs": [
    {
     "name": "stdout",
     "output_type": "stream",
     "text": [
      "\n",
      "------Crystal from random------\n",
      "Dimension: 3\n",
      "Composition: Ca2H12\n",
      "Group: I m -3 m (229)\n",
      "  4.2479,   4.2479,   4.2479,  90.0000,  90.0000,  90.0000, cubic\n",
      "Wyckoff sites:\n",
      "\tCa @ [ 0.0000  0.0000  0.0000], WP [2a] Site [4/m-32/m]\n",
      "\t H @ [ 0.2500  0.0000  0.5000], WP [12d] Site [-4mm.2]\n"
     ]
    }
   ],
   "source": [
    "from pyxtal import pyxtal\n",
    "from pyxtal.symmetry import Group\n",
    "\n",
    "struct = pyxtal()\n",
    "g = Group(229)\n",
    "# print(g.get_wyckoff_position(1))\n",
    "struct.from_random(3,\n",
    "                   229,\n",
    "                   (\"Ca\", \"H\"),\n",
    "                   (2, 12),\n",
    "                   sites=(['2a'], ['12d']),\n",
    "                   factor=1)\n",
    "print(struct)\n",
    "struct.to_file(\"CaH6.vasp\")\n",
    "density = struct.get_density()\n",
    "# print(density)\n",
    "H_flag = struct.check_H_coordination(r=2.0)\n",
    "\n",
    "pmg_struct = struct.to_pymatgen()"
   ]
  },
  {
   "cell_type": "markdown",
   "metadata": {},
   "source": [
    "# 控制产生出的结构中H原子间距离不小于0.8"
   ]
  },
  {
   "cell_type": "code",
   "execution_count": 9,
   "metadata": {},
   "outputs": [
    {
     "ename": "IndexError",
     "evalue": "invalid index to scalar variable.",
     "output_type": "error",
     "traceback": [
      "\u001b[0;31m---------------------------------------------------------------------------\u001b[0m",
      "\u001b[0;31mIndexError\u001b[0m                                Traceback (most recent call last)",
      "\u001b[1;32m/work/home/may/code/my_script/notebook/use_pyxtal.ipynb Cell 4\u001b[0m in \u001b[0;36m<cell line: 4>\u001b[0;34m()\u001b[0m\n\u001b[1;32m      <a href='vscode-notebook-cell://ssh-remote%2Blhy02/work/home/may/code/my_script/notebook/use_pyxtal.ipynb#W3sdnNjb2RlLXJlbW90ZQ%3D%3D?line=0'>1</a>\u001b[0m \u001b[39mfrom\u001b[39;00m \u001b[39mpyxtal\u001b[39;00m \u001b[39mimport\u001b[39;00m pyxtal\n\u001b[1;32m      <a href='vscode-notebook-cell://ssh-remote%2Blhy02/work/home/may/code/my_script/notebook/use_pyxtal.ipynb#W3sdnNjb2RlLXJlbW90ZQ%3D%3D?line=2'>3</a>\u001b[0m struct \u001b[39m=\u001b[39m pyxtal()\n\u001b[0;32m----> <a href='vscode-notebook-cell://ssh-remote%2Blhy02/work/home/may/code/my_script/notebook/use_pyxtal.ipynb#W3sdnNjb2RlLXJlbW90ZQ%3D%3D?line=3'>4</a>\u001b[0m struct\u001b[39m.\u001b[39;49mfrom_random(\u001b[39m3\u001b[39;49m,\n\u001b[1;32m      <a href='vscode-notebook-cell://ssh-remote%2Blhy02/work/home/may/code/my_script/notebook/use_pyxtal.ipynb#W3sdnNjb2RlLXJlbW90ZQ%3D%3D?line=4'>5</a>\u001b[0m                    \u001b[39m229\u001b[39;49m,\n\u001b[1;32m      <a href='vscode-notebook-cell://ssh-remote%2Blhy02/work/home/may/code/my_script/notebook/use_pyxtal.ipynb#W3sdnNjb2RlLXJlbW90ZQ%3D%3D?line=5'>6</a>\u001b[0m                    (\u001b[39m\"\u001b[39;49m\u001b[39mH\u001b[39;49m\u001b[39m\"\u001b[39;49m),\n\u001b[1;32m      <a href='vscode-notebook-cell://ssh-remote%2Blhy02/work/home/may/code/my_script/notebook/use_pyxtal.ipynb#W3sdnNjb2RlLXJlbW90ZQ%3D%3D?line=6'>7</a>\u001b[0m                    (\u001b[39m12\u001b[39;49m),\n\u001b[1;32m      <a href='vscode-notebook-cell://ssh-remote%2Blhy02/work/home/may/code/my_script/notebook/use_pyxtal.ipynb#W3sdnNjb2RlLXJlbW90ZQ%3D%3D?line=7'>8</a>\u001b[0m                    sites\u001b[39m=\u001b[39;49m[[\u001b[39m'\u001b[39;49m\u001b[39m12d\u001b[39;49m\u001b[39m'\u001b[39;49m]],\n\u001b[1;32m      <a href='vscode-notebook-cell://ssh-remote%2Blhy02/work/home/may/code/my_script/notebook/use_pyxtal.ipynb#W3sdnNjb2RlLXJlbW90ZQ%3D%3D?line=8'>9</a>\u001b[0m                    factor\u001b[39m=\u001b[39;49m\u001b[39m1\u001b[39;49m,\n\u001b[1;32m     <a href='vscode-notebook-cell://ssh-remote%2Blhy02/work/home/may/code/my_script/notebook/use_pyxtal.ipynb#W3sdnNjb2RlLXJlbW90ZQ%3D%3D?line=9'>10</a>\u001b[0m                    )\n",
      "File \u001b[0;32m~/miniconda3/envs/cage/lib/python3.9/site-packages/pyxtal/__init__.py:311\u001b[0m, in \u001b[0;36mpyxtal.from_random\u001b[0;34m(self, dim, group, species, numIons, factor, thickness, area, lattice, sites, conventional, t_factor, max_count, torsions, force_pass, block, num_block, seed, tm, use_hall)\u001b[0m\n\u001b[1;32m    293\u001b[0m     struc \u001b[39m=\u001b[39m block_crystal(dim,\n\u001b[1;32m    294\u001b[0m                           group,\n\u001b[1;32m    295\u001b[0m                           species,\n\u001b[0;32m   (...)\u001b[0m\n\u001b[1;32m    308\u001b[0m                           use_hall \u001b[39m=\u001b[39m use_hall,\n\u001b[1;32m    309\u001b[0m                           )\n\u001b[1;32m    310\u001b[0m \u001b[39melse\u001b[39;00m:\n\u001b[0;32m--> 311\u001b[0m     struc \u001b[39m=\u001b[39m random_crystal(dim,\n\u001b[1;32m    312\u001b[0m                            group,\n\u001b[1;32m    313\u001b[0m                            species,\n\u001b[1;32m    314\u001b[0m                            numIons,\n\u001b[1;32m    315\u001b[0m                            factor,\n\u001b[1;32m    316\u001b[0m                            thickness,\n\u001b[1;32m    317\u001b[0m                            area,\n\u001b[1;32m    318\u001b[0m                            lattice,\n\u001b[1;32m    319\u001b[0m                            sites,\n\u001b[1;32m    320\u001b[0m                            conventional,\n\u001b[1;32m    321\u001b[0m                            tm,\n\u001b[1;32m    322\u001b[0m                            use_hall \u001b[39m=\u001b[39;49m use_hall,\n\u001b[1;32m    323\u001b[0m                            )\n\u001b[1;32m    324\u001b[0m \u001b[39mif\u001b[39;00m force_pass:\n\u001b[1;32m    325\u001b[0m     quit \u001b[39m=\u001b[39m \u001b[39mTrue\u001b[39;00m\n",
      "File \u001b[0;32m~/miniconda3/envs/cage/lib/python3.9/site-packages/pyxtal/crystal.py:101\u001b[0m, in \u001b[0;36mrandom_crystal.__init__\u001b[0;34m(self, dim, group, species, numIons, factor, thickness, area, lattice, sites, conventional, tm, use_hall)\u001b[0m\n\u001b[1;32m     98\u001b[0m     \u001b[39mself\u001b[39m\u001b[39m.\u001b[39mtol_matrix \u001b[39m=\u001b[39m Tol_matrix(prototype\u001b[39m=\u001b[39mtm)\n\u001b[1;32m    100\u001b[0m \u001b[39m# Wyckoff sites\u001b[39;00m\n\u001b[0;32m--> 101\u001b[0m \u001b[39mself\u001b[39;49m\u001b[39m.\u001b[39;49mset_sites(sites)\n\u001b[1;32m    103\u001b[0m \u001b[39m# Lattice and coordinates\u001b[39;00m\n\u001b[1;32m    104\u001b[0m compat, \u001b[39mself\u001b[39m\u001b[39m.\u001b[39mdegrees \u001b[39m=\u001b[39m \u001b[39mself\u001b[39m\u001b[39m.\u001b[39mgroup\u001b[39m.\u001b[39mcheck_compatible(\u001b[39mself\u001b[39m\u001b[39m.\u001b[39mnumIons)\n",
      "File \u001b[0;32m~/miniconda3/envs/cage/lib/python3.9/site-packages/pyxtal/crystal.py:143\u001b[0m, in \u001b[0;36mrandom_crystal.set_sites\u001b[0;34m(self, sites)\u001b[0m\n\u001b[1;32m    141\u001b[0m \u001b[39mfor\u001b[39;00m i, specie \u001b[39min\u001b[39;00m \u001b[39menumerate\u001b[39m(\u001b[39mself\u001b[39m\u001b[39m.\u001b[39mspecies):\n\u001b[1;32m    142\u001b[0m     \u001b[39mif\u001b[39;00m sites \u001b[39mis\u001b[39;00m \u001b[39mnot\u001b[39;00m \u001b[39mNone\u001b[39;00m \u001b[39mand\u001b[39;00m sites[i] \u001b[39mis\u001b[39;00m \u001b[39mnot\u001b[39;00m \u001b[39mNone\u001b[39;00m \u001b[39mand\u001b[39;00m \u001b[39mlen\u001b[39m(sites[i])\u001b[39m>\u001b[39m\u001b[39m0\u001b[39m:\n\u001b[0;32m--> 143\u001b[0m         \u001b[39mself\u001b[39m\u001b[39m.\u001b[39m_check_consistency(sites[i], \u001b[39mself\u001b[39;49m\u001b[39m.\u001b[39;49mnumIons[i])\n\u001b[1;32m    144\u001b[0m         \u001b[39mif\u001b[39;00m \u001b[39mtype\u001b[39m(sites[i]) \u001b[39mis\u001b[39;00m \u001b[39mdict\u001b[39m:\n\u001b[1;32m    145\u001b[0m             \u001b[39mself\u001b[39m\u001b[39m.\u001b[39msites[specie] \u001b[39m=\u001b[39m []\n",
      "\u001b[0;31mIndexError\u001b[0m: invalid index to scalar variable."
     ]
    }
   ],
   "source": [
    "from pyxtal import pyxtal\n",
    "\n",
    "struct = pyxtal()\n",
    "struct.from_random(3,\n",
    "                   229,\n",
    "                   (\"H\"),\n",
    "                   (12),\n",
    "                   sites=[['12d']],\n",
    "                   factor=1,\n",
    "                   )"
   ]
  },
  {
   "cell_type": "code",
   "execution_count": null,
   "metadata": {},
   "outputs": [],
   "source": []
  }
 ],
 "metadata": {
  "kernelspec": {
   "display_name": "Python 3.9.12 ('cage')",
   "language": "python",
   "name": "python3"
  },
  "language_info": {
   "codemirror_mode": {
    "name": "ipython",
    "version": 3
   },
   "file_extension": ".py",
   "mimetype": "text/x-python",
   "name": "python",
   "nbconvert_exporter": "python",
   "pygments_lexer": "ipython3",
   "version": "3.9.12"
  },
  "orig_nbformat": 4,
  "vscode": {
   "interpreter": {
    "hash": "8e46658a71018bd0e6422d7ffcd68f7fef623591c68bff3124f75e322c3c2c9c"
   }
  }
 },
 "nbformat": 4,
 "nbformat_minor": 2
}
