{
 "cells": [
  {
   "cell_type": "code",
   "execution_count": 1,
   "metadata": {},
   "outputs": [],
   "source": [
    "#!/usr/bin/env python\n",
    "import sys\n",
    "from pathlib import Path\n",
    "\n",
    "from ase.io import read, write\n",
    "from ase.spacegroup import get_spacegroup\n",
    "\n",
    "def isequal_species(species1:list[str], species2:list[str]):\n",
    "    \"\"\"判断species1中全部元素是否都在species2中\"\"\"\n",
    "    if len(species1) == len(species2):\n",
    "        for spe in species1:\n",
    "            if spe not in species2:\n",
    "                return False\n",
    "        else:\n",
    "            return True\n",
    "\n",
    "# species = sys.argv[1:]\n",
    "species = ['Ce', 'Al']\n",
    "# 获取当前目录下的所有文件\n",
    "current_dir = Path('../test')\n",
    "\n",
    "# 筛选出以 .vasp 结尾的文件名\n",
    "vasp_files = [file for file  in current_dir.iterdir() if file.suffix == '.vasp']\n",
    "\n",
    "i = 0\n",
    "for vf in vasp_files:\n",
    "    at = read(vf)\n",
    "    if isequal_species(species1=species, species2=set(at.symbols)):\n",
    "        i += 1\n",
    "        newname = current_dir.joinpath(str(i)+'.'+f'{at.symbols}' + '.vasp')\n",
    "        write(filename=newname, images=at, format='vasp')\n",
    "    else:\n",
    "        print(False)\n"
   ]
  },
  {
   "cell_type": "markdown",
   "metadata": {},
   "source": [
    "## 写lammps文件结构"
   ]
  },
  {
   "cell_type": "code",
   "execution_count": 3,
   "metadata": {},
   "outputs": [
    {
     "name": "stdout",
     "output_type": "stream",
     "text": [
      "读取到 131 帧轨迹\n"
     ]
    },
    {
     "ename": "ValueError",
     "evalue": "Can't write to lammps-dump-text-format",
     "output_type": "error",
     "traceback": [
      "\u001b[0;31m---------------------------------------------------------------------------\u001b[0m",
      "\u001b[0;31mValueError\u001b[0m                                Traceback (most recent call last)",
      "Cell \u001b[0;32mIn[3], line 58\u001b[0m\n\u001b[1;32m     55\u001b[0m element_order \u001b[38;5;241m=\u001b[39m [\u001b[38;5;124m'\u001b[39m\u001b[38;5;124mLa\u001b[39m\u001b[38;5;124m'\u001b[39m, \u001b[38;5;124m'\u001b[39m\u001b[38;5;124mY\u001b[39m\u001b[38;5;124m'\u001b[39m, \u001b[38;5;124m'\u001b[39m\u001b[38;5;124mCe\u001b[39m\u001b[38;5;124m'\u001b[39m, \u001b[38;5;124m'\u001b[39m\u001b[38;5;124mTh\u001b[39m\u001b[38;5;124m'\u001b[39m]  \u001b[38;5;66;03m# 按照这个顺序排列元素\u001b[39;00m\n\u001b[1;32m     57\u001b[0m \u001b[38;5;66;03m# 执行转换\u001b[39;00m\n\u001b[0;32m---> 58\u001b[0m \u001b[43mremove_hydrogen_and_convert\u001b[49m\u001b[43m(\u001b[49m\u001b[43minput_file\u001b[49m\u001b[43m,\u001b[49m\u001b[43m \u001b[49m\u001b[43moutput_file\u001b[49m\u001b[43m,\u001b[49m\u001b[43m \u001b[49m\u001b[43melement_order\u001b[49m\u001b[43m)\u001b[49m\n",
      "Cell \u001b[0;32mIn[3], line 46\u001b[0m, in \u001b[0;36mremove_hydrogen_and_convert\u001b[0;34m(input_file, output_file, element_order)\u001b[0m\n\u001b[1;32m     38\u001b[0m     processed_frames\u001b[38;5;241m.\u001b[39mappend(new_frame)\n\u001b[1;32m     39\u001b[0m     \u001b[38;5;66;03m# print(f\"帧 {i+1}: 保留 {len(new_frame)} 个原子\")\u001b[39;00m\n\u001b[1;32m     40\u001b[0m \u001b[38;5;66;03m# print(len(processed_frames))\u001b[39;00m\n\u001b[1;32m     41\u001b[0m \u001b[38;5;66;03m# write(output_file, processed_frames, format='vasp-xdatcar')\u001b[39;00m\n\u001b[1;32m     42\u001b[0m \n\u001b[1;32m     43\u001b[0m \u001b[38;5;66;03m# 将结果写入 LAMMPS 格式文件\u001b[39;00m\n\u001b[1;32m     44\u001b[0m \u001b[38;5;66;03m# write(output_file, processed_frames, format='lammps-data')\u001b[39;00m\n\u001b[0;32m---> 46\u001b[0m \u001b[43mwrite\u001b[49m\u001b[43m(\u001b[49m\u001b[43moutput_file\u001b[49m\u001b[43m,\u001b[49m\u001b[43m \u001b[49m\u001b[43mprocessed_frames\u001b[49m\u001b[43m,\u001b[49m\u001b[43m \u001b[49m\u001b[38;5;28;43mformat\u001b[39;49m\u001b[38;5;241;43m=\u001b[39;49m\u001b[38;5;124;43m'\u001b[39;49m\u001b[38;5;124;43mlammps-dump-text\u001b[39;49m\u001b[38;5;124;43m'\u001b[39;49m\u001b[43m)\u001b[49m\n\u001b[1;32m     47\u001b[0m \u001b[38;5;66;03m# write_lammps_data(output_file, processed_frames[0], specorder=['La', 'Y', 'Ce', 'Th'])\u001b[39;00m\n\u001b[1;32m     48\u001b[0m \u001b[38;5;28mprint\u001b[39m(\u001b[38;5;124mf\u001b[39m\u001b[38;5;124m\"\u001b[39m\u001b[38;5;124m转换完成，输出文件为 \u001b[39m\u001b[38;5;132;01m{\u001b[39;00moutput_file\u001b[38;5;132;01m}\u001b[39;00m\u001b[38;5;124m\"\u001b[39m)\n",
      "File \u001b[0;32m~/miniconda3/lib/python3.11/site-packages/ase/io/formats.py:692\u001b[0m, in \u001b[0;36mwrite\u001b[0;34m(filename, images, format, parallel, append, **kwargs)\u001b[0m\n\u001b[1;32m    688\u001b[0m \u001b[38;5;28mformat\u001b[39m \u001b[38;5;241m=\u001b[39m \u001b[38;5;28mformat\u001b[39m \u001b[38;5;129;01mor\u001b[39;00m \u001b[38;5;124m'\u001b[39m\u001b[38;5;124mjson\u001b[39m\u001b[38;5;124m'\u001b[39m  \u001b[38;5;66;03m# default is json\u001b[39;00m\n\u001b[1;32m    690\u001b[0m io \u001b[38;5;241m=\u001b[39m get_ioformat(\u001b[38;5;28mformat\u001b[39m)\n\u001b[0;32m--> 692\u001b[0m \u001b[38;5;28;01mreturn\u001b[39;00m \u001b[43m_write\u001b[49m\u001b[43m(\u001b[49m\u001b[43mfilename\u001b[49m\u001b[43m,\u001b[49m\u001b[43m \u001b[49m\u001b[43mfd\u001b[49m\u001b[43m,\u001b[49m\u001b[43m \u001b[49m\u001b[38;5;28;43mformat\u001b[39;49m\u001b[43m,\u001b[49m\u001b[43m \u001b[49m\u001b[43mio\u001b[49m\u001b[43m,\u001b[49m\u001b[43m \u001b[49m\u001b[43mimages\u001b[49m\u001b[43m,\u001b[49m\n\u001b[1;32m    693\u001b[0m \u001b[43m              \u001b[49m\u001b[43mparallel\u001b[49m\u001b[38;5;241;43m=\u001b[39;49m\u001b[43mparallel\u001b[49m\u001b[43m,\u001b[49m\u001b[43m \u001b[49m\u001b[43mappend\u001b[49m\u001b[38;5;241;43m=\u001b[39;49m\u001b[43mappend\u001b[49m\u001b[43m,\u001b[49m\u001b[43m \u001b[49m\u001b[38;5;241;43m*\u001b[39;49m\u001b[38;5;241;43m*\u001b[39;49m\u001b[43mkwargs\u001b[49m\u001b[43m)\u001b[49m\n",
      "File \u001b[0;32m~/miniconda3/lib/python3.11/site-packages/ase/parallel.py:271\u001b[0m, in \u001b[0;36mparallel_function.<locals>.new_func\u001b[0;34m(*args, **kwargs)\u001b[0m\n\u001b[1;32m    265\u001b[0m \u001b[38;5;129m@functools\u001b[39m\u001b[38;5;241m.\u001b[39mwraps(func)\n\u001b[1;32m    266\u001b[0m \u001b[38;5;28;01mdef\u001b[39;00m \u001b[38;5;21mnew_func\u001b[39m(\u001b[38;5;241m*\u001b[39margs, \u001b[38;5;241m*\u001b[39m\u001b[38;5;241m*\u001b[39mkwargs):\n\u001b[1;32m    267\u001b[0m     \u001b[38;5;28;01mif\u001b[39;00m (world\u001b[38;5;241m.\u001b[39msize \u001b[38;5;241m==\u001b[39m \u001b[38;5;241m1\u001b[39m \u001b[38;5;129;01mor\u001b[39;00m\n\u001b[1;32m    268\u001b[0m         args \u001b[38;5;129;01mand\u001b[39;00m \u001b[38;5;28mgetattr\u001b[39m(args[\u001b[38;5;241m0\u001b[39m], \u001b[38;5;124m'\u001b[39m\u001b[38;5;124mserial\u001b[39m\u001b[38;5;124m'\u001b[39m, \u001b[38;5;28;01mFalse\u001b[39;00m) \u001b[38;5;129;01mor\u001b[39;00m\n\u001b[1;32m    269\u001b[0m             \u001b[38;5;129;01mnot\u001b[39;00m kwargs\u001b[38;5;241m.\u001b[39mpop(\u001b[38;5;124m'\u001b[39m\u001b[38;5;124mparallel\u001b[39m\u001b[38;5;124m'\u001b[39m, \u001b[38;5;28;01mTrue\u001b[39;00m)):\n\u001b[1;32m    270\u001b[0m         \u001b[38;5;66;03m# Disable:\u001b[39;00m\n\u001b[0;32m--> 271\u001b[0m         \u001b[38;5;28;01mreturn\u001b[39;00m \u001b[43mfunc\u001b[49m\u001b[43m(\u001b[49m\u001b[38;5;241;43m*\u001b[39;49m\u001b[43margs\u001b[49m\u001b[43m,\u001b[49m\u001b[43m \u001b[49m\u001b[38;5;241;43m*\u001b[39;49m\u001b[38;5;241;43m*\u001b[39;49m\u001b[43mkwargs\u001b[49m\u001b[43m)\u001b[49m\n\u001b[1;32m    273\u001b[0m     ex \u001b[38;5;241m=\u001b[39m \u001b[38;5;28;01mNone\u001b[39;00m\n\u001b[1;32m    274\u001b[0m     result \u001b[38;5;241m=\u001b[39m \u001b[38;5;28;01mNone\u001b[39;00m\n",
      "File \u001b[0;32m~/miniconda3/lib/python3.11/site-packages/ase/io/formats.py:709\u001b[0m, in \u001b[0;36m_write\u001b[0;34m(filename, fd, format, io, images, parallel, append, **kwargs)\u001b[0m\n\u001b[1;32m    706\u001b[0m     images \u001b[38;5;241m=\u001b[39m images[\u001b[38;5;241m0\u001b[39m]\n\u001b[1;32m    708\u001b[0m \u001b[38;5;28;01mif\u001b[39;00m \u001b[38;5;129;01mnot\u001b[39;00m io\u001b[38;5;241m.\u001b[39mcan_write:\n\u001b[0;32m--> 709\u001b[0m     \u001b[38;5;28;01mraise\u001b[39;00m \u001b[38;5;167;01mValueError\u001b[39;00m(\u001b[38;5;124mf\u001b[39m\u001b[38;5;124m\"\u001b[39m\u001b[38;5;124mCan\u001b[39m\u001b[38;5;124m'\u001b[39m\u001b[38;5;124mt write to \u001b[39m\u001b[38;5;132;01m{\u001b[39;00m\u001b[38;5;28mformat\u001b[39m\u001b[38;5;132;01m}\u001b[39;00m\u001b[38;5;124m-format\u001b[39m\u001b[38;5;124m\"\u001b[39m)\n\u001b[1;32m    711\u001b[0m \u001b[38;5;66;03m# Special case for json-format:\u001b[39;00m\n\u001b[1;32m    712\u001b[0m \u001b[38;5;28;01mif\u001b[39;00m \u001b[38;5;28mformat\u001b[39m \u001b[38;5;241m==\u001b[39m \u001b[38;5;124m'\u001b[39m\u001b[38;5;124mjson\u001b[39m\u001b[38;5;124m'\u001b[39m \u001b[38;5;129;01mand\u001b[39;00m (\u001b[38;5;28mlen\u001b[39m(images) \u001b[38;5;241m>\u001b[39m \u001b[38;5;241m1\u001b[39m \u001b[38;5;129;01mor\u001b[39;00m append):\n",
      "\u001b[0;31mValueError\u001b[0m: Can't write to lammps-dump-text-format"
     ]
    }
   ],
   "source": [
    "from ase.io import read, write\n",
    "from ase.io.lammpsdata import write_lammps_data\n",
    "from ase import Atoms\n",
    "import numpy as np\n",
    "\n",
    "def remove_hydrogen_and_convert(input_file, output_file, element_order):\n",
    "    \"\"\"\n",
    "    读取 LAMMPS 轨迹文件，删除氢原子，按照指定顺序重新排列元素，写入 LAMMPS 格式文件。\n",
    "    \n",
    "    Args:\n",
    "        input_file (str): 输入的 LAMMPS trajectory 文件名。\n",
    "        output_file (str): 输出的 LAMMPS 格式文件名。\n",
    "        element_order (list): 指定的元素排列顺序，例如 ['C', 'O', 'H', 'N']。\n",
    "    \"\"\"\n",
    "    # 读取 LAMMPS 轨迹\n",
    "    frames = read(input_file, format='lammps-dump-text', index=':')\n",
    "    print(f\"读取到 {len(frames)} 帧轨迹\")\n",
    "\n",
    "    # 处理每一帧，删除氢原子并按照指定顺序排列元素\n",
    "    processed_frames = []\n",
    "    for i, frame in enumerate(frames):\n",
    "        symbols = frame.get_chemical_symbols()\n",
    "        # 只保留非氢和非铍原子\n",
    "        indices_to_keep = [i for i, symbol in enumerate(symbols) if symbol not in ['H', 'Be']]\n",
    "        \n",
    "        # 删除氢和铍原子\n",
    "        new_frame = frame[indices_to_keep]\n",
    "        \n",
    "        # 按照指定的元素顺序排序\n",
    "        element_to_index = {element: idx for idx, element in enumerate(element_order)}\n",
    "        \n",
    "        # 获取排序后的索引\n",
    "        sorted_indices = sorted(range(len(new_frame)), key=lambda i: element_to_index[new_frame.get_chemical_symbols()[i]])\n",
    "        \n",
    "        # 根据指定顺序排列原子\n",
    "        new_frame = new_frame[sorted_indices]\n",
    "\n",
    "        processed_frames.append(new_frame)\n",
    "        # print(f\"帧 {i+1}: 保留 {len(new_frame)} 个原子\")\n",
    "    # print(len(processed_frames))\n",
    "    # write(output_file, processed_frames, format='vasp-xdatcar')\n",
    "    \n",
    "    # 将结果写入 LAMMPS 格式文件\n",
    "    # write(output_file, processed_frames, format='lammps-data')\n",
    "\n",
    "    write(output_file, processed_frames, format='lammps-dump-text')\n",
    "    # write_lammps_data(output_file, processed_frames[0], specorder=['La', 'Y', 'Ce', 'Th'])\n",
    "    print(f\"转换完成，输出文件为 {output_file}\")\n",
    "\n",
    "# 设置输入输出文件\n",
    "input_file = \"../test/A.lammpstrj\"\n",
    "output_file = \"../test/new.lammpstrj\"\n",
    "\n",
    "# 定义元素排列顺序\n",
    "element_order = ['La', 'Y', 'Ce', 'Th']  # 按照这个顺序排列元素\n",
    "\n",
    "# 执行转换\n",
    "remove_hydrogen_and_convert(input_file, output_file, element_order)\n"
   ]
  }
 ],
 "metadata": {
  "kernelspec": {
   "display_name": "base",
   "language": "python",
   "name": "python3"
  },
  "language_info": {
   "codemirror_mode": {
    "name": "ipython",
    "version": 3
   },
   "file_extension": ".py",
   "mimetype": "text/x-python",
   "name": "python",
   "nbconvert_exporter": "python",
   "pygments_lexer": "ipython3",
   "version": "3.11.5"
  },
  "orig_nbformat": 4
 },
 "nbformat": 4,
 "nbformat_minor": 2
}
