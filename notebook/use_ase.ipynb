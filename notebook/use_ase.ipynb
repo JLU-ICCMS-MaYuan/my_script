{
 "cells": [
  {
   "cell_type": "code",
   "execution_count": 27,
   "metadata": {},
   "outputs": [
    {
     "name": "stdout",
     "output_type": "stream",
     "text": [
      "False\n",
      "False\n",
      "False\n",
      "False\n",
      "False\n",
      "False\n",
      "False\n"
     ]
    }
   ],
   "source": [
    "#!/usr/bin/env python\n",
    "import sys\n",
    "from pathlib import Path\n",
    "\n",
    "from ase.io import read, write\n",
    "from ase.spacegroup import get_spacegroup\n",
    "\n",
    "def isequal_species(species1:list[str], species2:list[str]):\n",
    "    \"\"\"判断species1中全部元素是否都在species2中\"\"\"\n",
    "    if len(species1) == len(species2):\n",
    "        for spe in species1:\n",
    "            if spe not in species2:\n",
    "                return False\n",
    "        else:\n",
    "            return True\n",
    "\n",
    "# species = sys.argv[1:]\n",
    "species = ['Ce', 'Al']\n",
    "# 获取当前目录下的所有文件\n",
    "current_dir = Path('../test')\n",
    "\n",
    "# 筛选出以 .vasp 结尾的文件名\n",
    "vasp_files = [file for file  in current_dir.iterdir() if file.suffix == '.vasp']\n",
    "\n",
    "i = 0\n",
    "for vf in vasp_files:\n",
    "    at = read(vf)\n",
    "    if isequal_species(species1=species, species2=set(at.symbols)):\n",
    "        i += 1\n",
    "        newname = current_dir.joinpath(str(i)+'.'+f'{at.symbols}' + '.vasp')\n",
    "        write(filename=newname, images=at, format='vasp')\n",
    "    else:\n",
    "        print(False)\n"
   ]
  },
  {
   "cell_type": "code",
   "execution_count": null,
   "metadata": {},
   "outputs": [],
   "source": []
  }
 ],
 "metadata": {
  "kernelspec": {
   "display_name": "Python 3.9.13 ('cage')",
   "language": "python",
   "name": "python3"
  },
  "language_info": {
   "codemirror_mode": {
    "name": "ipython",
    "version": 3
   },
   "file_extension": ".py",
   "mimetype": "text/x-python",
   "name": "python",
   "nbconvert_exporter": "python",
   "pygments_lexer": "ipython3",
   "version": "3.9.19"
  },
  "orig_nbformat": 4,
  "vscode": {
   "interpreter": {
    "hash": "7ba8fcba698922fc36f591f3e78f7f8e097da488f481926d513235e57923a5a0"
   }
  }
 },
 "nbformat": 4,
 "nbformat_minor": 2
}
