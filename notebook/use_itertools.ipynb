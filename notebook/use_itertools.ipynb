{
 "cells": [
  {
   "cell_type": "code",
   "execution_count": 16,
   "metadata": {},
   "outputs": [
    {
     "name": "stdout",
     "output_type": "stream",
     "text": [
      "('1a', '1a')\n",
      "('1a', '2b')\n",
      "('1a', '3c')\n",
      "('1a', '4d')\n",
      "('1a', '5e')\n",
      "('1a', '6f')\n",
      "('2b', '2b')\n",
      "('2b', '3c')\n",
      "('2b', '4d')\n",
      "('2b', '5e')\n",
      "('2b', '6f')\n",
      "('3c', '3c')\n",
      "('3c', '4d')\n",
      "('3c', '5e')\n",
      "('3c', '6f')\n",
      "('4d', '4d')\n",
      "('4d', '5e')\n",
      "('4d', '6f')\n",
      "('5e', '5e')\n",
      "('5e', '6f')\n",
      "('6f', '6f')\n"
     ]
    }
   ],
   "source": [
    "from itertools import combinations_with_replacement\n",
    "\n",
    "x = {'1a':False, '2b':False, '3c':False, '4d':True, '5e':True, '6f':True}\n",
    "\n",
    "\n",
    "La_occupied = [1,2]\n",
    "Y_occupied  = [1,2]\n",
    "H_occupied  = [2,4]\n",
    "\n",
    "La_wps      = [1,4]\n",
    "Y_wps       = [1,4]\n",
    "H_wps       = [1,6]\n",
    "\n",
    "allwps = list(x.keys())\n",
    "for comb_list in combinations_with_replacement(allwps, 2):\n",
    "    print(comb_list)"
   ]
  },
  {
   "cell_type": "code",
   "execution_count": 15,
   "metadata": {},
   "outputs": [
    {
     "name": "stdout",
     "output_type": "stream",
     "text": [
      "(['1a', '2b'], ['4d', '5e'], ['8n', '9o'])\n",
      "(['1a', '2b'], ['4d', '5e'], ['10p', '11q'])\n",
      "(['1a', '2b'], ['6f', '7m'], ['8n', '9o'])\n",
      "(['1a', '2b'], ['6f', '7m'], ['10p', '11q'])\n",
      "(['2b', '3c'], ['4d', '5e'], ['8n', '9o'])\n",
      "(['2b', '3c'], ['4d', '5e'], ['10p', '11q'])\n",
      "(['2b', '3c'], ['6f', '7m'], ['8n', '9o'])\n",
      "(['2b', '3c'], ['6f', '7m'], ['10p', '11q'])\n",
      "--------------------------------\n",
      "(['1a', '2b'], ['4d', '5e'], ['8n', '9o'])\n",
      "(['1a', '2b'], ['4d', '5e'], ['10p', '11q'])\n",
      "(['1a', '2b'], ['6f', '7m'], ['8n', '9o'])\n",
      "(['1a', '2b'], ['6f', '7m'], ['10p', '11q'])\n",
      "(['2b', '3c'], ['4d', '5e'], ['8n', '9o'])\n",
      "(['2b', '3c'], ['4d', '5e'], ['10p', '11q'])\n",
      "(['2b', '3c'], ['6f', '7m'], ['8n', '9o'])\n",
      "(['2b', '3c'], ['6f', '7m'], ['10p', '11q'])\n"
     ]
    }
   ],
   "source": [
    "xx = [\n",
    "    [['1a', '2b'],\n",
    "     ['2b', '3c'],],\n",
    "    [['4d', '5e'],\n",
    "     ['6f', '7m'],],\n",
    "    [['8n', '9o'],\n",
    "     ['10p', '11q'],],\n",
    "]\n",
    "from itertools import product\n",
    "\n",
    "for res in product(*xx):\n",
    "    print(res)\n",
    "print(\"--------------------------------\")\n",
    "for res in product(xx[0], xx[1], xx[2]):\n",
    "    print(res)"
   ]
  },
  {
   "cell_type": "code",
   "execution_count": 21,
   "metadata": {},
   "outputs": [
    {
     "data": {
      "text/plain": [
       "['2b', '3c', '6f', '7m', '10p', '11q']"
      ]
     },
     "execution_count": 21,
     "metadata": {},
     "output_type": "execute_result"
    }
   ],
   "source": [
    "from itertools import chain\n",
    "\n",
    "xxx= (['2b', '3c'], ['6f', '7m'], ['10p', '11q'])\n",
    "list(chain(*xxx))"
   ]
  }
 ],
 "metadata": {
  "kernelspec": {
   "display_name": "cage",
   "language": "python",
   "name": "python3"
  },
  "language_info": {
   "codemirror_mode": {
    "name": "ipython",
    "version": 3
   },
   "file_extension": ".py",
   "mimetype": "text/x-python",
   "name": "python",
   "nbconvert_exporter": "python",
   "pygments_lexer": "ipython3",
   "version": "3.9.15"
  },
  "orig_nbformat": 4
 },
 "nbformat": 4,
 "nbformat_minor": 2
}
