{
 "cells": [
  {
   "cell_type": "code",
   "execution_count": null,
   "metadata": {},
   "outputs": [
    {
     "ename": "",
     "evalue": "",
     "output_type": "error",
     "traceback": [
      "\u001b[1;31m无法启动 Kernel。 \n",
      "\u001b[1;31mJupyter server crashed. Unable to connect. \n",
      "\u001b[1;31mError code from Jupyter: 1\n",
      "\u001b[1;31mTraceback (most recent call last):\n",
      "\u001b[1;31m  File \"/public/home/mayuan/.local/lib/python3.6/site-packages/notebook/services/sessions/sessionmanager.py\", line 9, in <module>\n",
      "\u001b[1;31m\n",
      "\u001b[1;31m    import sqlite3\n",
      "\u001b[1;31m  File \"/usr/local/python3/lib/python3.6/sqlite3/__init__.py\", line 23, in <module>\n",
      "\u001b[1;31m    from sqlite3.dbapi2 import *\n",
      "\u001b[1;31m  File \"/usr/local/python3/lib/python3.6/sqlite3/dbapi2.py\", line 27, in <module>\n",
      "\u001b[1;31m\n",
      "\u001b[1;31m    from _sqlite3 import *\n",
      "\u001b[1;31mModuleNotFoundError: No module named '_sqlite3'\n",
      "\u001b[1;31m\n",
      "\u001b[1;31mDuring handling of the above exception, another exception occurred:\n",
      "\u001b[1;31m\n",
      "\u001b[1;31mTraceback (most recent call last):\n",
      "\u001b[1;31m\n",
      "\u001b[1;31m  File \"/public/home/mayuan/.local/bin/jupyter-notebook\", line 5, in <module>\n",
      "\u001b[1;31m    from notebook.notebookapp import main\n",
      "\u001b[1;31m  File \"/public/home/mayuan/.local/lib/python3.6/site-packages/notebook/notebookapp.py\", line 83, in <module>\n",
      "\u001b[1;31m\n",
      "\u001b[1;31m    from .services.sessions.sessionmanager import SessionManager\n",
      "\u001b[1;31m  File \"/public/home/mayuan/.local/lib/python3.6/site-packages/notebook/services/sessions/sessionmanager.py\", line 12, in <module>\n",
      "\u001b[1;31m\n",
      "\u001b[1;31m    from pysqlite2 import dbapi2 as sqlite3\n",
      "\u001b[1;31mModuleNotFoundError: No module named 'pysqlite2'. \n",
      "\u001b[1;31m有关更多详细信息，请查看 Jupyter <a href='command:jupyter.viewOutput'>log</a>。"
     ]
    }
   ],
   "source": [
    "import numpy as np\n",
    "\n",
    "# 定义两个数组\n",
    "a = np.array([1, 2, 3])\n",
    "\n",
    "b = np.array([4, 5, 6])\n",
    "\n",
    "# 计算两个数组的比值\n",
    "r1 = a / b\n",
    "r2 = np.array([0.25, 0.4, 0.5])\n",
    "\n",
    "\n",
    "# 比较两个数组的比值是否相同\n",
    "if np.allclose(r1, r2):\n",
    "    print(\"两个数组的比值相同\")\n",
    "else:\n",
    "    print(\"两个数组的比值不相同\")\n"
   ]
  }
 ],
 "metadata": {
  "kernelspec": {
   "display_name": "cage",
   "language": "python",
   "name": "python3"
  },
  "language_info": {
   "codemirror_mode": {
    "name": "ipython",
    "version": 3
   },
   "file_extension": ".py",
   "mimetype": "text/x-python",
   "name": "python",
   "nbconvert_exporter": "python",
   "pygments_lexer": "ipython3",
   "version": "3.9.15"
  },
  "orig_nbformat": 4,
  "vscode": {
   "interpreter": {
    "hash": "7be20002225008e0f15013c8d0c2132ea9c25a6a6eac33f7f3eb51d43b2fffb6"
   }
  }
 },
 "nbformat": 4,
 "nbformat_minor": 2
}
