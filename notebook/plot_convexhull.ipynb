{
 "cells": [
  {
   "cell_type": "code",
   "execution_count": 66,
   "metadata": {},
   "outputs": [],
   "source": [
    "import pandas as pd\n",
    "import numpy as np\n",
    "from pprint import pprint\n",
    "\n",
    "from pymatgen.analysis.phase_diagram import PDEntry, PhaseDiagram, PDPlotter, CompoundPhaseDiagram\n",
    "from pymatgen.core.composition import Composition\n",
    "from pymatgen.core.periodic_table import Element"
   ]
  },
  {
   "cell_type": "code",
   "execution_count": 67,
   "metadata": {},
   "outputs": [
    {
     "name": "stdout",
     "output_type": "stream",
     "text": [
      "{PDEntry : H16 Be2 La1 Th1 with energy = -28.3952: 1.0}\n"
     ]
    }
   ],
   "source": [
    "convexhull_data = pd.read_table(\"nnconvexhull_100GPa.csv\", header=0, sep=',')\n",
    "ini_entries = []\n",
    "for idx, row in convexhull_data.iterrows():\n",
    "    comp = Composition(row['formula'])\n",
    "    num_at = comp.num_atoms\n",
    "    enth = row['enthalpy']*num_at\n",
    "    entry_id = row['Number']\n",
    "    _entry = PDEntry(comp, enth, attribute={\"entry_id\":entry_id})\n",
    "    #print(_entry.attribute['entry_id'])\n",
    "    ini_entries.append(_entry)\n",
    "\n",
    "endnotes=['La', 'Th', 'Be', 'H']\n",
    "elements_endnotes = [Element(ed) for ed in endnotes]\n",
    "ini_pd = PhaseDiagram(ini_entries, elements=elements_endnotes)\n",
    "\n",
    "dst_entry = ini_pd.entries[-1]\n",
    "decomp_path = ini_pd.get_decomp_and_e_above_hull(dst_entry)[0]\n",
    "pprint(decomp_path)\n"
   ]
  },
  {
   "cell_type": "code",
   "execution_count": 56,
   "metadata": {},
   "outputs": [
    {
     "data": {
      "text/plain": [
       "({PDEntry : H32 Be4 La1 Th3 with energy = -60.3102: 0.5,\n",
       "  PDEntry : H32 Be4 La3 Th1 with energy = -53.1268: 0.5},\n",
       " 0.0982032612499999)"
      ]
     },
     "execution_count": 56,
     "metadata": {},
     "output_type": "execute_result"
    }
   ],
   "source": [
    "ini_pd.get_decomp_and_e_above_hull(ini_pd.entries[-1])"
   ]
  },
  {
   "cell_type": "code",
   "execution_count": 50,
   "metadata": {},
   "outputs": [
    {
     "data": {
      "text/plain": [
       "({PDEntry : H16 Be2 La1 Th1 with energy = -28.3952: 1.0}, -1.4197592605)"
      ]
     },
     "execution_count": 50,
     "metadata": {},
     "output_type": "execute_result"
    }
   ],
   "source": [
    "ini_pd.get_decomp_and_hull_energy_per_atom(ini_pd.entries[-1].composition)"
   ]
  },
  {
   "cell_type": "code",
   "execution_count": 76,
   "metadata": {},
   "outputs": [
    {
     "name": "stdout",
     "output_type": "stream",
     "text": [
      "\n",
      "------------dst_entry[-1]=TransformedPDEntry Xf0+24 Xg0+5.0 Xh0+3 Xi0+56.0 with original composition H80 Ce1 La6 Y1, energy = -62.5343-Xf24Xg5Xh3Xi56------------\n",
      "{TransformedPDEntry Xf0+4.0 Xi0+8 with original composition H11 La1, energy = -8.5370: 0.8181818181818206,\n",
      " TransformedPDEntry Xh0+3 Xi0+1 with original composition H3 Y1, energy = -4.5156: 0.030303030303032052,\n",
      " TransformedPDEntry Xh0+3.0 Xi0+7.0 with original composition H9 Y1, energy = -11.8581: 0.03787878787878407,\n",
      " TransformedPDEntry Xg0+5 Xi0+5 with original composition H9 Ce1, energy = -9.1335: 0.11363636363636337}\n"
     ]
    }
   ],
   "source": [
    "convexhull_data = pd.read_table(\"nnconvexhull_LaYCeH10.csv\", header=0, sep=',')\n",
    "ini_entries = []\n",
    "for idx, row in convexhull_data.iterrows():\n",
    "    comp = Composition(row['formula'])\n",
    "    num_at = comp.num_atoms\n",
    "    enth = row['enthalpy']*num_at\n",
    "    entry_id = row['Number']\n",
    "    _entry = PDEntry(comp, enth, attribute={\"entry_id\":entry_id})\n",
    "    #print(_entry.attribute['entry_id'])\n",
    "    ini_entries.append(_entry)\n",
    "\n",
    "endnotes=['LaH3', 'CeH4', 'YH2', 'H']\n",
    "terminal_comps = [Composition(formula) for formula in endnotes]\n",
    "ini_pd = CompoundPhaseDiagram(\n",
    "    entries = ini_entries,\n",
    "    terminal_compositions = terminal_comps,\n",
    "    normalize_terminal_compositions = True,\n",
    "    )\n",
    "    \n",
    "dst_entry = ini_pd.entries[-1]\n",
    "print(f\"\\n------------dst_entry[{-1}]={dst_entry}-{dst_entry.composition.reduced_formula}------------\")\n",
    "\n",
    "decomp_path = ini_pd.get_decomp_and_e_above_hull(dst_entry)[0]\n",
    "pprint(decomp_path)\n"
   ]
  },
  {
   "cell_type": "code",
   "execution_count": null,
   "metadata": {},
   "outputs": [],
   "source": []
  }
 ],
 "metadata": {
  "kernelspec": {
   "display_name": "cage",
   "language": "python",
   "name": "python3"
  },
  "language_info": {
   "codemirror_mode": {
    "name": "ipython",
    "version": 3
   },
   "file_extension": ".py",
   "mimetype": "text/x-python",
   "name": "python",
   "nbconvert_exporter": "python",
   "pygments_lexer": "ipython3",
   "version": "3.9.19"
  },
  "orig_nbformat": 4,
  "vscode": {
   "interpreter": {
    "hash": "518e6eb0e0b34c3a86fea754f5ab73bf747fee0214e686c8e77b238e7cea556a"
   }
  }
 },
 "nbformat": 4,
 "nbformat_minor": 2
}
