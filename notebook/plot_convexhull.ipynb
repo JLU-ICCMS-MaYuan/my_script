{
 "cells": [
  {
   "cell_type": "code",
   "execution_count": 2,
   "metadata": {},
   "outputs": [],
   "source": [
    "import pandas as pd\n",
    "import numpy as np\n",
    "from pprint import pprint\n",
    "\n",
    "from pymatgen.analysis.phase_diagram import PDEntry, PhaseDiagram, PDPlotter, CompoundPhaseDiagram, TransformedPDEntry\n",
    "from pymatgen.core.composition import Composition\n",
    "from pymatgen.core.periodic_table import Element"
   ]
  },
  {
   "cell_type": "code",
   "execution_count": 58,
   "metadata": {},
   "outputs": [
    {
     "name": "stdout",
     "output_type": "stream",
     "text": [
      "{PDEntry : H16 Be2 La1 Th1 with energy = -28.3952: 1.0}\n"
     ]
    }
   ],
   "source": [
    "convexhull_data = pd.read_table(\"nnconvexhull_100GPa.csv\", header=0, sep=',')\n",
    "ini_entries = []\n",
    "for idx, row in convexhull_data.iterrows():\n",
    "    comp = Composition(row['formula'])\n",
    "    num_at = comp.num_atoms\n",
    "    enth = row['enthalpy']*num_at\n",
    "    entry_id = row['Number']\n",
    "    _entry = PDEntry(comp, enth, attribute={\"entry_id\":entry_id})\n",
    "    #print(_entry.attribute['entry_id'])\n",
    "    ini_entries.append(_entry)\n",
    "\n",
    "endnotes=['La', 'Th', 'Be', 'H']\n",
    "elements_endnotes = [Element(ed) for ed in endnotes]\n",
    "ini_pd = PhaseDiagram(ini_entries, elements=elements_endnotes)\n",
    "\n",
    "dst_entry = ini_pd.entries[-1]\n",
    "decomp_path = ini_pd.get_decomp_and_e_above_hull(dst_entry)[0]\n",
    "pprint(decomp_path)\n"
   ]
  },
  {
   "cell_type": "code",
   "execution_count": 59,
   "metadata": {},
   "outputs": [
    {
     "name": "stdout",
     "output_type": "stream",
     "text": [
      "\n",
      "------------dst_entry[-1]=La6CeYH80------------\n",
      "formula_trans   formula         energy_per_atom      energy               ratio               \n",
      "Xh3Xi7          YH9             -1.1858141270000055  -11.85814127         0.03787878787878407 \n",
      "XfXi2           LaH11           -0.7114168574999998  -8.53700229          0.8181818181818206  \n",
      "Xh3Xi           YH3             -1.1289043549999993  -4.51561742          0.030303030303032052\n",
      "XgXi            CeH9            -0.9133458394999997  -9.133458395         0.11363636363636337 \n",
      "   e_above_hull =   0.054367 ev/atom\n",
      "formed_enthalpy =  -0.038874 ev/atom\n",
      "\n",
      "------------dst_entry[-1]=LaCeYH30------------\n",
      "formula_trans   formula         energy_per_atom      energy               ratio               \n",
      "Xh3Xi7          YH9             -1.1858141270000055  -11.85814127         0.3030303030303033  \n",
      "XfXi2           LaH11           -0.7114168574999998  -8.53700229          0.3636363636363624  \n",
      "XgXi            CeH9            -0.9133458394999997  -9.133458395         0.30303030303030287 \n",
      "Xi              H2              -1.209752815         -1.209752815         0.03030303030303161 \n",
      "   e_above_hull =   0.080347 ev/atom\n",
      "formed_enthalpy =  -0.029367 ev/atom\n",
      "\n",
      "------------dst_entry[-1]=LaCeYH30------------\n",
      "formula_trans   formula         energy_per_atom      energy               ratio               \n",
      "Xh3Xi7          YH9             -1.1858141270000055  -11.85814127         0.3030303030303033  \n",
      "XfXi2           LaH11           -0.7114168574999998  -8.53700229          0.3636363636363624  \n",
      "XgXi            CeH9            -0.9133458394999997  -9.133458395         0.30303030303030287 \n",
      "Xi              H2              -1.209752815         -1.209752815         0.03030303030303161 \n",
      "   e_above_hull =   0.054183 ev/atom\n",
      "formed_enthalpy =  -0.055531 ev/atom\n"
     ]
    }
   ],
   "source": [
    "convexhull_data = pd.read_table(\"nnconvexhull_LaYCeH10.csv\", header=0, sep=',')\n",
    "ini_entries = []\n",
    "for idx, row in convexhull_data.iterrows():\n",
    "    comp = Composition(row['formula'])\n",
    "    num_at = comp.num_atoms\n",
    "    enth = row['enthalpy']*num_at\n",
    "    entry_id = row['Number']\n",
    "    _entry = PDEntry(comp, enth, attribute={\"entry_id\":entry_id})\n",
    "    #print(_entry.attribute['entry_id'])\n",
    "    ini_entries.append(_entry)\n",
    "\n",
    "endnotes=['LaH3', 'CeH4', 'YH2', 'H']\n",
    "terminal_comps = [Composition(formula) for formula in endnotes]\n",
    "ini_pd = CompoundPhaseDiagram(\n",
    "    entries = ini_entries,\n",
    "    terminal_compositions = terminal_comps,\n",
    "    normalize_terminal_compositions = True,\n",
    "    )\n",
    "    \n",
    "dst_entry_index = [-1, -2, -3]\n",
    "for dei in dst_entry_index:\n",
    "    dei = int(dei)\n",
    "    dst_entry = ini_pd.entries[dei]\n",
    "    print(f\"\\n------------dst_entry[{-1}]={dst_entry.original_entry.composition.reduced_formula}------------\")\n",
    "\n",
    "    decomp_path = ini_pd.get_decomp_and_e_above_hull(dst_entry)[0]\n",
    "    decomp_eabovehull = ini_pd.get_decomp_and_e_above_hull(dst_entry)[1]\n",
    "    form_energy = ini_pd.get_form_energy_per_atom(dst_entry)\n",
    "    print(\"{:<15} {:<15} {:<20} {:<20} {:<20}\".format('formula_trans', 'formula', 'energy_per_atom', 'energy', 'ratio'))\n",
    "    for key, value in decomp_path.items():\n",
    "        print(\"{:<15} {:<15} {:<20} {:<20} {:<20}\".format(key.composition.reduced_formula, key.original_entry.composition.reduced_formula, key.energy_per_atom, key.energy, value))\n",
    "    print(\"   e_above_hull = {:>10.6f} ev/atom\".format(decomp_eabovehull))\n",
    "    print(\"formed_enthalpy = {:>10.6f} ev/atom\".format(form_energy))"
   ]
  },
  {
   "cell_type": "code",
   "execution_count": 60,
   "metadata": {},
   "outputs": [
    {
     "data": {
      "text/plain": [
       "-0.7649840625568196"
      ]
     },
     "execution_count": 60,
     "metadata": {},
     "output_type": "execute_result"
    }
   ],
   "source": [
    "-1.1858141270000002*0.037878787878793396  -0.7114168574999991*0.8181818181818152  -1.1289043550000004*0.030303030303028056   -0.9133458395000075* 0.11363636363636302"
   ]
  },
  {
   "cell_type": "code",
   "execution_count": 61,
   "metadata": {},
   "outputs": [
    {
     "data": {
      "text/plain": [
       "-0.054366893920455905"
      ]
     },
     "execution_count": 61,
     "metadata": {},
     "output_type": "execute_result"
    }
   ],
   "source": [
    "-0.7649840625568196-(-0.7106171686363637)"
   ]
  },
  {
   "cell_type": "code",
   "execution_count": 66,
   "metadata": {},
   "outputs": [
    {
     "data": {
      "text/plain": [
       "76"
      ]
     },
     "execution_count": 66,
     "metadata": {},
     "output_type": "execute_result"
    }
   ],
   "source": [
    "6+3+5+62"
   ]
  },
  {
   "cell_type": "code",
   "execution_count": 72,
   "metadata": {},
   "outputs": [
    {
     "data": {
      "text/plain": [
       "67"
      ]
     },
     "execution_count": 72,
     "metadata": {},
     "output_type": "execute_result"
    }
   ],
   "source": [
    "7+1+5+54"
   ]
  },
  {
   "cell_type": "code",
   "execution_count": 73,
   "metadata": {},
   "outputs": [
    {
     "data": {
      "text/plain": [
       "69"
      ]
     },
     "execution_count": 73,
     "metadata": {},
     "output_type": "execute_result"
    }
   ],
   "source": [
    "54+15"
   ]
  },
  {
   "cell_type": "code",
   "execution_count": 75,
   "metadata": {},
   "outputs": [
    {
     "data": {
      "text/plain": [
       "81.0"
      ]
     },
     "execution_count": 75,
     "metadata": {},
     "output_type": "execute_result"
    }
   ],
   "source": [
    "66+4.5+1.5+9"
   ]
  },
  {
   "cell_type": "code",
   "execution_count": 76,
   "metadata": {},
   "outputs": [
    {
     "data": {
      "text/plain": [
       "14.0"
      ]
     },
     "execution_count": 76,
     "metadata": {},
     "output_type": "execute_result"
    }
   ],
   "source": [
    "112/8"
   ]
  },
  {
   "cell_type": "code",
   "execution_count": 77,
   "metadata": {},
   "outputs": [
    {
     "data": {
      "text/plain": [
       "69"
      ]
     },
     "execution_count": 77,
     "metadata": {},
     "output_type": "execute_result"
    }
   ],
   "source": [
    "7+7+1+9*6"
   ]
  },
  {
   "cell_type": "code",
   "execution_count": 78,
   "metadata": {},
   "outputs": [
    {
     "data": {
      "text/plain": [
       "72"
      ]
     },
     "execution_count": 78,
     "metadata": {},
     "output_type": "execute_result"
    }
   ],
   "source": [
    "64+6+1+1"
   ]
  },
  {
   "cell_type": "code",
   "execution_count": 79,
   "metadata": {},
   "outputs": [
    {
     "data": {
      "text/plain": [
       "70"
      ]
     },
     "execution_count": 79,
     "metadata": {},
     "output_type": "execute_result"
    }
   ],
   "source": [
    "62+6+1+1"
   ]
  },
  {
   "cell_type": "code",
   "execution_count": 80,
   "metadata": {},
   "outputs": [
    {
     "data": {
      "text/plain": [
       "88"
      ]
     },
     "execution_count": 80,
     "metadata": {},
     "output_type": "execute_result"
    }
   ],
   "source": [
    "18+3+3+64"
   ]
  },
  {
   "cell_type": "code",
   "execution_count": 81,
   "metadata": {},
   "outputs": [
    {
     "data": {
      "text/plain": [
       "67"
      ]
     },
     "execution_count": 81,
     "metadata": {},
     "output_type": "execute_result"
    }
   ],
   "source": [
    "54+7+1+5"
   ]
  },
  {
   "cell_type": "code",
   "execution_count": null,
   "metadata": {},
   "outputs": [],
   "source": [
    "-0.9133458395000075*"
   ]
  }
 ],
 "metadata": {
  "kernelspec": {
   "display_name": "cage",
   "language": "python",
   "name": "python3"
  },
  "language_info": {
   "codemirror_mode": {
    "name": "ipython",
    "version": 3
   },
   "file_extension": ".py",
   "mimetype": "text/x-python",
   "name": "python",
   "nbconvert_exporter": "python",
   "pygments_lexer": "ipython3",
   "version": "3.9.19"
  },
  "orig_nbformat": 4,
  "vscode": {
   "interpreter": {
    "hash": "518e6eb0e0b34c3a86fea754f5ab73bf747fee0214e686c8e77b238e7cea556a"
   }
  }
 },
 "nbformat": 4,
 "nbformat_minor": 2
}
