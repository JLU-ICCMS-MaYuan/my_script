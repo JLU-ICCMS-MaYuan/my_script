{
 "cells": [
  {
   "cell_type": "code",
   "execution_count": null,
   "metadata": {},
   "outputs": [],
   "source": [
    "import numpy as np\n",
    "pi = np.pi"
   ]
  }
 ],
 "metadata": {
  "kernelspec": {
   "display_name": "Python 3.9.12 ('cage')",
   "language": "python",
   "name": "python3"
  },
  "language_info": {
   "name": "python",
   "version": "3.9.12"
  },
  "orig_nbformat": 4,
  "vscode": {
   "interpreter": {
    "hash": "6c043e5f6c5225f31a46d3404ee56ce8801964270fa31b3b8fa20ddd1b1024c4"
   }
  }
 },
 "nbformat": 4,
 "nbformat_minor": 2
}
