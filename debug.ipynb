{
 "cells": [
  {
   "cell_type": "code",
   "execution_count": null,
   "metadata": {},
   "outputs": [
    {
     "ename": "",
     "evalue": "",
     "output_type": "error",
     "traceback": [
      "\u001b[1;31mPython 3.9.12 ('cage') 需要安装 ipykernel。\n",
      "Run the following command to install 'ipykernel' into the Python environment. \n",
      "Command: 'conda install -n cage ipykernel --update-deps --force-reinstall'"
     ]
    }
   ],
   "source": [
    "import itertools\n",
    "\n",
    "wps = [\"2a\", \"2b\", \"2c\", \"2d\", \"4e\"]\n",
    "for i in itertools.product('ab','cd',repeat = 2):\n",
    "    print(i)"
   ]
  },
  {
   "cell_type": "code",
   "execution_count": null,
   "metadata": {},
   "outputs": [],
   "source": []
  }
 ],
 "metadata": {
  "kernelspec": {
   "display_name": "Python 3.9.12 ('cage')",
   "language": "python",
   "name": "python3"
  },
  "language_info": {
   "name": "python",
   "version": "3.9.12"
  },
  "orig_nbformat": 4,
  "vscode": {
   "interpreter": {
    "hash": "6c043e5f6c5225f31a46d3404ee56ce8801964270fa31b3b8fa20ddd1b1024c4"
   }
  }
 },
 "nbformat": 4,
 "nbformat_minor": 2
}
