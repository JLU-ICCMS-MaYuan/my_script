{
 "cells": [
  {
   "cell_type": "code",
   "execution_count": null,
   "metadata": {},
   "outputs": [],
   "source": [
    "# 字符串作为变量名\n",
    "ls = ['A', 'B', 'C']\n",
    "for i in ls:\n",
    "    globals()[i] = [1,2,3]\n",
    "    \n",
    "print(A,B,C)"
   ]
  },
  {
   "cell_type": "code",
   "execution_count": 3,
   "metadata": {},
   "outputs": [
    {
     "name": "stdout",
     "output_type": "stream",
     "text": [
      "['run_relax'] = True\n"
     ]
    }
   ],
   "source": [
    "import inspect\n",
    "final_list = []\n",
    "def retrieve_name(var):\n",
    "    callers_local_vars = inspect.currentframe().f_back.f_locals.items()\n",
    "    for var_name, var_val in callers_local_vars:\n",
    "        if var_val is var:\n",
    "            final_list.append(var_name)\n",
    "    return  final_list\n",
    "\n",
    "run_relax = True\n",
    "\n",
    "i1 = retrieve_name(run_relax)\n",
    "print('%s ='%i1, run_relax)"
   ]
  },
  {
   "cell_type": "code",
   "execution_count": 7,
   "metadata": {},
   "outputs": [
    {
     "name": "stdout",
     "output_type": "stream",
     "text": [
      "run_relax = True\n"
     ]
    }
   ],
   "source": [
    "import inspect\n",
    "def retrieve_name(var):\n",
    "    callers_local_vars = inspect.currentframe().f_back.f_locals.items()\n",
    "    return [var_name for var_name, var_val in callers_local_vars if var_val is var]\n",
    "\n",
    "i1 = retrieve_name(run_relax)[0]\n",
    "print('%s ='%i1, run_relax)"
   ]
  },
  {
   "cell_type": "code",
   "execution_count": null,
   "metadata": {},
   "outputs": [],
   "source": []
  }
 ],
 "metadata": {
  "kernelspec": {
   "display_name": "Python 3.9.12 ('cage')",
   "language": "python",
   "name": "python3"
  },
  "language_info": {
   "codemirror_mode": {
    "name": "ipython",
    "version": 3
   },
   "file_extension": ".py",
   "mimetype": "text/x-python",
   "name": "python",
   "nbconvert_exporter": "python",
   "pygments_lexer": "ipython3",
   "version": "3.9.12"
  },
  "orig_nbformat": 4,
  "vscode": {
   "interpreter": {
    "hash": "7be20002225008e0f15013c8d0c2132ea9c25a6a6eac33f7f3eb51d43b2fffb6"
   }
  }
 },
 "nbformat": 4,
 "nbformat_minor": 2
}
