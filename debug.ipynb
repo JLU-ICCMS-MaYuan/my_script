{
 "cells": [
  {
   "cell_type": "code",
   "execution_count": 2,
   "metadata": {},
   "outputs": [],
   "source": [
    "from ase.io import read"
   ]
  },
  {
   "cell_type": "code",
   "execution_count": 3,
   "metadata": {},
   "outputs": [
    {
     "data": {
      "text/plain": [
       "Atoms(symbols='Ca2H12', pbc=True, cell=[3.5009999275, 3.5009999275, 3.5009999275])"
      ]
     },
     "execution_count": 3,
     "metadata": {},
     "output_type": "execute_result"
    }
   ],
   "source": [
    "atoms = read(\"./test/POSCAR\")\n",
    "atoms"
   ]
  },
  {
   "cell_type": "code",
   "execution_count": 52,
   "metadata": {},
   "outputs": [
    {
     "data": {
      "text/plain": [
       "'GXMGRX,MR'"
      ]
     },
     "execution_count": 52,
     "metadata": {},
     "output_type": "execute_result"
    }
   ],
   "source": [
    "ilat = atoms.cell.get_bravais_lattice()\n",
    "path_lable = lat.special_path\n",
    "path_lable"
   ]
  },
  {
   "cell_type": "code",
   "execution_count": 50,
   "metadata": {},
   "outputs": [
    {
     "name": "stdout",
     "output_type": "stream",
     "text": [
      "['G', 'X', 'M', 'G', 'R', 'X']\n",
      "[('G', [0, 0, 0]), ('X', [0.0, 0.5, 0.0]), ('M', [0.5, 0.5, 0.0]), ('G', [0, 0, 0]), ('R', [0.5, 0.5, 0.5]), ('X', [0.0, 0.5, 0.0])]\n"
     ]
    }
   ],
   "source": [
    "from itertools import chain\n",
    "high_symmetry_type = \"more_points\"\n",
    "if \",\" in path_lable:\n",
    "    _path_lable_list = [[ p for p in pp] for pp in path_lable.split(\",\")]\n",
    "    if high_symmetry_type == \"all_points\":\n",
    "        path_lable_list = list(chain.from_iterable(_path_lable_list))\n",
    "        print(path_lable_list)\n",
    "    elif high_symmetry_type == \"more_points\":\n",
    "        path_lable_list = max(_path_lable_list, key=len)\n",
    "        print(path_lable_list)\n",
    "else:\n",
    "    path_lable_list = [ pp for pp in path_lable]\n",
    "    print(path_lable_list)\n",
    "\n",
    "special_points  = lat.get_special_points()\n",
    "path_coords     = [list(special_points[point_name]) for point_name in path_lable_list]\n",
    "path_name_coords= list(zip(path_lable_list, path_coords))\n",
    "print(path_name_coords)\n",
    "inserted_points_num = None\n"
   ]
  },
  {
   "cell_type": "code",
   "execution_count": 45,
   "metadata": {},
   "outputs": [
    {
     "name": "stdout",
     "output_type": "stream",
     "text": [
      "{'G': array([0, 0, 0]), 'M': array([0.5, 0.5, 0. ]), 'R': array([0.5, 0.5, 0.5]), 'X': array([0. , 0.5, 0. ])}\n"
     ]
    }
   ],
   "source": [
    "\n",
    "special_points  = lat.get_special_points()\n",
    "print(special_points)"
   ]
  },
  {
   "cell_type": "code",
   "execution_count": null,
   "metadata": {},
   "outputs": [],
   "source": []
  }
 ],
 "metadata": {
  "kernelspec": {
   "display_name": "Python 3.9.12 ('cage')",
   "language": "python",
   "name": "python3"
  },
  "language_info": {
   "codemirror_mode": {
    "name": "ipython",
    "version": 3
   },
   "file_extension": ".py",
   "mimetype": "text/x-python",
   "name": "python",
   "nbconvert_exporter": "python",
   "pygments_lexer": "ipython3",
   "version": "3.9.12"
  },
  "orig_nbformat": 4,
  "vscode": {
   "interpreter": {
    "hash": "7be20002225008e0f15013c8d0c2132ea9c25a6a6eac33f7f3eb51d43b2fffb6"
   }
  }
 },
 "nbformat": 4,
 "nbformat_minor": 2
}
