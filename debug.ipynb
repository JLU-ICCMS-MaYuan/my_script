{
 "cells": [
  {
   "cell_type": "code",
   "execution_count": 11,
   "metadata": {},
   "outputs": [],
   "source": [
    "from ase.atoms import Atoms\n",
    "from ase.io import read, write"
   ]
  },
  {
   "cell_type": "code",
   "execution_count": 16,
   "metadata": {},
   "outputs": [
    {
     "data": {
      "text/plain": [
       "CUB(a=8.4869859270951515384)"
      ]
     },
     "execution_count": 16,
     "metadata": {},
     "output_type": "execute_result"
    }
   ],
   "source": [
    "atom = read(\"./test/229/step_1/POSCAR_1\")\n",
    "# 非常典型的一个结构 属于 及其不像笼型结构的化合物\n",
    "atom.arrays['positions'][0]\n",
    "atom.cell."
   ]
  },
  {
   "cell_type": "code",
   "execution_count": 13,
   "metadata": {},
   "outputs": [
    {
     "ename": "KeyboardInterrupt",
     "evalue": "",
     "output_type": "error",
     "traceback": [
      "\u001b[0;31m---------------------------------------------------------------------------\u001b[0m",
      "\u001b[0;31mKeyboardInterrupt\u001b[0m                         Traceback (most recent call last)",
      "\u001b[1;32m/Users/macbookpro/my_code/my_script/debug.ipynb Cell 3\u001b[0m in \u001b[0;36m<cell line: 3>\u001b[0;34m()\u001b[0m\n\u001b[1;32m      <a href='vscode-notebook-cell:/Users/macbookpro/my_code/my_script/debug.ipynb#W2sZmlsZQ%3D%3D?line=0'>1</a>\u001b[0m \u001b[39mfrom\u001b[39;00m \u001b[39mpyxtal\u001b[39;00m \u001b[39mimport\u001b[39;00m pyxtal\n\u001b[1;32m      <a href='vscode-notebook-cell:/Users/macbookpro/my_code/my_script/debug.ipynb#W2sZmlsZQ%3D%3D?line=1'>2</a>\u001b[0m py \u001b[39m=\u001b[39m pyxtal()\n\u001b[0;32m----> <a href='vscode-notebook-cell:/Users/macbookpro/my_code/my_script/debug.ipynb#W2sZmlsZQ%3D%3D?line=2'>3</a>\u001b[0m py\u001b[39m.\u001b[39;49mfrom_random(\u001b[39m3\u001b[39;49m, \u001b[39m225\u001b[39;49m, (\u001b[39m\"\u001b[39;49m\u001b[39mAr\u001b[39;49m\u001b[39m\"\u001b[39;49m,\u001b[39m\"\u001b[39;49m\u001b[39mNe\u001b[39;49m\u001b[39m\"\u001b[39;49m,\u001b[39m\"\u001b[39;49m\u001b[39mH\u001b[39;49m\u001b[39m\"\u001b[39;49m), (\u001b[39m4\u001b[39;49m, \u001b[39m4\u001b[39;49m, \u001b[39m48\u001b[39;49m), sites\u001b[39m=\u001b[39;49m([\u001b[39m'\u001b[39;49m\u001b[39m4a\u001b[39;49m\u001b[39m'\u001b[39;49m], [\u001b[39m'\u001b[39;49m\u001b[39m4a\u001b[39;49m\u001b[39m'\u001b[39;49m], [\u001b[39m'\u001b[39;49m\u001b[39m48h\u001b[39;49m\u001b[39m'\u001b[39;49m]))\n\u001b[1;32m      <a href='vscode-notebook-cell:/Users/macbookpro/my_code/my_script/debug.ipynb#W2sZmlsZQ%3D%3D?line=3'>4</a>\u001b[0m \u001b[39mprint\u001b[39m(py)\n",
      "File \u001b[0;32m~/miniconda3/envs/cage/lib/python3.9/site-packages/pyxtal/__init__.py:310\u001b[0m, in \u001b[0;36mpyxtal.from_random\u001b[0;34m(self, dim, group, species, numIons, factor, thickness, area, lattice, sites, conventional, t_factor, max_count, torsions, force_pass, block, num_block, seed, tm, use_hall)\u001b[0m\n\u001b[1;32m    292\u001b[0m     struc \u001b[39m=\u001b[39m block_crystal(dim,\n\u001b[1;32m    293\u001b[0m                           group,\n\u001b[1;32m    294\u001b[0m                           species,\n\u001b[0;32m   (...)\u001b[0m\n\u001b[1;32m    307\u001b[0m                           use_hall \u001b[39m=\u001b[39m use_hall,\n\u001b[1;32m    308\u001b[0m                           )\n\u001b[1;32m    309\u001b[0m \u001b[39melse\u001b[39;00m:\n\u001b[0;32m--> 310\u001b[0m     struc \u001b[39m=\u001b[39m random_crystal(dim,\n\u001b[1;32m    311\u001b[0m                            group,\n\u001b[1;32m    312\u001b[0m                            species,\n\u001b[1;32m    313\u001b[0m                            numIons,\n\u001b[1;32m    314\u001b[0m                            factor,\n\u001b[1;32m    315\u001b[0m                            thickness,\n\u001b[1;32m    316\u001b[0m                            area,\n\u001b[1;32m    317\u001b[0m                            lattice,\n\u001b[1;32m    318\u001b[0m                            sites,\n\u001b[1;32m    319\u001b[0m                            conventional,\n\u001b[1;32m    320\u001b[0m                            tm,\n\u001b[1;32m    321\u001b[0m                            use_hall \u001b[39m=\u001b[39;49m use_hall,\n\u001b[1;32m    322\u001b[0m                            )\n\u001b[1;32m    323\u001b[0m \u001b[39mif\u001b[39;00m force_pass:\n\u001b[1;32m    324\u001b[0m     quit \u001b[39m=\u001b[39m \u001b[39mTrue\u001b[39;00m\n",
      "File \u001b[0;32m~/miniconda3/envs/cage/lib/python3.9/site-packages/pyxtal/crystal.py:114\u001b[0m, in \u001b[0;36mrandom_crystal.__init__\u001b[0;34m(self, dim, group, species, numIons, factor, thickness, area, lattice, sites, conventional, tm, use_hall)\u001b[0m\n\u001b[1;32m    112\u001b[0m \u001b[39mself\u001b[39m\u001b[39m.\u001b[39mset_volume()\n\u001b[1;32m    113\u001b[0m \u001b[39mself\u001b[39m\u001b[39m.\u001b[39mset_lattice(lattice)\n\u001b[0;32m--> 114\u001b[0m \u001b[39mself\u001b[39;49m\u001b[39m.\u001b[39;49mset_crystal()\n",
      "File \u001b[0;32m~/miniconda3/envs/cage/lib/python3.9/site-packages/pyxtal/crystal.py:249\u001b[0m, in \u001b[0;36mrandom_crystal.set_crystal\u001b[0;34m(self)\u001b[0m\n\u001b[1;32m    247\u001b[0m \u001b[39mfor\u001b[39;00m cycle2 \u001b[39min\u001b[39;00m \u001b[39mrange\u001b[39m(\u001b[39mself\u001b[39m\u001b[39m.\u001b[39mcoord_attempts):\n\u001b[1;32m    248\u001b[0m     \u001b[39mself\u001b[39m\u001b[39m.\u001b[39mcycle2 \u001b[39m=\u001b[39m cycle2\n\u001b[0;32m--> 249\u001b[0m     output \u001b[39m=\u001b[39m \u001b[39mself\u001b[39;49m\u001b[39m.\u001b[39;49m_set_coords()\n\u001b[1;32m    251\u001b[0m     \u001b[39mif\u001b[39;00m output:\n\u001b[1;32m    252\u001b[0m         \u001b[39mself\u001b[39m\u001b[39m.\u001b[39matom_sites \u001b[39m=\u001b[39m output\n",
      "File \u001b[0;32m~/miniconda3/envs/cage/lib/python3.9/site-packages/pyxtal/crystal.py:269\u001b[0m, in \u001b[0;36mrandom_crystal._set_coords\u001b[0;34m(self)\u001b[0m\n\u001b[1;32m    267\u001b[0m \u001b[39m# generate coordinates for each ion type in turn\u001b[39;00m\n\u001b[1;32m    268\u001b[0m \u001b[39mfor\u001b[39;00m numIon, specie \u001b[39min\u001b[39;00m \u001b[39mzip\u001b[39m(\u001b[39mself\u001b[39m\u001b[39m.\u001b[39mnumIons, \u001b[39mself\u001b[39m\u001b[39m.\u001b[39mspecies):\n\u001b[0;32m--> 269\u001b[0m     output \u001b[39m=\u001b[39m \u001b[39mself\u001b[39;49m\u001b[39m.\u001b[39;49m_set_ion_wyckoffs(numIon, specie, cell, wyks)\n\u001b[1;32m    270\u001b[0m     \u001b[39mif\u001b[39;00m output \u001b[39mis\u001b[39;00m \u001b[39mnot\u001b[39;00m \u001b[39mNone\u001b[39;00m:\n\u001b[1;32m    271\u001b[0m         wyks\u001b[39m.\u001b[39mextend(output)\n",
      "File \u001b[0;32m~/miniconda3/envs/cage/lib/python3.9/site-packages/pyxtal/crystal.py:325\u001b[0m, in \u001b[0;36mrandom_crystal._set_ion_wyckoffs\u001b[0;34m(self, numIon, specie, cell, wyks)\u001b[0m\n\u001b[1;32m    323\u001b[0m     new_site \u001b[39m=\u001b[39m atom_site(wp, site[key], specie)\n\u001b[1;32m    324\u001b[0m \u001b[39melse\u001b[39;00m:\n\u001b[0;32m--> 325\u001b[0m     wp \u001b[39m=\u001b[39m choose_wyckoff(\u001b[39mself\u001b[39;49m\u001b[39m.\u001b[39;49mgroup, numIon\u001b[39m-\u001b[39;49mnumIon_added, site, \u001b[39mself\u001b[39;49m\u001b[39m.\u001b[39;49mdim)\n\u001b[1;32m    326\u001b[0m     \u001b[39mif\u001b[39;00m wp \u001b[39mis\u001b[39;00m \u001b[39mnot\u001b[39;00m \u001b[39mFalse\u001b[39;00m:\n\u001b[1;32m    327\u001b[0m         \u001b[39m# Generate a list of coords from ops\u001b[39;00m\n\u001b[1;32m    328\u001b[0m         mult \u001b[39m=\u001b[39m wp\u001b[39m.\u001b[39mmultiplicity \u001b[39m# remember the original multiplicity\u001b[39;00m\n",
      "File \u001b[0;32m~/miniconda3/envs/cage/lib/python3.9/site-packages/pyxtal/symmetry.py:2159\u001b[0m, in \u001b[0;36mchoose_wyckoff\u001b[0;34m(G, number, site, dim)\u001b[0m\n\u001b[1;32m   2157\u001b[0m     \u001b[39melse\u001b[39;00m:\n\u001b[1;32m   2158\u001b[0m         hn \u001b[39m=\u001b[39m \u001b[39mNone\u001b[39;00m\n\u001b[0;32m-> 2159\u001b[0m     \u001b[39mreturn\u001b[39;00m Wyckoff_position\u001b[39m.\u001b[39;49mfrom_group_and_letter(number, site, dim, hn\u001b[39m=\u001b[39;49mhn)\n\u001b[1;32m   2160\u001b[0m \u001b[39melse\u001b[39;00m:\n\u001b[1;32m   2161\u001b[0m     wyckoffs_organized \u001b[39m=\u001b[39m G\u001b[39m.\u001b[39mwyckoffs_organized\n",
      "File \u001b[0;32m~/miniconda3/envs/cage/lib/python3.9/site-packages/pyxtal/symmetry.py:1257\u001b[0m, in \u001b[0;36mWyckoff_position.from_group_and_letter\u001b[0;34m(group, letter, dim, style, hn)\u001b[0m\n\u001b[1;32m   1255\u001b[0m index \u001b[39m=\u001b[39m index_from_letter(letter, ops_all, dim\u001b[39m=\u001b[39mdim)\n\u001b[1;32m   1256\u001b[0m \u001b[39mif\u001b[39;00m hn \u001b[39mis\u001b[39;00m \u001b[39mnot\u001b[39;00m \u001b[39mNone\u001b[39;00m:\n\u001b[0;32m-> 1257\u001b[0m     wp \u001b[39m=\u001b[39m Wyckoff_position\u001b[39m.\u001b[39;49mfrom_group_and_index(hn, index, dim, use_hall\u001b[39m=\u001b[39;49m\u001b[39mTrue\u001b[39;49;00m, wyckoffs\u001b[39m=\u001b[39;49mops_all)\n\u001b[1;32m   1258\u001b[0m \u001b[39melse\u001b[39;00m:\n\u001b[1;32m   1259\u001b[0m     wp \u001b[39m=\u001b[39m Wyckoff_position\u001b[39m.\u001b[39mfrom_group_and_index(group, index, dim, style\u001b[39m=\u001b[39mstyle, wyckoffs\u001b[39m=\u001b[39mops_all)\n",
      "File \u001b[0;32m~/miniconda3/envs/cage/lib/python3.9/site-packages/pyxtal/symmetry.py:1305\u001b[0m, in \u001b[0;36mWyckoff_position.from_group_and_index\u001b[0;34m(group, index, dim, use_hall, style, wyckoffs)\u001b[0m\n\u001b[1;32m   1296\u001b[0m     PBC \u001b[39m=\u001b[39m [\u001b[39m0\u001b[39m, \u001b[39m0\u001b[39m, \u001b[39m1\u001b[39m]\n\u001b[1;32m   1298\u001b[0m \u001b[39mif\u001b[39;00m wyckoffs \u001b[39mis\u001b[39;00m \u001b[39mNone\u001b[39;00m: wyckoffs \u001b[39m=\u001b[39m get_wyckoffs(number, dim\u001b[39m=\u001b[39mdim)\n\u001b[1;32m   1300\u001b[0m wpdict \u001b[39m=\u001b[39m {\n\u001b[1;32m   1301\u001b[0m           \u001b[39m\"\u001b[39m\u001b[39mindex\u001b[39m\u001b[39m\"\u001b[39m: index,\n\u001b[1;32m   1302\u001b[0m           \u001b[39m\"\u001b[39m\u001b[39mletter\u001b[39m\u001b[39m\"\u001b[39m: letter_from_index(index, wyckoffs, dim\u001b[39m=\u001b[39mdim),\n\u001b[1;32m   1303\u001b[0m           \u001b[39m\"\u001b[39m\u001b[39mops\u001b[39m\u001b[39m\"\u001b[39m: wyckoffs[index],\n\u001b[1;32m   1304\u001b[0m           \u001b[39m\"\u001b[39m\u001b[39mmultiplicity\u001b[39m\u001b[39m\"\u001b[39m: \u001b[39mlen\u001b[39m(wyckoffs[index]),\n\u001b[0;32m-> 1305\u001b[0m           \u001b[39m\"\u001b[39m\u001b[39msymmetry\u001b[39m\u001b[39m\"\u001b[39m:  get_wyckoff_symmetry(number, dim\u001b[39m=\u001b[39;49mdim)[index],\n\u001b[1;32m   1306\u001b[0m           \u001b[39m#\"generators\": get_generators(number, dim=dim)[index],\u001b[39;00m\n\u001b[1;32m   1307\u001b[0m           \u001b[39m\"\u001b[39m\u001b[39mPBC\u001b[39m\u001b[39m\"\u001b[39m: PBC,\n\u001b[1;32m   1308\u001b[0m           \u001b[39m\"\u001b[39m\u001b[39mdim\u001b[39m\u001b[39m\"\u001b[39m: dim,\n\u001b[1;32m   1309\u001b[0m           \u001b[39m\"\u001b[39m\u001b[39mnumber\u001b[39m\u001b[39m\"\u001b[39m: number,\n\u001b[1;32m   1310\u001b[0m           \u001b[39m\"\u001b[39m\u001b[39mP\u001b[39m\u001b[39m\"\u001b[39m: P,\n\u001b[1;32m   1311\u001b[0m           \u001b[39m\"\u001b[39m\u001b[39mP1\u001b[39m\u001b[39m\"\u001b[39m: P1,\n\u001b[1;32m   1312\u001b[0m           \u001b[39m\"\u001b[39m\u001b[39mhall_number\u001b[39m\u001b[39m\"\u001b[39m: hall_number,\n\u001b[1;32m   1313\u001b[0m           \u001b[39m\"\u001b[39m\u001b[39msymbol\u001b[39m\u001b[39m\"\u001b[39m: symbol,\n\u001b[1;32m   1314\u001b[0m          }\n\u001b[1;32m   1315\u001b[0m \u001b[39mreturn\u001b[39;00m Wyckoff_position\u001b[39m.\u001b[39mfrom_dict(wpdict)\n",
      "File \u001b[0;32m~/miniconda3/envs/cage/lib/python3.9/site-packages/pyxtal/symmetry.py:2894\u001b[0m, in \u001b[0;36mget_wyckoff_symmetry\u001b[0;34m(num, dim)\u001b[0m\n\u001b[1;32m   2892\u001b[0m                 op \u001b[39m=\u001b[39m SymmOp(z)\n\u001b[1;32m   2893\u001b[0m             \u001b[39melse\u001b[39;00m:\n\u001b[0;32m-> 2894\u001b[0m                 op \u001b[39m=\u001b[39m SymmOp\u001b[39m.\u001b[39;49mfrom_xyz_string(z)\n\u001b[1;32m   2895\u001b[0m             symmetry[\u001b[39m-\u001b[39m\u001b[39m1\u001b[39m][\u001b[39m-\u001b[39m\u001b[39m1\u001b[39m]\u001b[39m.\u001b[39mappend(op)\n\u001b[1;32m   2896\u001b[0m \u001b[39mreturn\u001b[39;00m symmetry\n",
      "File \u001b[0;32m~/miniconda3/envs/cage/lib/python3.9/site-packages/pymatgen/core/operations.py:426\u001b[0m, in \u001b[0;36mSymmOp.from_xyz_string\u001b[0;34m(xyz_string)\u001b[0m\n\u001b[1;32m    424\u001b[0m trans \u001b[39m=\u001b[39m np\u001b[39m.\u001b[39mzeros(\u001b[39m3\u001b[39m)\n\u001b[1;32m    425\u001b[0m toks \u001b[39m=\u001b[39m xyz_string\u001b[39m.\u001b[39mstrip()\u001b[39m.\u001b[39mreplace(\u001b[39m\"\u001b[39m\u001b[39m \u001b[39m\u001b[39m\"\u001b[39m, \u001b[39m\"\u001b[39m\u001b[39m\"\u001b[39m)\u001b[39m.\u001b[39mlower()\u001b[39m.\u001b[39msplit(\u001b[39m\"\u001b[39m\u001b[39m,\u001b[39m\u001b[39m\"\u001b[39m)\n\u001b[0;32m--> 426\u001b[0m re_rot \u001b[39m=\u001b[39m re\u001b[39m.\u001b[39;49mcompile(\u001b[39mr\u001b[39;49m\u001b[39m\"\u001b[39;49m\u001b[39m([+-]?)([\u001b[39;49m\u001b[39m\\\u001b[39;49m\u001b[39md\u001b[39;49m\u001b[39m\\\u001b[39;49m\u001b[39m.]*)/?([\u001b[39;49m\u001b[39m\\\u001b[39;49m\u001b[39md\u001b[39;49m\u001b[39m\\\u001b[39;49m\u001b[39m.]*)([x-z])\u001b[39;49m\u001b[39m\"\u001b[39;49m)\n\u001b[1;32m    427\u001b[0m re_trans \u001b[39m=\u001b[39m re\u001b[39m.\u001b[39mcompile(\u001b[39mr\u001b[39m\u001b[39m\"\u001b[39m\u001b[39m([+-]?)([\u001b[39m\u001b[39m\\\u001b[39m\u001b[39md\u001b[39m\u001b[39m\\\u001b[39m\u001b[39m.]+)/?([\u001b[39m\u001b[39m\\\u001b[39m\u001b[39md\u001b[39m\u001b[39m\\\u001b[39m\u001b[39m.]*)(?![x-z])\u001b[39m\u001b[39m\"\u001b[39m)\n\u001b[1;32m    428\u001b[0m \u001b[39mfor\u001b[39;00m i, tok \u001b[39min\u001b[39;00m \u001b[39menumerate\u001b[39m(toks):\n\u001b[1;32m    429\u001b[0m     \u001b[39m# build the rotation matrix\u001b[39;00m\n",
      "File \u001b[0;32m~/miniconda3/envs/cage/lib/python3.9/re.py:252\u001b[0m, in \u001b[0;36mcompile\u001b[0;34m(pattern, flags)\u001b[0m\n\u001b[1;32m    250\u001b[0m \u001b[39mdef\u001b[39;00m \u001b[39mcompile\u001b[39m(pattern, flags\u001b[39m=\u001b[39m\u001b[39m0\u001b[39m):\n\u001b[1;32m    251\u001b[0m     \u001b[39m\"\u001b[39m\u001b[39mCompile a regular expression pattern, returning a Pattern object.\u001b[39m\u001b[39m\"\u001b[39m\n\u001b[0;32m--> 252\u001b[0m     \u001b[39mreturn\u001b[39;00m _compile(pattern, flags)\n",
      "File \u001b[0;32m~/miniconda3/envs/cage/lib/python3.9/re.py:294\u001b[0m, in \u001b[0;36m_compile\u001b[0;34m(pattern, flags)\u001b[0m\n\u001b[1;32m    292\u001b[0m     flags \u001b[39m=\u001b[39m flags\u001b[39m.\u001b[39mvalue\n\u001b[1;32m    293\u001b[0m \u001b[39mtry\u001b[39;00m:\n\u001b[0;32m--> 294\u001b[0m     \u001b[39mreturn\u001b[39;00m _cache[\u001b[39mtype\u001b[39;49m(pattern), pattern, flags]\n\u001b[1;32m    295\u001b[0m \u001b[39mexcept\u001b[39;00m \u001b[39mKeyError\u001b[39;00m:\n\u001b[1;32m    296\u001b[0m     \u001b[39mpass\u001b[39;00m\n",
      "\u001b[0;31mKeyboardInterrupt\u001b[0m: "
     ]
    }
   ],
   "source": [
    "# from pyxtal import pyxtal\n",
    "# py = pyxtal()\n",
    "# py.from_random(3, 225, (\"Ar\",\"Ne\",\"H\"), (4, 4, 48), sites=(['4a'], ['4a'], ['48h']))\n",
    "# print(py)"
   ]
  },
  {
   "cell_type": "code",
   "execution_count": null,
   "metadata": {},
   "outputs": [
    {
     "data": {
      "text/plain": [
       "'cubic'"
      ]
     },
     "execution_count": 9,
     "metadata": {},
     "output_type": "execute_result"
    }
   ],
   "source": [
    "from re import S\n",
    "from pymatgen.symmetry.groups import SpaceGroup\n",
    "x = SpaceGroup.from_int_number(225).crystal_system\n",
    "x"
   ]
  },
  {
   "cell_type": "code",
   "execution_count": null,
   "metadata": {},
   "outputs": [],
   "source": []
  }
 ],
 "metadata": {
  "kernelspec": {
   "display_name": "Python 3.9.7 ('cage')",
   "language": "python",
   "name": "python3"
  },
  "language_info": {
   "codemirror_mode": {
    "name": "ipython",
    "version": 3
   },
   "file_extension": ".py",
   "mimetype": "text/x-python",
   "name": "python",
   "nbconvert_exporter": "python",
   "pygments_lexer": "ipython3",
   "version": "3.9.7"
  },
  "orig_nbformat": 4,
  "vscode": {
   "interpreter": {
    "hash": "518e6eb0e0b34c3a86fea754f5ab73bf747fee0214e686c8e77b238e7cea556a"
   }
  }
 },
 "nbformat": 4,
 "nbformat_minor": 2
}
